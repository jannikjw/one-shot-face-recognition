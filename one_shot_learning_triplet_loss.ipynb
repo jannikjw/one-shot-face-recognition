{
  "cells": [
    {
      "cell_type": "markdown",
      "metadata": {
        "id": "9TwXdV7BHeoT"
      },
      "source": [
        "## Install Packages"
      ]
    },
    {
      "cell_type": "code",
      "execution_count": 1,
      "metadata": {
        "colab": {
          "base_uri": "https://localhost:8080/"
        },
        "id": "Xpu7yWT8xlz5",
        "outputId": "809d21f8-9ae7-41f4-d617-bcf41db6e50c"
      },
      "outputs": [],
      "source": [
        "# from google.colab import drive\n",
        "# drive.mount('/content/drive')"
      ]
    },
    {
      "cell_type": "code",
      "execution_count": 2,
      "metadata": {
        "colab": {
          "base_uri": "https://localhost:8080/"
        },
        "id": "Uzqksv_eFu9C",
        "outputId": "06f645b1-7b42-4f76-cd9c-58352fe1fda0"
      },
      "outputs": [],
      "source": [
        "# !pip install facenet-pytorch"
      ]
    },
    {
      "cell_type": "code",
      "execution_count": 3,
      "metadata": {
        "id": "YpJrR0U9x8k7"
      },
      "outputs": [],
      "source": [
        "# requirements_file_path = \"/content/drive/MyDrive/Masters/Prep/Projects/OneShot_JPMC/one-shot-face-recognition/src/requirements.txt\"\n",
        "\n",
        "# !cat \"/content/drive/MyDrive/Masters/Prep/Projects/OneShot_JPMC/one-shot-face-recognition/src/requirements.txt\" | xargs -n 1 pip install"
      ]
    },
    {
      "cell_type": "code",
      "execution_count": 4,
      "metadata": {
        "colab": {
          "base_uri": "https://localhost:8080/",
          "height": 508
        },
        "id": "qaGV91DX1SIf",
        "outputId": "41e58374-8636-4077-c5b5-15867d881dfa"
      },
      "outputs": [],
      "source": [
        "from facenet_pytorch import MTCNN, InceptionResnetV1\n",
        "import torch\n",
        "from torch.utils.data import DataLoader\n",
        "from torchvision import datasets\n",
        "from matplotlib import pyplot as plt\n",
        "import seaborn as sns\n",
        "import numpy as np\n",
        "import pandas as pd\n",
        "import os\n",
        "import zipfile \n",
        "import torch\n",
        "from PIL import Image\n",
        "from torch.utils.data import Dataset\n",
        "import torch.optim as optim\n",
        "from torchvision import transforms\n",
        "from sklearn.metrics import accuracy_score\n",
        "import src\n",
        "from tqdm.notebook import tqdm\n",
        "from src.utils.celeba_helper import CelebADataset, CelebAClassifier, save_file_names, CelebADatasetTriplet\n",
        "from src.utils.loss_functions import TripletLoss\n",
        "from imp import reload\n",
        "\n",
        "workers = 0 if os.name == 'nt' else 2"
      ]
    },
    {
      "cell_type": "code",
      "execution_count": 5,
      "metadata": {
        "id": "IjCxN6Q4xkoN"
      },
      "outputs": [],
      "source": [
        "device = torch.device('cuda:0' if torch.cuda.is_available() else 'cpu')"
      ]
    },
    {
      "cell_type": "markdown",
      "metadata": {
        "id": "w7Ta2e8wa3UM"
      },
      "source": [
        "# Define CelebA Dataset and Loader"
      ]
    },
    {
      "cell_type": "code",
      "execution_count": 6,
      "metadata": {
        "id": "hkdQB_ZODfmw"
      },
      "outputs": [
        {
          "name": "stdout",
          "output_type": "stream",
          "text": [
            "Image names size is: 50\n"
          ]
        }
      ],
      "source": [
        "## Load the dataset\n",
        "# Path to directory with all the images\n",
        "img_folder = '../data/img_align_celeba'\n",
        "mapping_file = '../data/identity_CelebA.txt'\n",
        "\n",
        "# Spatial size of training images, images are resized to this size.\n",
        "image_size = 160\n",
        "transform=transforms.Compose([\n",
        "    transforms.Resize(image_size),\n",
        "    transforms.CenterCrop(image_size),\n",
        "    transforms.ToTensor()\n",
        "])\n",
        "\n",
        "# Load the dataset from file and apply transformations\n",
        "celeba_dataset = CelebADatasetTriplet(img_folder, mapping_file, transform)"
      ]
    },
    {
      "cell_type": "code",
      "execution_count": 7,
      "metadata": {
        "id": "dP2V5_HTDaMt"
      },
      "outputs": [],
      "source": [
        "## Create a dataloader\n",
        "# Batch size during training\n",
        "batch_size = 8\n",
        "# Number of workers for the dataloader\n",
        "num_workers = 0 if device.type == 'cuda' else 2\n",
        "# Whether to put fetched data tensors to pinned memory\n",
        "pin_memory = True if device.type == 'cuda' else False\n",
        "\n",
        "celeba_dataloader = torch.utils.data.DataLoader(celeba_dataset,  # type: ignore\n",
        "                                                batch_size=batch_size,\n",
        "                                                num_workers=num_workers,\n",
        "                                                pin_memory=pin_memory,\n",
        "                                                shuffle=False)"
      ]
    },
    {
      "cell_type": "markdown",
      "metadata": {},
      "source": [
        "# FaceNet Training Pipeline"
      ]
    },
    {
      "cell_type": "markdown",
      "metadata": {},
      "source": [
        "## Initializing the resnet model, optimizer and loss function"
      ]
    },
    {
      "cell_type": "code",
      "execution_count": 8,
      "metadata": {},
      "outputs": [],
      "source": [
        "resnet = InceptionResnetV1(pretrained='vggface2').to(device)\n",
        "optimizer = optim.Adam(resnet.parameters(), lr=0.0001)\n",
        "criterion = TripletLoss()"
      ]
    },
    {
      "cell_type": "markdown",
      "metadata": {},
      "source": [
        "## Test before training"
      ]
    },
    {
      "cell_type": "code",
      "execution_count": 9,
      "metadata": {},
      "outputs": [
        {
          "name": "stdout",
          "output_type": "stream",
          "text": [
            "The distance between anchor and positive: 0.7962905168533325\n",
            "The distance between anchor and negative: 1.8107936382293701\n"
          ]
        }
      ],
      "source": [
        "resnet.eval().to(device)\n",
        "\n",
        "test_anchor, test_pos, test_neg, anchor_label = celeba_dataset[1]\n",
        "# test_anchor, test_pos, test_neg, anchor_label = test_anchor[1], test_pos[1], test_neg[1], anchor_label[1]\n",
        "\n",
        "test_anchor_emb = resnet(test_anchor[None, :])\n",
        "test_pos_emb = resnet(test_pos[None, :])\n",
        "test_neg_emb = resnet(test_neg[None, :])\n",
        "\n",
        "pos_dist = criterion.cal_distance(test_anchor_emb, test_pos_emb)\n",
        "neg_dist = criterion.cal_distance(test_anchor_emb, test_neg_emb)\n",
        "\n",
        "print(\"The distance between anchor and positive: {}\".format(pos_dist[0]))\n",
        "print(\"The distance between anchor and negative: {}\".format(neg_dist[0]))"
      ]
    },
    {
      "cell_type": "markdown",
      "metadata": {},
      "source": [
        "## Training steps"
      ]
    },
    {
      "cell_type": "code",
      "execution_count": 10,
      "metadata": {},
      "outputs": [
        {
          "data": {
            "application/vnd.jupyter.widget-view+json": {
              "model_id": "7bd13b2659c7426c80bb745ad600a760",
              "version_major": 2,
              "version_minor": 0
            },
            "text/plain": [
              "Epochs:   0%|                                            | 0/50 [00:00<?, ?it/s]"
            ]
          },
          "metadata": {},
          "output_type": "display_data"
        },
        {
          "data": {
            "application/vnd.jupyter.widget-view+json": {
              "model_id": "af3aeb01be6f4bcc83a37967b6d1bc3b",
              "version_major": 2,
              "version_minor": 0
            },
            "text/plain": [
              "Training:   0%|                                           | 0/7 [00:00<?, ?it/s]"
            ]
          },
          "metadata": {},
          "output_type": "display_data"
        },
        {
          "name": "stdout",
          "output_type": "stream",
          "text": [
            "Epoch: 0/50 - Loss: 0.9835\n"
          ]
        },
        {
          "data": {
            "application/vnd.jupyter.widget-view+json": {
              "model_id": "56c36a3ab6294f0ab497ce2725a87ba9",
              "version_major": 2,
              "version_minor": 0
            },
            "text/plain": [
              "Training:   0%|                                           | 0/7 [00:00<?, ?it/s]"
            ]
          },
          "metadata": {},
          "output_type": "display_data"
        },
        {
          "name": "stdout",
          "output_type": "stream",
          "text": [
            "Epoch: 1/50 - Loss: 0.5876\n"
          ]
        },
        {
          "data": {
            "application/vnd.jupyter.widget-view+json": {
              "model_id": "7f81ac9fa6234491988c608dddefd57a",
              "version_major": 2,
              "version_minor": 0
            },
            "text/plain": [
              "Training:   0%|                                           | 0/7 [00:00<?, ?it/s]"
            ]
          },
          "metadata": {},
          "output_type": "display_data"
        },
        {
          "name": "stdout",
          "output_type": "stream",
          "text": [
            "Epoch: 2/50 - Loss: 0.3763\n"
          ]
        },
        {
          "data": {
            "application/vnd.jupyter.widget-view+json": {
              "model_id": "92a313dd2fc0438aa604427e868a2d66",
              "version_major": 2,
              "version_minor": 0
            },
            "text/plain": [
              "Training:   0%|                                           | 0/7 [00:00<?, ?it/s]"
            ]
          },
          "metadata": {},
          "output_type": "display_data"
        },
        {
          "name": "stdout",
          "output_type": "stream",
          "text": [
            "Epoch: 3/50 - Loss: 0.3322\n"
          ]
        },
        {
          "data": {
            "application/vnd.jupyter.widget-view+json": {
              "model_id": "3dad678fe41a4c328f44ee600dcb7b6b",
              "version_major": 2,
              "version_minor": 0
            },
            "text/plain": [
              "Training:   0%|                                           | 0/7 [00:00<?, ?it/s]"
            ]
          },
          "metadata": {},
          "output_type": "display_data"
        },
        {
          "name": "stdout",
          "output_type": "stream",
          "text": [
            "Epoch: 4/50 - Loss: 0.3454\n"
          ]
        },
        {
          "data": {
            "application/vnd.jupyter.widget-view+json": {
              "model_id": "b91ad33c49174332843bcbebdc653d40",
              "version_major": 2,
              "version_minor": 0
            },
            "text/plain": [
              "Training:   0%|                                           | 0/7 [00:00<?, ?it/s]"
            ]
          },
          "metadata": {},
          "output_type": "display_data"
        },
        {
          "name": "stdout",
          "output_type": "stream",
          "text": [
            "Epoch: 5/50 - Loss: 0.2547\n"
          ]
        },
        {
          "data": {
            "application/vnd.jupyter.widget-view+json": {
              "model_id": "1bef2787d154437da9ff824be627b7b3",
              "version_major": 2,
              "version_minor": 0
            },
            "text/plain": [
              "Training:   0%|                                           | 0/7 [00:00<?, ?it/s]"
            ]
          },
          "metadata": {},
          "output_type": "display_data"
        },
        {
          "name": "stdout",
          "output_type": "stream",
          "text": [
            "Epoch: 6/50 - Loss: 0.3043\n"
          ]
        },
        {
          "data": {
            "application/vnd.jupyter.widget-view+json": {
              "model_id": "b3f382794e314a40a9bae70796f18891",
              "version_major": 2,
              "version_minor": 0
            },
            "text/plain": [
              "Training:   0%|                                           | 0/7 [00:00<?, ?it/s]"
            ]
          },
          "metadata": {},
          "output_type": "display_data"
        },
        {
          "name": "stdout",
          "output_type": "stream",
          "text": [
            "Epoch: 7/50 - Loss: 0.2673\n"
          ]
        },
        {
          "data": {
            "application/vnd.jupyter.widget-view+json": {
              "model_id": "d88c400eae774bd79ac27bc3abc40401",
              "version_major": 2,
              "version_minor": 0
            },
            "text/plain": [
              "Training:   0%|                                           | 0/7 [00:00<?, ?it/s]"
            ]
          },
          "metadata": {},
          "output_type": "display_data"
        },
        {
          "name": "stdout",
          "output_type": "stream",
          "text": [
            "Epoch: 8/50 - Loss: 0.2146\n"
          ]
        },
        {
          "data": {
            "application/vnd.jupyter.widget-view+json": {
              "model_id": "99d7b9795db4459290ac869616717904",
              "version_major": 2,
              "version_minor": 0
            },
            "text/plain": [
              "Training:   0%|                                           | 0/7 [00:00<?, ?it/s]"
            ]
          },
          "metadata": {},
          "output_type": "display_data"
        },
        {
          "name": "stdout",
          "output_type": "stream",
          "text": [
            "Epoch: 9/50 - Loss: 0.2088\n"
          ]
        },
        {
          "data": {
            "application/vnd.jupyter.widget-view+json": {
              "model_id": "4c55a180773c4291a4594dc9ac98e74d",
              "version_major": 2,
              "version_minor": 0
            },
            "text/plain": [
              "Training:   0%|                                           | 0/7 [00:00<?, ?it/s]"
            ]
          },
          "metadata": {},
          "output_type": "display_data"
        },
        {
          "name": "stdout",
          "output_type": "stream",
          "text": [
            "Epoch: 10/50 - Loss: 0.1720\n"
          ]
        },
        {
          "data": {
            "application/vnd.jupyter.widget-view+json": {
              "model_id": "02757edfaa8f46338c26e5619f3c81f5",
              "version_major": 2,
              "version_minor": 0
            },
            "text/plain": [
              "Training:   0%|                                           | 0/7 [00:00<?, ?it/s]"
            ]
          },
          "metadata": {},
          "output_type": "display_data"
        },
        {
          "name": "stdout",
          "output_type": "stream",
          "text": [
            "Epoch: 11/50 - Loss: 0.1316\n"
          ]
        },
        {
          "data": {
            "application/vnd.jupyter.widget-view+json": {
              "model_id": "3ca6855e57bc4ef98a854e5aa1b18c98",
              "version_major": 2,
              "version_minor": 0
            },
            "text/plain": [
              "Training:   0%|                                           | 0/7 [00:00<?, ?it/s]"
            ]
          },
          "metadata": {},
          "output_type": "display_data"
        },
        {
          "name": "stdout",
          "output_type": "stream",
          "text": [
            "Epoch: 12/50 - Loss: 0.1703\n"
          ]
        },
        {
          "data": {
            "application/vnd.jupyter.widget-view+json": {
              "model_id": "e6b1e4f122b14b799f03aa745ae47bae",
              "version_major": 2,
              "version_minor": 0
            },
            "text/plain": [
              "Training:   0%|                                           | 0/7 [00:00<?, ?it/s]"
            ]
          },
          "metadata": {},
          "output_type": "display_data"
        },
        {
          "name": "stdout",
          "output_type": "stream",
          "text": [
            "Epoch: 13/50 - Loss: 0.1294\n"
          ]
        },
        {
          "data": {
            "application/vnd.jupyter.widget-view+json": {
              "model_id": "92d5ba06561e4fecbb09b97ca277ee75",
              "version_major": 2,
              "version_minor": 0
            },
            "text/plain": [
              "Training:   0%|                                           | 0/7 [00:00<?, ?it/s]"
            ]
          },
          "metadata": {},
          "output_type": "display_data"
        },
        {
          "name": "stdout",
          "output_type": "stream",
          "text": [
            "Epoch: 14/50 - Loss: 0.1101\n"
          ]
        },
        {
          "data": {
            "application/vnd.jupyter.widget-view+json": {
              "model_id": "e8cb482d865f4f74bcd54c7199a4482a",
              "version_major": 2,
              "version_minor": 0
            },
            "text/plain": [
              "Training:   0%|                                           | 0/7 [00:00<?, ?it/s]"
            ]
          },
          "metadata": {},
          "output_type": "display_data"
        },
        {
          "name": "stdout",
          "output_type": "stream",
          "text": [
            "Epoch: 15/50 - Loss: 0.0573\n"
          ]
        },
        {
          "data": {
            "application/vnd.jupyter.widget-view+json": {
              "model_id": "e866ffd1b30448b5bdf9d96e0055be74",
              "version_major": 2,
              "version_minor": 0
            },
            "text/plain": [
              "Training:   0%|                                           | 0/7 [00:00<?, ?it/s]"
            ]
          },
          "metadata": {},
          "output_type": "display_data"
        },
        {
          "name": "stdout",
          "output_type": "stream",
          "text": [
            "Epoch: 16/50 - Loss: 0.0681\n"
          ]
        },
        {
          "data": {
            "application/vnd.jupyter.widget-view+json": {
              "model_id": "d0498bc0674b47d684fb443084d006bc",
              "version_major": 2,
              "version_minor": 0
            },
            "text/plain": [
              "Training:   0%|                                           | 0/7 [00:00<?, ?it/s]"
            ]
          },
          "metadata": {},
          "output_type": "display_data"
        },
        {
          "name": "stdout",
          "output_type": "stream",
          "text": [
            "Epoch: 17/50 - Loss: 0.0488\n"
          ]
        },
        {
          "data": {
            "application/vnd.jupyter.widget-view+json": {
              "model_id": "7ac6811d26c841238fba201d82e756fe",
              "version_major": 2,
              "version_minor": 0
            },
            "text/plain": [
              "Training:   0%|                                           | 0/7 [00:00<?, ?it/s]"
            ]
          },
          "metadata": {},
          "output_type": "display_data"
        },
        {
          "name": "stdout",
          "output_type": "stream",
          "text": [
            "Epoch: 18/50 - Loss: 0.0546\n"
          ]
        },
        {
          "data": {
            "application/vnd.jupyter.widget-view+json": {
              "model_id": "81460e4fe04444f99e0faffda2e0bf82",
              "version_major": 2,
              "version_minor": 0
            },
            "text/plain": [
              "Training:   0%|                                           | 0/7 [00:00<?, ?it/s]"
            ]
          },
          "metadata": {},
          "output_type": "display_data"
        },
        {
          "name": "stdout",
          "output_type": "stream",
          "text": [
            "Epoch: 19/50 - Loss: 0.0262\n"
          ]
        },
        {
          "data": {
            "application/vnd.jupyter.widget-view+json": {
              "model_id": "7b70874b430344ecaee94fcede6a161d",
              "version_major": 2,
              "version_minor": 0
            },
            "text/plain": [
              "Training:   0%|                                           | 0/7 [00:00<?, ?it/s]"
            ]
          },
          "metadata": {},
          "output_type": "display_data"
        },
        {
          "name": "stdout",
          "output_type": "stream",
          "text": [
            "Epoch: 20/50 - Loss: 0.0251\n"
          ]
        },
        {
          "data": {
            "application/vnd.jupyter.widget-view+json": {
              "model_id": "1c59b2c13b8e48f19fa2a51b0e1dd3d9",
              "version_major": 2,
              "version_minor": 0
            },
            "text/plain": [
              "Training:   0%|                                           | 0/7 [00:00<?, ?it/s]"
            ]
          },
          "metadata": {},
          "output_type": "display_data"
        },
        {
          "name": "stdout",
          "output_type": "stream",
          "text": [
            "Epoch: 21/50 - Loss: 0.0132\n"
          ]
        },
        {
          "data": {
            "application/vnd.jupyter.widget-view+json": {
              "model_id": "6acc4f62897e4880a927caa46fbabd05",
              "version_major": 2,
              "version_minor": 0
            },
            "text/plain": [
              "Training:   0%|                                           | 0/7 [00:00<?, ?it/s]"
            ]
          },
          "metadata": {},
          "output_type": "display_data"
        },
        {
          "name": "stdout",
          "output_type": "stream",
          "text": [
            "Epoch: 22/50 - Loss: 0.0210\n"
          ]
        },
        {
          "data": {
            "application/vnd.jupyter.widget-view+json": {
              "model_id": "6923ac21dc5d4d7c9ff4e37d8de874f7",
              "version_major": 2,
              "version_minor": 0
            },
            "text/plain": [
              "Training:   0%|                                           | 0/7 [00:00<?, ?it/s]"
            ]
          },
          "metadata": {},
          "output_type": "display_data"
        },
        {
          "name": "stdout",
          "output_type": "stream",
          "text": [
            "Epoch: 23/50 - Loss: 0.0102\n"
          ]
        },
        {
          "data": {
            "application/vnd.jupyter.widget-view+json": {
              "model_id": "c49e469cf68f4e44b3675465cb915d6e",
              "version_major": 2,
              "version_minor": 0
            },
            "text/plain": [
              "Training:   0%|                                           | 0/7 [00:00<?, ?it/s]"
            ]
          },
          "metadata": {},
          "output_type": "display_data"
        },
        {
          "name": "stdout",
          "output_type": "stream",
          "text": [
            "Epoch: 24/50 - Loss: 0.0144\n"
          ]
        },
        {
          "data": {
            "application/vnd.jupyter.widget-view+json": {
              "model_id": "baf90e5c8b3e4093bef1aafec0a04156",
              "version_major": 2,
              "version_minor": 0
            },
            "text/plain": [
              "Training:   0%|                                           | 0/7 [00:00<?, ?it/s]"
            ]
          },
          "metadata": {},
          "output_type": "display_data"
        },
        {
          "name": "stdout",
          "output_type": "stream",
          "text": [
            "Epoch: 25/50 - Loss: 0.0067\n"
          ]
        },
        {
          "data": {
            "application/vnd.jupyter.widget-view+json": {
              "model_id": "b89dc0ef2f0149d7ae863a3f02e6dd7f",
              "version_major": 2,
              "version_minor": 0
            },
            "text/plain": [
              "Training:   0%|                                           | 0/7 [00:00<?, ?it/s]"
            ]
          },
          "metadata": {},
          "output_type": "display_data"
        },
        {
          "name": "stdout",
          "output_type": "stream",
          "text": [
            "Epoch: 26/50 - Loss: 0.0104\n"
          ]
        },
        {
          "data": {
            "application/vnd.jupyter.widget-view+json": {
              "model_id": "4b68fa820798438390853745b29099e7",
              "version_major": 2,
              "version_minor": 0
            },
            "text/plain": [
              "Training:   0%|                                           | 0/7 [00:00<?, ?it/s]"
            ]
          },
          "metadata": {},
          "output_type": "display_data"
        },
        {
          "name": "stdout",
          "output_type": "stream",
          "text": [
            "Epoch: 27/50 - Loss: 0.0058\n"
          ]
        },
        {
          "data": {
            "application/vnd.jupyter.widget-view+json": {
              "model_id": "821aa9d2f91c4032b1e22c94a0d3e060",
              "version_major": 2,
              "version_minor": 0
            },
            "text/plain": [
              "Training:   0%|                                           | 0/7 [00:00<?, ?it/s]"
            ]
          },
          "metadata": {},
          "output_type": "display_data"
        },
        {
          "name": "stdout",
          "output_type": "stream",
          "text": [
            "Epoch: 28/50 - Loss: 0.0033\n"
          ]
        },
        {
          "data": {
            "application/vnd.jupyter.widget-view+json": {
              "model_id": "0dbe63a473a84a9480215e85b3d3599a",
              "version_major": 2,
              "version_minor": 0
            },
            "text/plain": [
              "Training:   0%|                                           | 0/7 [00:00<?, ?it/s]"
            ]
          },
          "metadata": {},
          "output_type": "display_data"
        },
        {
          "name": "stdout",
          "output_type": "stream",
          "text": [
            "Epoch: 29/50 - Loss: 0.0193\n"
          ]
        },
        {
          "data": {
            "application/vnd.jupyter.widget-view+json": {
              "model_id": "ed8656380cd6434dbb57b7d73357f1cf",
              "version_major": 2,
              "version_minor": 0
            },
            "text/plain": [
              "Training:   0%|                                           | 0/7 [00:00<?, ?it/s]"
            ]
          },
          "metadata": {},
          "output_type": "display_data"
        },
        {
          "name": "stdout",
          "output_type": "stream",
          "text": [
            "Epoch: 30/50 - Loss: 0.0291\n"
          ]
        },
        {
          "data": {
            "application/vnd.jupyter.widget-view+json": {
              "model_id": "1425350782104add80ba33fd2219693d",
              "version_major": 2,
              "version_minor": 0
            },
            "text/plain": [
              "Training:   0%|                                           | 0/7 [00:00<?, ?it/s]"
            ]
          },
          "metadata": {},
          "output_type": "display_data"
        },
        {
          "name": "stdout",
          "output_type": "stream",
          "text": [
            "Epoch: 31/50 - Loss: 0.0000\n"
          ]
        },
        {
          "data": {
            "application/vnd.jupyter.widget-view+json": {
              "model_id": "f604395f59014a44be3985b28e132f6d",
              "version_major": 2,
              "version_minor": 0
            },
            "text/plain": [
              "Training:   0%|                                           | 0/7 [00:00<?, ?it/s]"
            ]
          },
          "metadata": {},
          "output_type": "display_data"
        },
        {
          "name": "stdout",
          "output_type": "stream",
          "text": [
            "Epoch: 32/50 - Loss: 0.0000\n"
          ]
        },
        {
          "data": {
            "application/vnd.jupyter.widget-view+json": {
              "model_id": "da75985510544ebab2edce79b795361f",
              "version_major": 2,
              "version_minor": 0
            },
            "text/plain": [
              "Training:   0%|                                           | 0/7 [00:00<?, ?it/s]"
            ]
          },
          "metadata": {},
          "output_type": "display_data"
        },
        {
          "name": "stdout",
          "output_type": "stream",
          "text": [
            "Epoch: 33/50 - Loss: 0.0000\n"
          ]
        },
        {
          "data": {
            "application/vnd.jupyter.widget-view+json": {
              "model_id": "16a328a2e4974f0391d62dcc9fbcb88b",
              "version_major": 2,
              "version_minor": 0
            },
            "text/plain": [
              "Training:   0%|                                           | 0/7 [00:00<?, ?it/s]"
            ]
          },
          "metadata": {},
          "output_type": "display_data"
        },
        {
          "name": "stdout",
          "output_type": "stream",
          "text": [
            "Epoch: 34/50 - Loss: 0.0088\n"
          ]
        },
        {
          "data": {
            "application/vnd.jupyter.widget-view+json": {
              "model_id": "6515664103364232a0e72c404fb53ede",
              "version_major": 2,
              "version_minor": 0
            },
            "text/plain": [
              "Training:   0%|                                           | 0/7 [00:00<?, ?it/s]"
            ]
          },
          "metadata": {},
          "output_type": "display_data"
        },
        {
          "name": "stdout",
          "output_type": "stream",
          "text": [
            "Epoch: 35/50 - Loss: 0.0048\n"
          ]
        },
        {
          "data": {
            "application/vnd.jupyter.widget-view+json": {
              "model_id": "2d5f43f654dc412e8b9e18c34b8fab87",
              "version_major": 2,
              "version_minor": 0
            },
            "text/plain": [
              "Training:   0%|                                           | 0/7 [00:00<?, ?it/s]"
            ]
          },
          "metadata": {},
          "output_type": "display_data"
        },
        {
          "name": "stdout",
          "output_type": "stream",
          "text": [
            "Epoch: 36/50 - Loss: 0.0035\n"
          ]
        },
        {
          "data": {
            "application/vnd.jupyter.widget-view+json": {
              "model_id": "a026368ca8cb438b8ca030fc7d7ba530",
              "version_major": 2,
              "version_minor": 0
            },
            "text/plain": [
              "Training:   0%|                                           | 0/7 [00:00<?, ?it/s]"
            ]
          },
          "metadata": {},
          "output_type": "display_data"
        },
        {
          "name": "stdout",
          "output_type": "stream",
          "text": [
            "Epoch: 37/50 - Loss: 0.0014\n"
          ]
        },
        {
          "data": {
            "application/vnd.jupyter.widget-view+json": {
              "model_id": "18d3ff61f90c4110b97c715dc4d9e6cf",
              "version_major": 2,
              "version_minor": 0
            },
            "text/plain": [
              "Training:   0%|                                           | 0/7 [00:00<?, ?it/s]"
            ]
          },
          "metadata": {},
          "output_type": "display_data"
        },
        {
          "name": "stdout",
          "output_type": "stream",
          "text": [
            "Epoch: 38/50 - Loss: 0.0020\n"
          ]
        },
        {
          "data": {
            "application/vnd.jupyter.widget-view+json": {
              "model_id": "32ab493a2e33439cbf92d88e91e51f01",
              "version_major": 2,
              "version_minor": 0
            },
            "text/plain": [
              "Training:   0%|                                           | 0/7 [00:00<?, ?it/s]"
            ]
          },
          "metadata": {},
          "output_type": "display_data"
        },
        {
          "name": "stdout",
          "output_type": "stream",
          "text": [
            "Epoch: 39/50 - Loss: 0.0006\n"
          ]
        },
        {
          "data": {
            "application/vnd.jupyter.widget-view+json": {
              "model_id": "a21b6fd98437482294c5035261e6abae",
              "version_major": 2,
              "version_minor": 0
            },
            "text/plain": [
              "Training:   0%|                                           | 0/7 [00:00<?, ?it/s]"
            ]
          },
          "metadata": {},
          "output_type": "display_data"
        },
        {
          "name": "stdout",
          "output_type": "stream",
          "text": [
            "Epoch: 40/50 - Loss: 0.0000\n"
          ]
        },
        {
          "data": {
            "application/vnd.jupyter.widget-view+json": {
              "model_id": "55f7b54307b043e6b38f58c45a8d82e2",
              "version_major": 2,
              "version_minor": 0
            },
            "text/plain": [
              "Training:   0%|                                           | 0/7 [00:00<?, ?it/s]"
            ]
          },
          "metadata": {},
          "output_type": "display_data"
        },
        {
          "name": "stdout",
          "output_type": "stream",
          "text": [
            "Epoch: 41/50 - Loss: 0.0011\n"
          ]
        },
        {
          "data": {
            "application/vnd.jupyter.widget-view+json": {
              "model_id": "1e954ee947174cd9971fd70ca98ec7fc",
              "version_major": 2,
              "version_minor": 0
            },
            "text/plain": [
              "Training:   0%|                                           | 0/7 [00:00<?, ?it/s]"
            ]
          },
          "metadata": {},
          "output_type": "display_data"
        },
        {
          "name": "stdout",
          "output_type": "stream",
          "text": [
            "Epoch: 42/50 - Loss: 0.0031\n"
          ]
        },
        {
          "data": {
            "application/vnd.jupyter.widget-view+json": {
              "model_id": "49650ddf89564c02a1dbb3e9c7cfb194",
              "version_major": 2,
              "version_minor": 0
            },
            "text/plain": [
              "Training:   0%|                                           | 0/7 [00:00<?, ?it/s]"
            ]
          },
          "metadata": {},
          "output_type": "display_data"
        },
        {
          "name": "stdout",
          "output_type": "stream",
          "text": [
            "Epoch: 43/50 - Loss: 0.0000\n"
          ]
        },
        {
          "data": {
            "application/vnd.jupyter.widget-view+json": {
              "model_id": "4422f09c44ed499d98a8dce3bb68ac11",
              "version_major": 2,
              "version_minor": 0
            },
            "text/plain": [
              "Training:   0%|                                           | 0/7 [00:00<?, ?it/s]"
            ]
          },
          "metadata": {},
          "output_type": "display_data"
        },
        {
          "name": "stdout",
          "output_type": "stream",
          "text": [
            "Epoch: 44/50 - Loss: 0.0009\n"
          ]
        },
        {
          "data": {
            "application/vnd.jupyter.widget-view+json": {
              "model_id": "ddcac1fc61df42a2a1bed9b1a73b56e2",
              "version_major": 2,
              "version_minor": 0
            },
            "text/plain": [
              "Training:   0%|                                           | 0/7 [00:00<?, ?it/s]"
            ]
          },
          "metadata": {},
          "output_type": "display_data"
        },
        {
          "name": "stdout",
          "output_type": "stream",
          "text": [
            "Epoch: 45/50 - Loss: 0.0000\n"
          ]
        },
        {
          "data": {
            "application/vnd.jupyter.widget-view+json": {
              "model_id": "6864f34a0bc84759acb4ae538f21241f",
              "version_major": 2,
              "version_minor": 0
            },
            "text/plain": [
              "Training:   0%|                                           | 0/7 [00:00<?, ?it/s]"
            ]
          },
          "metadata": {},
          "output_type": "display_data"
        },
        {
          "name": "stdout",
          "output_type": "stream",
          "text": [
            "Epoch: 46/50 - Loss: 0.0011\n"
          ]
        },
        {
          "data": {
            "application/vnd.jupyter.widget-view+json": {
              "model_id": "debde79580a54ed887be21e50a62b41d",
              "version_major": 2,
              "version_minor": 0
            },
            "text/plain": [
              "Training:   0%|                                           | 0/7 [00:00<?, ?it/s]"
            ]
          },
          "metadata": {},
          "output_type": "display_data"
        },
        {
          "name": "stdout",
          "output_type": "stream",
          "text": [
            "Epoch: 47/50 - Loss: 0.0028\n"
          ]
        },
        {
          "data": {
            "application/vnd.jupyter.widget-view+json": {
              "model_id": "b500500f36eb4313800097cdb6bceeb9",
              "version_major": 2,
              "version_minor": 0
            },
            "text/plain": [
              "Training:   0%|                                           | 0/7 [00:00<?, ?it/s]"
            ]
          },
          "metadata": {},
          "output_type": "display_data"
        },
        {
          "name": "stdout",
          "output_type": "stream",
          "text": [
            "Epoch: 48/50 - Loss: 0.0008\n"
          ]
        },
        {
          "data": {
            "application/vnd.jupyter.widget-view+json": {
              "model_id": "9e3d4ed3922e4dc3b3f10516e93c86e4",
              "version_major": 2,
              "version_minor": 0
            },
            "text/plain": [
              "Training:   0%|                                           | 0/7 [00:00<?, ?it/s]"
            ]
          },
          "metadata": {},
          "output_type": "display_data"
        },
        {
          "name": "stdout",
          "output_type": "stream",
          "text": [
            "Epoch: 49/50 - Loss: 0.0053\n"
          ]
        }
      ],
      "source": [
        "resnet.train()\n",
        "epochs = 50\n",
        "loss_total = []\n",
        "\n",
        "for epoch in tqdm(range(epochs), desc=\"Epochs\", leave=True, ncols=80, position=0):\n",
        "    running_loss = []\n",
        "    for step, (anchors, positives, negatives, labels) in enumerate(tqdm(celeba_dataloader, desc=\"Training\", ncols=80, position=1, leave=False)):\n",
        "        anchors = anchors.to(device)\n",
        "        positives = positives.to(device)\n",
        "        negatives = negatives.to(device)\n",
        "\n",
        "        optimizer.zero_grad()\n",
        "\n",
        "        anchor_emb = resnet(anchors)\n",
        "        positive_emb = resnet(positives)\n",
        "        negative_emb = resnet(negatives)\n",
        "\n",
        "        loss = criterion(anchor_emb, positive_emb, negative_emb)\n",
        "        # print(\"loss is {}\".format(loss))\n",
        "        loss.backward()\n",
        "        optimizer.step()\n",
        "\n",
        "        running_loss.append(loss.cpu().detach().numpy())\n",
        "        \n",
        "    loss_total.append(np.mean(running_loss))\n",
        "    print(\"Epoch: {}/{} - Loss: {:.4f}\".format(epoch, epochs, np.mean(running_loss)))\n"
      ]
    },
    {
      "cell_type": "markdown",
      "metadata": {},
      "source": [
        "## Plotting Loss curve"
      ]
    },
    {
      "cell_type": "code",
      "execution_count": 11,
      "metadata": {},
      "outputs": [
        {
          "data": {
            "image/png": "[encoded data removed]",
            "text/plain": [
              "<Figure size 432x288 with 1 Axes>"
            ]
          },
          "metadata": {
            "needs_background": "light"
          },
          "output_type": "display_data"
        }
      ],
      "source": [
        "# printing loss function\n",
        "plt.plot(loss_total)\n",
        "plt.xlabel(\"Epochs\")\n",
        "plt.ylabel(\"TripletLoss\")\n",
        "plt.title(\"Training loss\")\n",
        "plt.show()"
      ]
    },
    {
      "cell_type": "markdown",
      "metadata": {},
      "source": [
        "## Testing the trained model:"
      ]
    },
    {
      "cell_type": "code",
      "execution_count": 12,
      "metadata": {},
      "outputs": [
        {
          "name": "stdout",
          "output_type": "stream",
          "text": [
            "The distance between anchor and positive: 0.939580500125885\n",
            "The distance between anchor and negative: 0.6248536705970764\n"
          ]
        }
      ],
      "source": [
        "resnet.eval().to(device)\n",
        "\n",
        "test_anchor, test_pos, test_neg, anchor_label = celeba_dataset[1]\n",
        "# test_anchor, test_pos, test_neg, anchor_label = test_anchor[1], test_pos[1], test_neg[1], anchor_label[1]\n",
        "\n",
        "test_anchor_emb = resnet(test_anchor[None, :])\n",
        "test_pos_emb = resnet(test_pos[None, :])\n",
        "test_neg_emb = resnet(test_neg[None, :])\n",
        "\n",
        "pos_dist = criterion.cal_distance(test_anchor_emb, test_pos_emb)\n",
        "neg_dist = criterion.cal_distance(test_anchor_emb, test_neg_emb)\n",
        "\n",
        "print(\"The distance between anchor and positive: {}\".format(pos_dist[0]))\n",
        "print(\"The distance between anchor and negative: {}\".format(neg_dist[0]))"
      ]
    },
    {
      "cell_type": "code",
      "execution_count": 13,
      "metadata": {},
      "outputs": [
        {
          "data": {
            "text/plain": [
              "torch.Size([1, 512])"
            ]
          },
          "execution_count": 13,
          "metadata": {},
          "output_type": "execute_result"
        }
      ],
      "source": [
        "test_anchor_emb.shape"
      ]
    },
    {
      "cell_type": "markdown",
      "metadata": {},
      "source": [
        "## Accuracy of the model"
      ]
    },
    {
      "cell_type": "code",
      "execution_count": 14,
      "metadata": {},
      "outputs": [],
      "source": [
        "vault_path = \"../data/oneshot_vault\"\n",
        "label_file = \"../data/identity_vault_person.txt\"\n",
        "\n",
        "def load_image(path, transform):\n",
        "    img = Image.open(path).convert(\"RGB\")\n",
        "    if transform:\n",
        "            img = transform(img)\n",
        "    return img\n",
        "    \n",
        "def create_embeddings(folder, label_file, model, transform):\n",
        "    label_file_dict = {}\n",
        "    gt_labels = []\n",
        "    with open(label_file, 'r') as r_file:\n",
        "        for file in r_file:\n",
        "            file = file.strip(\"\\n\").split(\" \")\n",
        "            if file[0] not in label_file_dict:\n",
        "                label_file_dict[file[0]] = file[1]\n",
        "\n",
        "    embeddings = torch.empty(len(label_file_dict), 512)\n",
        "    for i, file in enumerate(label_file_dict.keys()):\n",
        "        img = load_image(os.path.join(folder, file), transform)\n",
        "\n",
        "        img_emb = model(img[None, :])\n",
        "\n",
        "        embeddings[i] = img_emb\n",
        "        gt_labels.append(label_file_dict[file])\n",
        "\n",
        "    return embeddings, gt_labels\n",
        "\n",
        "\n",
        "transform=transforms.Compose([\n",
        "    transforms.Resize(image_size),\n",
        "    transforms.CenterCrop(image_size),\n",
        "    transforms.ToTensor()\n",
        "])\n",
        "embeddings, gt_labels = create_embeddings(folder=vault_path, label_file=label_file, \n",
        "                        model=resnet, transform=transform)\n",
        "                        "
      ]
    },
    {
      "cell_type": "code",
      "execution_count": 15,
      "metadata": {},
      "outputs": [
        {
          "data": {
            "text/plain": [
              "4"
            ]
          },
          "execution_count": 15,
          "metadata": {},
          "output_type": "execute_result"
        }
      ],
      "source": [
        "# Test image:\n",
        "def calculate_label(test_image_file, img_folder, transform, embeddings):\n",
        "# test_image_file = \"s1_9.pgm\"\n",
        "    test_file_path = os.path.join(img_folder, test_image_file)\n",
        "    test_img = load_image(test_file_path, transform=transform)\n",
        "\n",
        "\n",
        "    test_img_emb = resnet(test_img[None, :])\n",
        "    test_img_emb = torch.squeeze(test_img_emb, 0)\n",
        "    # print(f'Shape of test: {test_img_emb.shape}')\n",
        "    # print(f'Shape of embeddings: {embeddings.shape}')\n",
        "\n",
        "    distance_mat = (test_img_emb - embeddings).pow(2).sum(axis=1)\n",
        "    # print(distance_mat)\n",
        "    test_label_pred = gt_labels[torch.argmin(distance_mat.abs())]\n",
        "    # print(f'Ground truth label: {test_image_file.split(\"_\")[0][1]}')\n",
        "    # print(f'Predicted label: {test_label_pred}')\n",
        "\n",
        "    return int(test_label_pred)\n",
        "\n",
        "# testing on one test image\n",
        "test_image_file = \"s4_9.pgm\"\n",
        "calculate_label(test_image_file, img_folder, transform, embeddings)\n"
      ]
    },
    {
      "cell_type": "code",
      "execution_count": 16,
      "metadata": {},
      "outputs": [
        {
          "name": "stdout",
          "output_type": "stream",
          "text": [
            "Accuracy for the model: 0.6399999856948853\n"
          ]
        }
      ],
      "source": [
        "\n",
        "with open(mapping_file, 'r') as test_labels_file:\n",
        "    test_labels = {}\n",
        "    for file in test_labels_file:\n",
        "        file = file.strip(\"\\n\").split(\" \")\n",
        "        test_labels[file[0]] = file[1]\n",
        "\n",
        "test_predictions = []\n",
        "test_gt_labels = []\n",
        "\n",
        "for i, (file, label) in enumerate(test_labels.items()):\n",
        "    test_gt_labels.append(int(label))\n",
        "\n",
        "    test_label_pred = calculate_label(file, img_folder, transform, embeddings)\n",
        "    test_predictions.append(test_label_pred)\n",
        "\n",
        "accuracy = torch.tensor(test_predictions) == torch.tensor(test_gt_labels)\n",
        "accuracy = accuracy.int().sum()/len(accuracy)\n",
        "print(f'Accuracy for the model: {accuracy}')\n",
        "\n"
      ]
    },
    {
      "cell_type": "code",
      "execution_count": null,
      "metadata": {},
      "outputs": [],
      "source": []
    }
  ],
  "metadata": {
    "accelerator": "GPU",
    "colab": {
      "collapsed_sections": [
        "9TwXdV7BHeoT",
        "k0mnB3l9Ha9D",
        "w7Ta2e8wa3UM",
        "gU46F-JyF2PA",
        "3JLywKFbopy9",
        "aEBA_FaWHpgY",
        "IJAT0dvwHfaa",
        "vqPiqddKE51v"
      ],
      "provenance": []
    },
    "kernelspec": {
      "display_name": "Python 3.9.13 ('torch-env')",
      "language": "python",
      "name": "python3"
    },
    "language_info": {
      "codemirror_mode": {
        "name": "ipython",
        "version": 3
      },
      "file_extension": ".py",
      "mimetype": "text/x-python",
      "name": "python",
      "nbconvert_exporter": "python",
      "pygments_lexer": "ipython3",
      "version": "3.9.13"
    },
    "vscode": {
      "interpreter": {
        "hash": "915d08fc081d212946bc55eb28a5b744f9509c1c054f3f4f212ad3c247333ef8"
      }
    }
  },
  "nbformat": 4,
  "nbformat_minor": 0
}
