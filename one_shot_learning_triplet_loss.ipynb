{
  "cells": [
    {
      "cell_type": "markdown",
      "metadata": {
        "id": "9TwXdV7BHeoT"
      },
      "source": [
        "## Install Packages"
      ]
    },
    {
      "cell_type": "code",
      "execution_count": 1,
      "metadata": {
        "colab": {
          "base_uri": "https://localhost:8080/"
        },
        "id": "Xpu7yWT8xlz5",
        "outputId": "809d21f8-9ae7-41f4-d617-bcf41db6e50c"
      },
      "outputs": [],
      "source": [
        "# from google.colab import drive\n",
        "# drive.mount('/content/drive')"
      ]
    },
    {
      "cell_type": "code",
      "execution_count": 2,
      "metadata": {
        "colab": {
          "base_uri": "https://localhost:8080/"
        },
        "id": "Uzqksv_eFu9C",
        "outputId": "06f645b1-7b42-4f76-cd9c-58352fe1fda0"
      },
      "outputs": [],
      "source": [
        "# !pip install facenet-pytorch"
      ]
    },
    {
      "cell_type": "code",
      "execution_count": 3,
      "metadata": {
        "id": "YpJrR0U9x8k7"
      },
      "outputs": [],
      "source": [
        "# requirements_file_path = \"/content/drive/MyDrive/Masters/Prep/Projects/OneShot_JPMC/one-shot-face-recognition/src/requirements.txt\"\n",
        "\n",
        "# !cat \"/content/drive/MyDrive/Masters/Prep/Projects/OneShot_JPMC/one-shot-face-recognition/src/requirements.txt\" | xargs -n 1 pip install"
      ]
    },
    {
      "cell_type": "code",
      "execution_count": 4,
      "metadata": {
        "colab": {
          "base_uri": "https://localhost:8080/",
          "height": 508
        },
        "id": "qaGV91DX1SIf",
        "outputId": "41e58374-8636-4077-c5b5-15867d881dfa"
      },
      "outputs": [],
      "source": [
        "from facenet_pytorch import MTCNN, InceptionResnetV1\n",
        "import torch\n",
        "from torch.utils.data import DataLoader\n",
        "from torchvision import datasets\n",
        "from matplotlib import pyplot as plt\n",
        "import seaborn as sns\n",
        "import numpy as np\n",
        "import pandas as pd\n",
        "import os\n",
        "import zipfile \n",
        "import torch\n",
        "from PIL import Image\n",
        "from torch.utils.data import Dataset\n",
        "import torch.optim as optim\n",
        "from torchvision import transforms\n",
        "from sklearn.metrics import accuracy_score\n",
        "import src\n",
        "from tqdm.notebook import tqdm\n",
        "from src.utils.celeba_helper import CelebADataset, CelebAClassifier, save_file_names, CelebADatasetTriplet\n",
        "from src.utils.loss_functions import TripletLoss\n",
        "from imp import reload\n",
        "\n",
        "workers = 0 if os.name == 'nt' else 2"
      ]
    },
    {
      "cell_type": "code",
      "execution_count": 5,
      "metadata": {
        "id": "IjCxN6Q4xkoN"
      },
      "outputs": [],
      "source": [
        "device = torch.device('cuda:0' if torch.cuda.is_available() else 'cpu')"
      ]
    },
    {
      "cell_type": "markdown",
      "metadata": {
        "id": "w7Ta2e8wa3UM"
      },
      "source": [
        "# Define CelebA Dataset and Loader"
      ]
    },
    {
      "cell_type": "code",
      "execution_count": 6,
      "metadata": {
        "id": "hkdQB_ZODfmw"
      },
      "outputs": [
        {
          "name": "stdout",
          "output_type": "stream",
          "text": [
            "Image names size is: 50\n"
          ]
        }
      ],
      "source": [
        "## Load the dataset\n",
        "# Path to directory with all the images\n",
        "img_folder = '../data/img_align_celeba'\n",
        "mapping_file = '../data/identity_CelebA.txt'\n",
        "\n",
        "# Spatial size of training images, images are resized to this size.\n",
        "image_size = 160\n",
        "transform=transforms.Compose([\n",
        "    transforms.Resize(image_size),\n",
        "    transforms.CenterCrop(image_size),\n",
        "    transforms.ToTensor()\n",
        "])\n",
        "\n",
        "# Load the dataset from file and apply transformations\n",
        "celeba_dataset = CelebADatasetTriplet(img_folder, mapping_file, transform)"
      ]
    },
    {
      "cell_type": "code",
      "execution_count": 7,
      "metadata": {
        "id": "dP2V5_HTDaMt"
      },
      "outputs": [],
      "source": [
        "## Create a dataloader\n",
        "# Batch size during training\n",
        "batch_size = 8\n",
        "# Number of workers for the dataloader\n",
        "num_workers = 0 if device.type == 'cuda' else 2\n",
        "# Whether to put fetched data tensors to pinned memory\n",
        "pin_memory = True if device.type == 'cuda' else False\n",
        "\n",
        "celeba_dataloader = torch.utils.data.DataLoader(celeba_dataset,  # type: ignore\n",
        "                                                batch_size=batch_size,\n",
        "                                                num_workers=num_workers,\n",
        "                                                pin_memory=pin_memory,\n",
        "                                                shuffle=False)"
      ]
    },
    {
      "cell_type": "markdown",
      "metadata": {},
      "source": [
        "# FaceNet Training Pipeline"
      ]
    },
    {
      "cell_type": "markdown",
      "metadata": {},
      "source": [
        "## Initializing the resnet model, optimizer and loss function"
      ]
    },
    {
      "cell_type": "code",
      "execution_count": 8,
      "metadata": {},
      "outputs": [],
      "source": [
        "resnet = InceptionResnetV1(pretrained='vggface2').to(device)\n",
        "optimizer = optim.Adam(resnet.parameters(), lr=0.001)\n",
        "criterion = TripletLoss()"
      ]
    },
    {
      "cell_type": "markdown",
      "metadata": {},
      "source": [
        "## Test before training"
      ]
    },
    {
      "cell_type": "code",
      "execution_count": 9,
      "metadata": {},
      "outputs": [
        {
          "name": "stdout",
          "output_type": "stream",
          "text": [
            "The distance between anchor and positive: 0.7962905168533325\n",
            "The distance between anchor and negative: 1.8107936382293701\n"
          ]
        }
      ],
      "source": [
        "resnet.eval().to(device)\n",
        "\n",
        "test_anchor, test_pos, test_neg, anchor_label = celeba_dataset[1]\n",
        "# test_anchor, test_pos, test_neg, anchor_label = test_anchor[1], test_pos[1], test_neg[1], anchor_label[1]\n",
        "\n",
        "test_anchor_emb = resnet(test_anchor[None, :])\n",
        "test_pos_emb = resnet(test_pos[None, :])\n",
        "test_neg_emb = resnet(test_neg[None, :])\n",
        "\n",
        "pos_dist = criterion.cal_distance(test_anchor_emb, test_pos_emb)\n",
        "neg_dist = criterion.cal_distance(test_anchor_emb, test_neg_emb)\n",
        "\n",
        "print(\"The distance between anchor and positive: {}\".format(pos_dist[0]))\n",
        "print(\"The distance between anchor and negative: {}\".format(neg_dist[0]))"
      ]
    },
    {
      "cell_type": "markdown",
      "metadata": {},
      "source": [
        "## Training steps"
      ]
    },
    {
      "cell_type": "code",
      "execution_count": 10,
      "metadata": {},
      "outputs": [
        {
          "data": {
            "application/vnd.jupyter.widget-view+json": {
              "model_id": "3a503ea36cc14d909e6b5fa3600f7446",
              "version_major": 2,
              "version_minor": 0
            },
            "text/plain": [
              "Epochs:   0%|                                            | 0/50 [00:00<?, ?it/s]"
            ]
          },
          "metadata": {},
          "output_type": "display_data"
        },
        {
          "data": {
            "application/vnd.jupyter.widget-view+json": {
              "model_id": "a7f43654693d4d9b82a58fe2a1601072",
              "version_major": 2,
              "version_minor": 0
            },
            "text/plain": [
              "Training:   0%|                                           | 0/7 [00:00<?, ?it/s]"
            ]
          },
          "metadata": {},
          "output_type": "display_data"
        },
        {
          "name": "stdout",
          "output_type": "stream",
          "text": [
            "Epoch: 0/50 - Loss: 0.7797\n"
          ]
        },
        {
          "data": {
            "application/vnd.jupyter.widget-view+json": {
              "model_id": "315e6a1bc5b4427bbeb3d6bc74617894",
              "version_major": 2,
              "version_minor": 0
            },
            "text/plain": [
              "Training:   0%|                                           | 0/7 [00:00<?, ?it/s]"
            ]
          },
          "metadata": {},
          "output_type": "display_data"
        },
        {
          "name": "stdout",
          "output_type": "stream",
          "text": [
            "Epoch: 1/50 - Loss: 0.9218\n"
          ]
        },
        {
          "data": {
            "application/vnd.jupyter.widget-view+json": {
              "model_id": "2343abb8565b4fb7a32a68c505dcdc2f",
              "version_major": 2,
              "version_minor": 0
            },
            "text/plain": [
              "Training:   0%|                                           | 0/7 [00:00<?, ?it/s]"
            ]
          },
          "metadata": {},
          "output_type": "display_data"
        },
        {
          "name": "stdout",
          "output_type": "stream",
          "text": [
            "Epoch: 2/50 - Loss: 0.7033\n"
          ]
        },
        {
          "data": {
            "application/vnd.jupyter.widget-view+json": {
              "model_id": "a33e7c68cbee4d4fad66556584354475",
              "version_major": 2,
              "version_minor": 0
            },
            "text/plain": [
              "Training:   0%|                                           | 0/7 [00:00<?, ?it/s]"
            ]
          },
          "metadata": {},
          "output_type": "display_data"
        },
        {
          "name": "stdout",
          "output_type": "stream",
          "text": [
            "Epoch: 3/50 - Loss: 0.6764\n"
          ]
        },
        {
          "data": {
            "application/vnd.jupyter.widget-view+json": {
              "model_id": "9e2d5ba06c5a4c6a953b92570b9731ae",
              "version_major": 2,
              "version_minor": 0
            },
            "text/plain": [
              "Training:   0%|                                           | 0/7 [00:00<?, ?it/s]"
            ]
          },
          "metadata": {},
          "output_type": "display_data"
        },
        {
          "name": "stdout",
          "output_type": "stream",
          "text": [
            "Epoch: 4/50 - Loss: 0.7237\n"
          ]
        },
        {
          "data": {
            "application/vnd.jupyter.widget-view+json": {
              "model_id": "8b01a44fd7144313b33814c493a4949f",
              "version_major": 2,
              "version_minor": 0
            },
            "text/plain": [
              "Training:   0%|                                           | 0/7 [00:00<?, ?it/s]"
            ]
          },
          "metadata": {},
          "output_type": "display_data"
        },
        {
          "name": "stdout",
          "output_type": "stream",
          "text": [
            "Epoch: 5/50 - Loss: 0.8436\n"
          ]
        },
        {
          "data": {
            "application/vnd.jupyter.widget-view+json": {
              "model_id": "42bf6f38bdbe470793fe81c4e50bec7d",
              "version_major": 2,
              "version_minor": 0
            },
            "text/plain": [
              "Training:   0%|                                           | 0/7 [00:00<?, ?it/s]"
            ]
          },
          "metadata": {},
          "output_type": "display_data"
        },
        {
          "name": "stdout",
          "output_type": "stream",
          "text": [
            "Epoch: 6/50 - Loss: 0.4594\n"
          ]
        },
        {
          "data": {
            "application/vnd.jupyter.widget-view+json": {
              "model_id": "912783de072f45f6a26aa175bb7c3ab6",
              "version_major": 2,
              "version_minor": 0
            },
            "text/plain": [
              "Training:   0%|                                           | 0/7 [00:00<?, ?it/s]"
            ]
          },
          "metadata": {},
          "output_type": "display_data"
        },
        {
          "name": "stdout",
          "output_type": "stream",
          "text": [
            "Epoch: 7/50 - Loss: 0.6113\n"
          ]
        },
        {
          "data": {
            "application/vnd.jupyter.widget-view+json": {
              "model_id": "f640dcff3a1b4feead2d06fc0b17a373",
              "version_major": 2,
              "version_minor": 0
            },
            "text/plain": [
              "Training:   0%|                                           | 0/7 [00:00<?, ?it/s]"
            ]
          },
          "metadata": {},
          "output_type": "display_data"
        },
        {
          "name": "stdout",
          "output_type": "stream",
          "text": [
            "Epoch: 8/50 - Loss: 0.6296\n"
          ]
        },
        {
          "data": {
            "application/vnd.jupyter.widget-view+json": {
              "model_id": "97d1113594d9465c8813fe2c5e6b3f7c",
              "version_major": 2,
              "version_minor": 0
            },
            "text/plain": [
              "Training:   0%|                                           | 0/7 [00:00<?, ?it/s]"
            ]
          },
          "metadata": {},
          "output_type": "display_data"
        },
        {
          "name": "stdout",
          "output_type": "stream",
          "text": [
            "Epoch: 9/50 - Loss: 0.5923\n"
          ]
        },
        {
          "data": {
            "application/vnd.jupyter.widget-view+json": {
              "model_id": "9b4653bbfb4b46df8e901aa04e4d1fb3",
              "version_major": 2,
              "version_minor": 0
            },
            "text/plain": [
              "Training:   0%|                                           | 0/7 [00:00<?, ?it/s]"
            ]
          },
          "metadata": {},
          "output_type": "display_data"
        },
        {
          "name": "stdout",
          "output_type": "stream",
          "text": [
            "Epoch: 10/50 - Loss: 0.5780\n"
          ]
        },
        {
          "data": {
            "application/vnd.jupyter.widget-view+json": {
              "model_id": "429fc1e5ef5e4c6891e24e09e36807b6",
              "version_major": 2,
              "version_minor": 0
            },
            "text/plain": [
              "Training:   0%|                                           | 0/7 [00:00<?, ?it/s]"
            ]
          },
          "metadata": {},
          "output_type": "display_data"
        },
        {
          "name": "stdout",
          "output_type": "stream",
          "text": [
            "Epoch: 11/50 - Loss: 0.2995\n"
          ]
        },
        {
          "data": {
            "application/vnd.jupyter.widget-view+json": {
              "model_id": "fc22b7a6e261469db9761292713775e6",
              "version_major": 2,
              "version_minor": 0
            },
            "text/plain": [
              "Training:   0%|                                           | 0/7 [00:00<?, ?it/s]"
            ]
          },
          "metadata": {},
          "output_type": "display_data"
        },
        {
          "name": "stdout",
          "output_type": "stream",
          "text": [
            "Epoch: 12/50 - Loss: 0.5362\n"
          ]
        },
        {
          "data": {
            "application/vnd.jupyter.widget-view+json": {
              "model_id": "1366a2d121cf4c5a9670ec50fdc09384",
              "version_major": 2,
              "version_minor": 0
            },
            "text/plain": [
              "Training:   0%|                                           | 0/7 [00:00<?, ?it/s]"
            ]
          },
          "metadata": {},
          "output_type": "display_data"
        },
        {
          "name": "stdout",
          "output_type": "stream",
          "text": [
            "Epoch: 13/50 - Loss: 0.3329\n"
          ]
        },
        {
          "data": {
            "application/vnd.jupyter.widget-view+json": {
              "model_id": "7571c55e98db44a29deeb2fcba8af034",
              "version_major": 2,
              "version_minor": 0
            },
            "text/plain": [
              "Training:   0%|                                           | 0/7 [00:00<?, ?it/s]"
            ]
          },
          "metadata": {},
          "output_type": "display_data"
        },
        {
          "name": "stdout",
          "output_type": "stream",
          "text": [
            "Epoch: 14/50 - Loss: 0.2129\n"
          ]
        },
        {
          "data": {
            "application/vnd.jupyter.widget-view+json": {
              "model_id": "166ce88c94af464cb1fb16363bd3878c",
              "version_major": 2,
              "version_minor": 0
            },
            "text/plain": [
              "Training:   0%|                                           | 0/7 [00:00<?, ?it/s]"
            ]
          },
          "metadata": {},
          "output_type": "display_data"
        },
        {
          "name": "stdout",
          "output_type": "stream",
          "text": [
            "Epoch: 15/50 - Loss: 0.1955\n"
          ]
        },
        {
          "data": {
            "application/vnd.jupyter.widget-view+json": {
              "model_id": "aa2f0b4d996144f2997b542e540b8632",
              "version_major": 2,
              "version_minor": 0
            },
            "text/plain": [
              "Training:   0%|                                           | 0/7 [00:00<?, ?it/s]"
            ]
          },
          "metadata": {},
          "output_type": "display_data"
        },
        {
          "name": "stdout",
          "output_type": "stream",
          "text": [
            "Epoch: 16/50 - Loss: 0.3024\n"
          ]
        },
        {
          "data": {
            "application/vnd.jupyter.widget-view+json": {
              "model_id": "8687935a0f1a4d658454dce364abefc3",
              "version_major": 2,
              "version_minor": 0
            },
            "text/plain": [
              "Training:   0%|                                           | 0/7 [00:00<?, ?it/s]"
            ]
          },
          "metadata": {},
          "output_type": "display_data"
        },
        {
          "name": "stdout",
          "output_type": "stream",
          "text": [
            "Epoch: 17/50 - Loss: 0.1631\n"
          ]
        },
        {
          "data": {
            "application/vnd.jupyter.widget-view+json": {
              "model_id": "4a219e22c0094cbdb88228683a7fda5f",
              "version_major": 2,
              "version_minor": 0
            },
            "text/plain": [
              "Training:   0%|                                           | 0/7 [00:00<?, ?it/s]"
            ]
          },
          "metadata": {},
          "output_type": "display_data"
        },
        {
          "name": "stdout",
          "output_type": "stream",
          "text": [
            "Epoch: 18/50 - Loss: 0.1445\n"
          ]
        },
        {
          "data": {
            "application/vnd.jupyter.widget-view+json": {
              "model_id": "8b8c8f9a159e4a04b91ed5bb101f2b16",
              "version_major": 2,
              "version_minor": 0
            },
            "text/plain": [
              "Training:   0%|                                           | 0/7 [00:00<?, ?it/s]"
            ]
          },
          "metadata": {},
          "output_type": "display_data"
        },
        {
          "name": "stdout",
          "output_type": "stream",
          "text": [
            "Epoch: 19/50 - Loss: 0.1101\n"
          ]
        },
        {
          "data": {
            "application/vnd.jupyter.widget-view+json": {
              "model_id": "5efb181bf1fa45b8b91b76a7188b2f2f",
              "version_major": 2,
              "version_minor": 0
            },
            "text/plain": [
              "Training:   0%|                                           | 0/7 [00:00<?, ?it/s]"
            ]
          },
          "metadata": {},
          "output_type": "display_data"
        },
        {
          "name": "stdout",
          "output_type": "stream",
          "text": [
            "Epoch: 20/50 - Loss: 0.0385\n"
          ]
        },
        {
          "data": {
            "application/vnd.jupyter.widget-view+json": {
              "model_id": "ca7dc0df72ed49dbb04a98043331faea",
              "version_major": 2,
              "version_minor": 0
            },
            "text/plain": [
              "Training:   0%|                                           | 0/7 [00:00<?, ?it/s]"
            ]
          },
          "metadata": {},
          "output_type": "display_data"
        },
        {
          "name": "stdout",
          "output_type": "stream",
          "text": [
            "Epoch: 21/50 - Loss: 0.0528\n"
          ]
        },
        {
          "data": {
            "application/vnd.jupyter.widget-view+json": {
              "model_id": "c5a5e7da08de403ca27a57ece5bdc85e",
              "version_major": 2,
              "version_minor": 0
            },
            "text/plain": [
              "Training:   0%|                                           | 0/7 [00:00<?, ?it/s]"
            ]
          },
          "metadata": {},
          "output_type": "display_data"
        },
        {
          "name": "stdout",
          "output_type": "stream",
          "text": [
            "Epoch: 22/50 - Loss: 0.0368\n"
          ]
        },
        {
          "data": {
            "application/vnd.jupyter.widget-view+json": {
              "model_id": "fed085c77d8240e6965a0062d7cf2bc0",
              "version_major": 2,
              "version_minor": 0
            },
            "text/plain": [
              "Training:   0%|                                           | 0/7 [00:00<?, ?it/s]"
            ]
          },
          "metadata": {},
          "output_type": "display_data"
        },
        {
          "name": "stdout",
          "output_type": "stream",
          "text": [
            "Epoch: 23/50 - Loss: 0.0154\n"
          ]
        },
        {
          "data": {
            "application/vnd.jupyter.widget-view+json": {
              "model_id": "64277fa75d5b449a8db73d59ea972ede",
              "version_major": 2,
              "version_minor": 0
            },
            "text/plain": [
              "Training:   0%|                                           | 0/7 [00:00<?, ?it/s]"
            ]
          },
          "metadata": {},
          "output_type": "display_data"
        },
        {
          "name": "stdout",
          "output_type": "stream",
          "text": [
            "Epoch: 24/50 - Loss: 0.0417\n"
          ]
        },
        {
          "data": {
            "application/vnd.jupyter.widget-view+json": {
              "model_id": "331eb8cffbfd48f8b0bc9d11b45bf974",
              "version_major": 2,
              "version_minor": 0
            },
            "text/plain": [
              "Training:   0%|                                           | 0/7 [00:00<?, ?it/s]"
            ]
          },
          "metadata": {},
          "output_type": "display_data"
        },
        {
          "name": "stdout",
          "output_type": "stream",
          "text": [
            "Epoch: 25/50 - Loss: 0.0659\n"
          ]
        },
        {
          "data": {
            "application/vnd.jupyter.widget-view+json": {
              "model_id": "cc0b660688c6464fbf69933e462cf86e",
              "version_major": 2,
              "version_minor": 0
            },
            "text/plain": [
              "Training:   0%|                                           | 0/7 [00:00<?, ?it/s]"
            ]
          },
          "metadata": {},
          "output_type": "display_data"
        },
        {
          "name": "stdout",
          "output_type": "stream",
          "text": [
            "Epoch: 26/50 - Loss: 0.0350\n"
          ]
        },
        {
          "data": {
            "application/vnd.jupyter.widget-view+json": {
              "model_id": "c0162791377f49b6bf3c4be0a21497c8",
              "version_major": 2,
              "version_minor": 0
            },
            "text/plain": [
              "Training:   0%|                                           | 0/7 [00:00<?, ?it/s]"
            ]
          },
          "metadata": {},
          "output_type": "display_data"
        },
        {
          "name": "stdout",
          "output_type": "stream",
          "text": [
            "Epoch: 27/50 - Loss: 0.0387\n"
          ]
        },
        {
          "data": {
            "application/vnd.jupyter.widget-view+json": {
              "model_id": "794b1dd7dfc14be9aa0c948f27937be6",
              "version_major": 2,
              "version_minor": 0
            },
            "text/plain": [
              "Training:   0%|                                           | 0/7 [00:00<?, ?it/s]"
            ]
          },
          "metadata": {},
          "output_type": "display_data"
        },
        {
          "name": "stdout",
          "output_type": "stream",
          "text": [
            "Epoch: 28/50 - Loss: 0.0705\n"
          ]
        },
        {
          "data": {
            "application/vnd.jupyter.widget-view+json": {
              "model_id": "db27136dcf19448d9a88e35fe7350672",
              "version_major": 2,
              "version_minor": 0
            },
            "text/plain": [
              "Training:   0%|                                           | 0/7 [00:00<?, ?it/s]"
            ]
          },
          "metadata": {},
          "output_type": "display_data"
        },
        {
          "name": "stdout",
          "output_type": "stream",
          "text": [
            "Epoch: 29/50 - Loss: 0.0077\n"
          ]
        },
        {
          "data": {
            "application/vnd.jupyter.widget-view+json": {
              "model_id": "22fc39dd3893404288e5d4e50898bfd0",
              "version_major": 2,
              "version_minor": 0
            },
            "text/plain": [
              "Training:   0%|                                           | 0/7 [00:00<?, ?it/s]"
            ]
          },
          "metadata": {},
          "output_type": "display_data"
        },
        {
          "name": "stdout",
          "output_type": "stream",
          "text": [
            "Epoch: 30/50 - Loss: 0.0309\n"
          ]
        },
        {
          "data": {
            "application/vnd.jupyter.widget-view+json": {
              "model_id": "ac079b777fae43b9a9d8ac13e147e2c0",
              "version_major": 2,
              "version_minor": 0
            },
            "text/plain": [
              "Training:   0%|                                           | 0/7 [00:00<?, ?it/s]"
            ]
          },
          "metadata": {},
          "output_type": "display_data"
        },
        {
          "name": "stdout",
          "output_type": "stream",
          "text": [
            "Epoch: 31/50 - Loss: 0.0508\n"
          ]
        },
        {
          "data": {
            "application/vnd.jupyter.widget-view+json": {
              "model_id": "4a35b7921a0647ea8416361706d3727e",
              "version_major": 2,
              "version_minor": 0
            },
            "text/plain": [
              "Training:   0%|                                           | 0/7 [00:00<?, ?it/s]"
            ]
          },
          "metadata": {},
          "output_type": "display_data"
        },
        {
          "name": "stdout",
          "output_type": "stream",
          "text": [
            "Epoch: 32/50 - Loss: 0.0230\n"
          ]
        },
        {
          "data": {
            "application/vnd.jupyter.widget-view+json": {
              "model_id": "df2a5b596385424e9d468cc2ef966b95",
              "version_major": 2,
              "version_minor": 0
            },
            "text/plain": [
              "Training:   0%|                                           | 0/7 [00:00<?, ?it/s]"
            ]
          },
          "metadata": {},
          "output_type": "display_data"
        },
        {
          "name": "stdout",
          "output_type": "stream",
          "text": [
            "Epoch: 33/50 - Loss: 0.0058\n"
          ]
        },
        {
          "data": {
            "application/vnd.jupyter.widget-view+json": {
              "model_id": "775eb7b6de43414ebd9903d482c49ef8",
              "version_major": 2,
              "version_minor": 0
            },
            "text/plain": [
              "Training:   0%|                                           | 0/7 [00:00<?, ?it/s]"
            ]
          },
          "metadata": {},
          "output_type": "display_data"
        },
        {
          "name": "stdout",
          "output_type": "stream",
          "text": [
            "Epoch: 34/50 - Loss: 0.0007\n"
          ]
        },
        {
          "data": {
            "application/vnd.jupyter.widget-view+json": {
              "model_id": "50e938ae389c4a62bb7de966556abe3d",
              "version_major": 2,
              "version_minor": 0
            },
            "text/plain": [
              "Training:   0%|                                           | 0/7 [00:00<?, ?it/s]"
            ]
          },
          "metadata": {},
          "output_type": "display_data"
        },
        {
          "name": "stdout",
          "output_type": "stream",
          "text": [
            "Epoch: 35/50 - Loss: 0.0012\n"
          ]
        },
        {
          "data": {
            "application/vnd.jupyter.widget-view+json": {
              "model_id": "836fcdad65204a92a7438c21a7f22a90",
              "version_major": 2,
              "version_minor": 0
            },
            "text/plain": [
              "Training:   0%|                                           | 0/7 [00:00<?, ?it/s]"
            ]
          },
          "metadata": {},
          "output_type": "display_data"
        },
        {
          "name": "stdout",
          "output_type": "stream",
          "text": [
            "Epoch: 36/50 - Loss: 0.0004\n"
          ]
        },
        {
          "data": {
            "application/vnd.jupyter.widget-view+json": {
              "model_id": "1ec3de1415db468184329dad65eb59d4",
              "version_major": 2,
              "version_minor": 0
            },
            "text/plain": [
              "Training:   0%|                                           | 0/7 [00:00<?, ?it/s]"
            ]
          },
          "metadata": {},
          "output_type": "display_data"
        },
        {
          "name": "stdout",
          "output_type": "stream",
          "text": [
            "Epoch: 37/50 - Loss: 0.0085\n"
          ]
        },
        {
          "data": {
            "application/vnd.jupyter.widget-view+json": {
              "model_id": "c9e90747b1094a639cd1a7ce4fe8af77",
              "version_major": 2,
              "version_minor": 0
            },
            "text/plain": [
              "Training:   0%|                                           | 0/7 [00:00<?, ?it/s]"
            ]
          },
          "metadata": {},
          "output_type": "display_data"
        },
        {
          "name": "stdout",
          "output_type": "stream",
          "text": [
            "Epoch: 38/50 - Loss: 0.0018\n"
          ]
        },
        {
          "data": {
            "application/vnd.jupyter.widget-view+json": {
              "model_id": "c434a2e4f889409799cfadd178bf7f21",
              "version_major": 2,
              "version_minor": 0
            },
            "text/plain": [
              "Training:   0%|                                           | 0/7 [00:00<?, ?it/s]"
            ]
          },
          "metadata": {},
          "output_type": "display_data"
        },
        {
          "name": "stdout",
          "output_type": "stream",
          "text": [
            "Epoch: 39/50 - Loss: 0.0049\n"
          ]
        },
        {
          "data": {
            "application/vnd.jupyter.widget-view+json": {
              "model_id": "184e95f38d604121ab332c69d9e63e53",
              "version_major": 2,
              "version_minor": 0
            },
            "text/plain": [
              "Training:   0%|                                           | 0/7 [00:00<?, ?it/s]"
            ]
          },
          "metadata": {},
          "output_type": "display_data"
        },
        {
          "name": "stdout",
          "output_type": "stream",
          "text": [
            "Epoch: 40/50 - Loss: 0.0031\n"
          ]
        },
        {
          "data": {
            "application/vnd.jupyter.widget-view+json": {
              "model_id": "977d02b2dbdc4d70bb09be5fc647df13",
              "version_major": 2,
              "version_minor": 0
            },
            "text/plain": [
              "Training:   0%|                                           | 0/7 [00:00<?, ?it/s]"
            ]
          },
          "metadata": {},
          "output_type": "display_data"
        },
        {
          "name": "stdout",
          "output_type": "stream",
          "text": [
            "Epoch: 41/50 - Loss: 0.0012\n"
          ]
        },
        {
          "data": {
            "application/vnd.jupyter.widget-view+json": {
              "model_id": "06366c87c0d24e0ab3ba55a3fbef40fa",
              "version_major": 2,
              "version_minor": 0
            },
            "text/plain": [
              "Training:   0%|                                           | 0/7 [00:00<?, ?it/s]"
            ]
          },
          "metadata": {},
          "output_type": "display_data"
        },
        {
          "name": "stdout",
          "output_type": "stream",
          "text": [
            "Epoch: 42/50 - Loss: 0.0000\n"
          ]
        },
        {
          "data": {
            "application/vnd.jupyter.widget-view+json": {
              "model_id": "90519d86ab1043109ec3059d9aa4c672",
              "version_major": 2,
              "version_minor": 0
            },
            "text/plain": [
              "Training:   0%|                                           | 0/7 [00:00<?, ?it/s]"
            ]
          },
          "metadata": {},
          "output_type": "display_data"
        },
        {
          "name": "stdout",
          "output_type": "stream",
          "text": [
            "Epoch: 43/50 - Loss: 0.0000\n"
          ]
        },
        {
          "data": {
            "application/vnd.jupyter.widget-view+json": {
              "model_id": "ba3892cc1fd646ba8dc544cb7a5ae82e",
              "version_major": 2,
              "version_minor": 0
            },
            "text/plain": [
              "Training:   0%|                                           | 0/7 [00:00<?, ?it/s]"
            ]
          },
          "metadata": {},
          "output_type": "display_data"
        },
        {
          "name": "stdout",
          "output_type": "stream",
          "text": [
            "Epoch: 44/50 - Loss: 0.0125\n"
          ]
        },
        {
          "data": {
            "application/vnd.jupyter.widget-view+json": {
              "model_id": "1ef85ebed00c44b6a4b9ff9c084f8f67",
              "version_major": 2,
              "version_minor": 0
            },
            "text/plain": [
              "Training:   0%|                                           | 0/7 [00:00<?, ?it/s]"
            ]
          },
          "metadata": {},
          "output_type": "display_data"
        },
        {
          "name": "stdout",
          "output_type": "stream",
          "text": [
            "Epoch: 45/50 - Loss: 0.0000\n"
          ]
        },
        {
          "data": {
            "application/vnd.jupyter.widget-view+json": {
              "model_id": "c031f8192a84434e99f496e7bdabddb5",
              "version_major": 2,
              "version_minor": 0
            },
            "text/plain": [
              "Training:   0%|                                           | 0/7 [00:00<?, ?it/s]"
            ]
          },
          "metadata": {},
          "output_type": "display_data"
        },
        {
          "name": "stdout",
          "output_type": "stream",
          "text": [
            "Epoch: 46/50 - Loss: 0.0019\n"
          ]
        },
        {
          "data": {
            "application/vnd.jupyter.widget-view+json": {
              "model_id": "9af08ec3721a49629b9ad380e4ca1a14",
              "version_major": 2,
              "version_minor": 0
            },
            "text/plain": [
              "Training:   0%|                                           | 0/7 [00:00<?, ?it/s]"
            ]
          },
          "metadata": {},
          "output_type": "display_data"
        },
        {
          "name": "stdout",
          "output_type": "stream",
          "text": [
            "Epoch: 47/50 - Loss: 0.0199\n"
          ]
        },
        {
          "data": {
            "application/vnd.jupyter.widget-view+json": {
              "model_id": "ac57d66b40a44d99a196cc98f48747d3",
              "version_major": 2,
              "version_minor": 0
            },
            "text/plain": [
              "Training:   0%|                                           | 0/7 [00:00<?, ?it/s]"
            ]
          },
          "metadata": {},
          "output_type": "display_data"
        },
        {
          "name": "stdout",
          "output_type": "stream",
          "text": [
            "Epoch: 48/50 - Loss: 0.0049\n"
          ]
        },
        {
          "data": {
            "application/vnd.jupyter.widget-view+json": {
              "model_id": "3cc67764f5e64db280e206d7f3e43f82",
              "version_major": 2,
              "version_minor": 0
            },
            "text/plain": [
              "Training:   0%|                                           | 0/7 [00:00<?, ?it/s]"
            ]
          },
          "metadata": {},
          "output_type": "display_data"
        },
        {
          "name": "stdout",
          "output_type": "stream",
          "text": [
            "Epoch: 49/50 - Loss: 0.0033\n"
          ]
        }
      ],
      "source": [
        "resnet.train()\n",
        "epochs = 50\n",
        "loss_total = []\n",
        "\n",
        "for epoch in tqdm(range(epochs), desc=\"Epochs\", leave=True, ncols=80, position=0):\n",
        "    running_loss = []\n",
        "    for step, (anchors, positives, negatives, labels) in enumerate(tqdm(celeba_dataloader, desc=\"Training\", ncols=80, position=1, leave=False)):\n",
        "        anchors = anchors.to(device)\n",
        "        positives = positives.to(device)\n",
        "        negatives = negatives.to(device)\n",
        "\n",
        "        optimizer.zero_grad()\n",
        "\n",
        "        anchor_emb = resnet(anchors)\n",
        "        positive_emb = resnet(positives)\n",
        "        negative_emb = resnet(negatives)\n",
        "\n",
        "        loss = criterion(anchor_emb, positive_emb, negative_emb)\n",
        "        # print(\"loss is {}\".format(loss))\n",
        "        loss.backward()\n",
        "        optimizer.step()\n",
        "\n",
        "        running_loss.append(loss.cpu().detach().numpy())\n",
        "        \n",
        "    loss_total.append(np.mean(running_loss))\n",
        "    print(\"Epoch: {}/{} - Loss: {:.4f}\".format(epoch, epochs, np.mean(running_loss)))\n"
      ]
    },
    {
      "cell_type": "markdown",
      "metadata": {},
      "source": [
        "## Plotting Loss curve"
      ]
    },
    {
      "cell_type": "code",
      "execution_count": 11,
      "metadata": {},
      "outputs": [
        {
          "data": {
            "image/png": "[encoded data removed]",
            "text/plain": [
              "<Figure size 432x288 with 1 Axes>"
            ]
          },
          "metadata": {
            "needs_background": "light"
          },
          "output_type": "display_data"
        }
      ],
      "source": [
        "# printing loss function\n",
        "plt.plot(loss_total)\n",
        "plt.xlabel(\"Epochs\")\n",
        "plt.ylabel(\"TripletLoss\")\n",
        "plt.title(\"Training loss\")\n",
        "plt.show()"
      ]
    },
    {
      "cell_type": "markdown",
      "metadata": {},
      "source": [
        "## Testing the trained model:"
      ]
    },
    {
      "cell_type": "code",
      "execution_count": 12,
      "metadata": {},
      "outputs": [
        {
          "name": "stdout",
          "output_type": "stream",
          "text": [
            "The distance between anchor and positive: 3.0804789066314697\n",
            "The distance between anchor and negative: 3.2293660640716553\n"
          ]
        }
      ],
      "source": [
        "resnet.eval().to(device)\n",
        "\n",
        "test_anchor, test_pos, test_neg, anchor_label = celeba_dataset[1]\n",
        "# test_anchor, test_pos, test_neg, anchor_label = test_anchor[1], test_pos[1], test_neg[1], anchor_label[1]\n",
        "\n",
        "test_anchor_emb = resnet(test_anchor[None, :])\n",
        "test_pos_emb = resnet(test_pos[None, :])\n",
        "test_neg_emb = resnet(test_neg[None, :])\n",
        "\n",
        "pos_dist = criterion.cal_distance(test_anchor_emb, test_pos_emb)\n",
        "neg_dist = criterion.cal_distance(test_anchor_emb, test_neg_emb)\n",
        "\n",
        "print(\"The distance between anchor and positive: {}\".format(pos_dist[0]))\n",
        "print(\"The distance between anchor and negative: {}\".format(neg_dist[0]))"
      ]
    }
  ],
  "metadata": {
    "accelerator": "GPU",
    "colab": {
      "collapsed_sections": [
        "9TwXdV7BHeoT",
        "k0mnB3l9Ha9D",
        "w7Ta2e8wa3UM",
        "gU46F-JyF2PA",
        "3JLywKFbopy9",
        "aEBA_FaWHpgY",
        "IJAT0dvwHfaa",
        "vqPiqddKE51v"
      ],
      "provenance": []
    },
    "kernelspec": {
      "display_name": "Python 3.9.13 ('torch-env')",
      "language": "python",
      "name": "python3"
    },
    "language_info": {
      "codemirror_mode": {
        "name": "ipython",
        "version": 3
      },
      "file_extension": ".py",
      "mimetype": "text/x-python",
      "name": "python",
      "nbconvert_exporter": "python",
      "pygments_lexer": "ipython3",
      "version": "3.9.13"
    },
    "vscode": {
      "interpreter": {
        "hash": "915d08fc081d212946bc55eb28a5b744f9509c1c054f3f4f212ad3c247333ef8"
      }
    }
  },
  "nbformat": 4,
  "nbformat_minor": 0
}
