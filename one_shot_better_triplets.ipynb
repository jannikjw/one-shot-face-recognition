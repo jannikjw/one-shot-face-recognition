{
 "cells": [
  {
   "cell_type": "markdown",
   "metadata": {
    "id": "9TwXdV7BHeoT"
   },
   "source": [
    "## Install Packages"
   ]
  },
  {
   "cell_type": "code",
   "execution_count": 1,
   "metadata": {
    "colab": {
     "base_uri": "https://localhost:8080/",
     "height": 508
    },
    "id": "qaGV91DX1SIf",
    "outputId": "41e58374-8636-4077-c5b5-15867d881dfa"
   },
   "outputs": [
    {
     "name": "stdout",
     "output_type": "stream",
     "text": [
      "cuda:0\n"
     ]
    }
   ],
   "source": [
    "from facenet_pytorch import MTCNN, InceptionResnetV1, fixed_image_standardization\n",
    "import sklearn\n",
    "import torch\n",
    "from torch.utils.data import DataLoader, Dataset, SubsetRandomSampler, SequentialSampler\n",
    "from torchvision import datasets\n",
    "from matplotlib import pyplot as plt\n",
    "import seaborn as sns\n",
    "import numpy as np\n",
    "import pandas as pd\n",
    "import os\n",
    "import torch\n",
    "import torch.nn as nn\n",
    "import torch.nn.functional as F\n",
    "import torch.optim as optim\n",
    "from torch.utils.data import Dataset\n",
    "from torchvision import transforms\n",
    "from PIL import Image\n",
    "from src.utils.triplet_loss import BatchAllTtripletLoss\n",
    "from tqdm.notebook import tqdm\n",
    "from src.utils.celeba_helper import CelebADataset, CelebAClassifier, CelebADatasetTriplet, get_embeddings_and_file_names\n",
    "from src.utils.loss_functions import TripletLoss\n",
    "from src.utils.similarity_functions import euclidean_distance_matrix\n",
    "from importlib import reload\n",
    "\n",
    "device = torch.device('cuda:0' if torch.cuda.is_available() else 'cpu')\n",
    "nGPU = torch.cuda.device_count()\n",
    "print(device)"
   ]
  },
  {
   "cell_type": "markdown",
   "metadata": {
    "id": "w7Ta2e8wa3UM"
   },
   "source": [
    "# Define CelebA Dataset and Loader"
   ]
  },
  {
   "cell_type": "code",
   "execution_count": 2,
   "metadata": {
    "id": "hkdQB_ZODfmw"
   },
   "outputs": [],
   "source": [
    "## Load the dataset\n",
    "# Path to directory with all the images\n",
    "img_folder = 'data/img_align_celeba'\n",
    "mapping_file = 'data/identity_CelebA.txt'\n",
    "\n",
    "image_size = 160\n",
    "transform=transforms.Compose([\n",
    "    transforms.Resize(image_size),\n",
    "    np.float32,\n",
    "    transforms.ToTensor(),\n",
    "    fixed_image_standardization\n",
    "])\n",
    "\n",
    "# Load the dataset from file and apply transformations\n",
    "celeba_dataset = CelebADataset(img_folder, mapping_file, transform)"
   ]
  },
  {
   "cell_type": "markdown",
   "metadata": {},
   "source": [
    "### Define train and test dataset"
   ]
  },
  {
   "cell_type": "code",
   "execution_count": 3,
   "metadata": {},
   "outputs": [
    {
     "name": "stdout",
     "output_type": "stream",
     "text": [
      "TRAIN SET: There are 20266 images in the training data of 10133 people.\n"
     ]
    }
   ],
   "source": [
    "train_img_pp = 2\n",
    "\n",
    "train_files, train_labels = celeba_dataset.create_X_shot_dataset(img_pp=2)\n",
    "print(f\"TRAIN SET: There are {len(train_files)} images in the training data of {len(np.unique(train_labels))} people.\")"
   ]
  },
  {
   "cell_type": "code",
   "execution_count": 4,
   "metadata": {},
   "outputs": [
    {
     "data": {
      "text/html": [
       "<div>\n",
       "<style scoped>\n",
       "    .dataframe tbody tr th:only-of-type {\n",
       "        vertical-align: middle;\n",
       "    }\n",
       "\n",
       "    .dataframe tbody tr th {\n",
       "        vertical-align: top;\n",
       "    }\n",
       "\n",
       "    .dataframe thead th {\n",
       "        text-align: right;\n",
       "    }\n",
       "</style>\n",
       "<table border=\"1\" class=\"dataframe\">\n",
       "  <thead>\n",
       "    <tr style=\"text-align: right;\">\n",
       "      <th></th>\n",
       "      <th>file_name</th>\n",
       "      <th>person_id</th>\n",
       "      <th>is_train</th>\n",
       "      <th>file_id</th>\n",
       "    </tr>\n",
       "  </thead>\n",
       "  <tbody>\n",
       "    <tr>\n",
       "      <th>0</th>\n",
       "      <td>000001.jpg</td>\n",
       "      <td>2880</td>\n",
       "      <td>1</td>\n",
       "      <td>0</td>\n",
       "    </tr>\n",
       "    <tr>\n",
       "      <th>1</th>\n",
       "      <td>000002.jpg</td>\n",
       "      <td>2937</td>\n",
       "      <td>1</td>\n",
       "      <td>1</td>\n",
       "    </tr>\n",
       "    <tr>\n",
       "      <th>2</th>\n",
       "      <td>000003.jpg</td>\n",
       "      <td>8692</td>\n",
       "      <td>1</td>\n",
       "      <td>2</td>\n",
       "    </tr>\n",
       "  </tbody>\n",
       "</table>\n",
       "</div>"
      ],
      "text/plain": [
       "    file_name  person_id  is_train  file_id\n",
       "0  000001.jpg       2880         1        0\n",
       "1  000002.jpg       2937         1        1\n",
       "2  000003.jpg       8692         1        2"
      ]
     },
     "execution_count": 4,
     "metadata": {},
     "output_type": "execute_result"
    }
   ],
   "source": [
    "flm = celeba_dataset.file_label_mapping\n",
    "\n",
    "flm.loc[:, 'is_train'] = 0\n",
    "flm.loc[flm['file_name'].isin(train_files), 'is_train'] = 1\n",
    "flm['file_id'] = [int(elem[:6])-1 for elem in flm['file_name'].values]\n",
    "\n",
    "train_df = flm[flm['is_train']==1]\n",
    "test_df = flm[flm['is_train']==0]\n",
    "\n",
    "train_df.head(3)"
   ]
  },
  {
   "cell_type": "markdown",
   "metadata": {},
   "source": [
    "### Create DataLoaders"
   ]
  },
  {
   "cell_type": "code",
   "execution_count": 5,
   "metadata": {},
   "outputs": [
    {
     "name": "stdout",
     "output_type": "stream",
     "text": [
      "TRAIN SET: There are 20266 images of 10133 people in the train set.\n",
      "TEST SET:  There are 182333 images of 9853 people in the test set.\n"
     ]
    },
    {
     "name": "stderr",
     "output_type": "stream",
     "text": [
      "/opt/conda/envs/faceenv2/lib/python3.8/site-packages/torch/utils/data/dataloader.py:554: UserWarning: This DataLoader will create 12 worker processes in total. Our suggested max number of worker in current system is 8, which is smaller than what this DataLoader is going to create. Please be aware that excessive worker creation might get DataLoader running slow or even freeze, lower the worker number to avoid potential slowness/freeze if necessary.\n",
      "  warnings.warn(_create_warning_msg(\n"
     ]
    }
   ],
   "source": [
    "# Number of workers for the dataloader\n",
    "num_workers = 12 * nGPU if device.type == 'cuda' else 2\n",
    "# Whether to put fetched data tensors to pinned memory\n",
    "pin_memory = True if device.type == 'cuda' else False\n",
    "\n",
    "# Train set parameters\n",
    "batch_size = 256\n",
    "\n",
    "is_subset = False\n",
    "size_train_set = 1000\n",
    "\n",
    "# Test set parameters\n",
    "test_batch_size = 256\n",
    "\n",
    "# Sample datasets for faster experimentation\n",
    "subset_people = np.unique(train_df['person_id'])\n",
    "subset_train_df = pd.DataFrame.copy(train_df)\n",
    "subset_test_df = pd.DataFrame.copy(test_df)\n",
    "\n",
    "if is_subset:\n",
    "    subset_people = np.random.choice(np.unique(train_df['person_id']), size=size_train_set, replace=False)\n",
    "    subset_train_df = pd.DataFrame.copy(train_df[train_df['person_id'].isin(subset_people)])\n",
    "    subset_test_df = pd.DataFrame.copy(test_df[test_df['person_id'].isin(subset_people)])\n",
    "\n",
    "train_inds = subset_train_df['file_id'].values.tolist()\n",
    "test_inds = subset_test_df['file_id'].values.tolist()\n",
    "\n",
    "# Create dataloaders\n",
    "train_loader = DataLoader(\n",
    "    celeba_dataset,\n",
    "    num_workers=num_workers,\n",
    "    batch_size=batch_size,\n",
    "    pin_memory=pin_memory,\n",
    "    sampler=SubsetRandomSampler(train_inds)\n",
    ")\n",
    "    \n",
    "test_loader = DataLoader(\n",
    "    celeba_dataset,\n",
    "    num_workers=num_workers,\n",
    "    batch_size=test_batch_size,\n",
    "    pin_memory=pin_memory,\n",
    "    sampler=SubsetRandomSampler(test_inds)\n",
    ")\n",
    "test_set_num_people = len(np.unique(subset_test_df['person_id']))\n",
    "                                                                   \n",
    "print(f\"TRAIN SET: There are {len(train_inds)} images of {len(np.unique(subset_train_df['person_id']))} people in the train set.\")\n",
    "print(f\"TEST SET:  There are {len(test_inds)} images of {len(np.unique(subset_test_df['person_id']))} people in the test set.\") "
   ]
  },
  {
   "cell_type": "markdown",
   "metadata": {},
   "source": [
    "# FaceNet Training Pipeline"
   ]
  },
  {
   "cell_type": "markdown",
   "metadata": {
    "tags": []
   },
   "source": [
    "## Initializing the resnet model, optimizer and loss function"
   ]
  },
  {
   "cell_type": "code",
   "execution_count": 6,
   "metadata": {},
   "outputs": [],
   "source": [
    "margin = 0.5\n",
    "gamma = 0.1\n",
    "lr = 0.1\n",
    "epochs = 200\n",
    "\n",
    "schedule = [40, 80, 130, 160]\n",
    "str_schedule = \"_\".join(map(str, schedule))\n",
    "\n",
    "resnet = InceptionResnetV1(pretrained='vggface2', classify=False).to(device)"
   ]
  },
  {
   "cell_type": "code",
   "execution_count": 7,
   "metadata": {},
   "outputs": [
    {
     "name": "stdout",
     "output_type": "stream",
     "text": [
      "last_linear.weight\n",
      "last_bn.weight\n",
      "last_bn.bias\n"
     ]
    }
   ],
   "source": [
    "# @title Freeze upstream layers\n",
    "def set_parameter_requires_grad(model):\n",
    "    for name, param in model.named_parameters():\n",
    "        if \"last\" not in name:\n",
    "            param.requires_grad = False\n",
    "\n",
    "set_parameter_requires_grad(resnet)\n",
    "for name, param in resnet.named_parameters():\n",
    "    if param.requires_grad == True:\n",
    "        print(name)"
   ]
  },
  {
   "cell_type": "code",
   "execution_count": 8,
   "metadata": {},
   "outputs": [],
   "source": [
    "# @title Define optimizer and loss\n",
    "optimizer = optim.Adam(filter(lambda p: p.requires_grad, resnet.parameters()), lr=lr)\n",
    "criterion = BatchAllTtripletLoss()\n",
    "scheduler = torch.optim.lr_scheduler.MultiStepLR(optimizer, milestones=schedule, gamma=gamma)"
   ]
  },
  {
   "cell_type": "markdown",
   "metadata": {},
   "source": [
    "## Training steps"
   ]
  },
  {
   "cell_type": "code",
   "execution_count": 11,
   "metadata": {},
   "outputs": [],
   "source": [
    "def train_step(X, y, train_df):\n",
    "    X, y = celeba_dataset.find_positive_observations(X, y, train_df)\n",
    "        \n",
    "    # Create embeddings\n",
    "    X_emb = resnet(X.to(device))\n",
    "    optimizer.zero_grad()\n",
    "\n",
    "    loss = criterion(X_emb, y.to(device))\n",
    "    loss.backward()\n",
    "    optimizer.step()\n",
    "    return loss"
   ]
  },
  {
   "cell_type": "code",
   "execution_count": 12,
   "metadata": {},
   "outputs": [
    {
     "data": {
      "text/plain": [
       "tensor(0.3973, device='cuda:0', grad_fn=<DivBackward0>)"
      ]
     },
     "execution_count": 12,
     "metadata": {},
     "output_type": "execute_result"
    }
   ],
   "source": [
    "# Test train_step\n",
    "X, y = next(iter(train_loader))\n",
    "train_step(X, y, train_df)"
   ]
  },
  {
   "cell_type": "code",
   "execution_count": 29,
   "metadata": {},
   "outputs": [
    {
     "data": {
      "application/vnd.jupyter.widget-view+json": {
       "model_id": "d7cb21196b9b4e719e850ef75a76b290",
       "version_major": 2,
       "version_minor": 0
      },
      "text/plain": [
       "Epochs:   0%|          | 0/10 [00:00<?, ?it/s]"
      ]
     },
     "metadata": {},
     "output_type": "display_data"
    },
    {
     "data": {
      "application/vnd.jupyter.widget-view+json": {
       "model_id": "a4b74d186a7844a0bad9fa94f5fefbab",
       "version_major": 2,
       "version_minor": 0
      },
      "text/plain": [
       "Current Batch:   0%|          | 0/80 [00:00<?, ?it/s]"
      ]
     },
     "metadata": {},
     "output_type": "display_data"
    },
    {
     "name": "stdout",
     "output_type": "stream",
     "text": [
      "Epoch: 1/10 - Loss: 0.4258\n"
     ]
    },
    {
     "data": {
      "application/vnd.jupyter.widget-view+json": {
       "model_id": "e85c7442aa184e65aca6026f1d212167",
       "version_major": 2,
       "version_minor": 0
      },
      "text/plain": [
       "Current Batch:   0%|          | 0/80 [00:00<?, ?it/s]"
      ]
     },
     "metadata": {},
     "output_type": "display_data"
    },
    {
     "name": "stdout",
     "output_type": "stream",
     "text": [
      "Epoch: 2/10 - Loss: 0.4124\n"
     ]
    },
    {
     "data": {
      "application/vnd.jupyter.widget-view+json": {
       "model_id": "665aa52ef64341a5aa3cd40bac2f5403",
       "version_major": 2,
       "version_minor": 0
      },
      "text/plain": [
       "Current Batch:   0%|          | 0/80 [00:00<?, ?it/s]"
      ]
     },
     "metadata": {},
     "output_type": "display_data"
    },
    {
     "name": "stdout",
     "output_type": "stream",
     "text": [
      "Epoch: 3/10 - Loss: 0.4070\n"
     ]
    },
    {
     "data": {
      "application/vnd.jupyter.widget-view+json": {
       "model_id": "188fcdd82a994310b3d709dabe46b7e2",
       "version_major": 2,
       "version_minor": 0
      },
      "text/plain": [
       "Current Batch:   0%|          | 0/80 [00:00<?, ?it/s]"
      ]
     },
     "metadata": {},
     "output_type": "display_data"
    },
    {
     "name": "stdout",
     "output_type": "stream",
     "text": [
      "Epoch: 4/10 - Loss: 0.4054\n"
     ]
    },
    {
     "data": {
      "application/vnd.jupyter.widget-view+json": {
       "model_id": "88738cbe38404c64ba122fce0a42f299",
       "version_major": 2,
       "version_minor": 0
      },
      "text/plain": [
       "Current Batch:   0%|          | 0/80 [00:00<?, ?it/s]"
      ]
     },
     "metadata": {},
     "output_type": "display_data"
    },
    {
     "name": "stdout",
     "output_type": "stream",
     "text": [
      "Epoch: 5/10 - Loss: 0.4018\n"
     ]
    },
    {
     "data": {
      "application/vnd.jupyter.widget-view+json": {
       "model_id": "e4a71379382c4dcb98bf6e3de961c1ea",
       "version_major": 2,
       "version_minor": 0
      },
      "text/plain": [
       "Current Batch:   0%|          | 0/80 [00:00<?, ?it/s]"
      ]
     },
     "metadata": {},
     "output_type": "display_data"
    },
    {
     "name": "stdout",
     "output_type": "stream",
     "text": [
      "Epoch: 6/10 - Loss: 0.4011\n"
     ]
    },
    {
     "data": {
      "application/vnd.jupyter.widget-view+json": {
       "model_id": "69f3126c02db4b109f90e9451b42ab72",
       "version_major": 2,
       "version_minor": 0
      },
      "text/plain": [
       "Current Batch:   0%|          | 0/80 [00:00<?, ?it/s]"
      ]
     },
     "metadata": {},
     "output_type": "display_data"
    },
    {
     "name": "stdout",
     "output_type": "stream",
     "text": [
      "Epoch: 7/10 - Loss: 0.4014\n"
     ]
    },
    {
     "data": {
      "application/vnd.jupyter.widget-view+json": {
       "model_id": "2bc2568272794f1ab29e4efc2d8975c7",
       "version_major": 2,
       "version_minor": 0
      },
      "text/plain": [
       "Current Batch:   0%|          | 0/80 [00:00<?, ?it/s]"
      ]
     },
     "metadata": {},
     "output_type": "display_data"
    },
    {
     "name": "stdout",
     "output_type": "stream",
     "text": [
      "Epoch: 8/10 - Loss: 0.3975\n"
     ]
    },
    {
     "data": {
      "application/vnd.jupyter.widget-view+json": {
       "model_id": "05eb8344ee6d4d74a70d3d159b4014de",
       "version_major": 2,
       "version_minor": 0
      },
      "text/plain": [
       "Current Batch:   0%|          | 0/80 [00:00<?, ?it/s]"
      ]
     },
     "metadata": {},
     "output_type": "display_data"
    },
    {
     "name": "stdout",
     "output_type": "stream",
     "text": [
      "Epoch: 9/10 - Loss: 0.3994\n"
     ]
    },
    {
     "data": {
      "application/vnd.jupyter.widget-view+json": {
       "model_id": "1365732cf6a14df7ae3278493ab7dd3b",
       "version_major": 2,
       "version_minor": 0
      },
      "text/plain": [
       "Current Batch:   0%|          | 0/80 [00:00<?, ?it/s]"
      ]
     },
     "metadata": {},
     "output_type": "display_data"
    },
    {
     "name": "stdout",
     "output_type": "stream",
     "text": [
      "Epoch: 10/10 - Loss: 0.3983\n"
     ]
    }
   ],
   "source": [
    "resnet.train()\n",
    "epochs = 10\n",
    "loss_total = []\n",
    "\n",
    "for epoch in tqdm(range(epochs), desc=\"Epochs\", leave=True):\n",
    "    running_loss = []\n",
    "    for step, (X,y) in enumerate(tqdm(train_loader, desc='Current Batch', leave=True)):\n",
    "        loss = train_step(X, y, train_df)\n",
    "        running_loss.append(loss.cpu().detach().numpy())\n",
    "\n",
    "    loss_total.append(np.mean(running_loss))\n",
    "    print(\"Epoch: {}/{} - Loss: {:.4f}\".format(epoch+1, epochs, np.mean(running_loss)))"
   ]
  },
  {
   "cell_type": "code",
   "execution_count": 30,
   "metadata": {},
   "outputs": [],
   "source": [
    "from datetime import datetime\n",
    "\n",
    "now = datetime.now()\n",
    "dt_str = now.strftime(\"%Y-%m-%d_%H:%M:%S\")\n",
    "\n",
    "# Save model weights\n",
    "model_state_path = f\"models/facenet_model_statedict_{dt_str}_{size_train_set}people_{train_img_pp}imgpp_{epochs}epochs.pth\"\n",
    "if not os.path.exists(model_state_path):\n",
    "    torch.save(resnet.state_dict(), model_state_path)\n",
    "\n",
    "# Save loss values\n",
    "losses_path = f\"experiments/loss_train_list_{dt_str}_{size_train_set}people_{train_img_pp}imgpp_{epochs}epochs.pth\"\n",
    "if not os.path.exists(model_state_path):\n",
    "    torch.save(torch.FloatTensor(running_loss), losses_path)"
   ]
  },
  {
   "cell_type": "markdown",
   "metadata": {},
   "source": [
    "## Plotting Loss curve"
   ]
  },
  {
   "cell_type": "code",
   "execution_count": 31,
   "metadata": {},
   "outputs": [
    {
     "data": {
      "image/png": "[encoded data removed]",
      "text/plain": [
       "<Figure size 640x480 with 1 Axes>"
      ]
     },
     "metadata": {},
     "output_type": "display_data"
    }
   ],
   "source": [
    "# printing loss function\n",
    "plt.plot(loss_total)\n",
    "plt.xlabel(\"Epochs\")\n",
    "plt.ylabel(\"TripletLoss\")\n",
    "plt.title(\"Training Triplet Loss\")\n",
    "plt.savefig(f\"loss_curves/loss_curve_{dt_str}_{size_train_set}people_{train_img_pp}imgpp_{epochs}epochs_{lr}lr.png\")\n",
    "plt.show()"
   ]
  },
  {
   "cell_type": "markdown",
   "metadata": {},
   "source": [
    "## Testing the trained model:"
   ]
  },
  {
   "cell_type": "markdown",
   "metadata": {},
   "source": [
    "## Accuracy of the model"
   ]
  },
  {
   "cell_type": "code",
   "execution_count": 33,
   "metadata": {},
   "outputs": [
    {
     "data": {
      "application/vnd.jupyter.widget-view+json": {
       "model_id": "9e9b69d39bd641628f54e678bb8d9603",
       "version_major": 2,
       "version_minor": 0
      },
      "text/plain": [
       "  0%|          | 0/80 [00:00<?, ?it/s]"
      ]
     },
     "metadata": {},
     "output_type": "display_data"
    },
    {
     "data": {
      "application/vnd.jupyter.widget-view+json": {
       "model_id": "611e131e89604316abe7ae42fdb2466e",
       "version_major": 2,
       "version_minor": 0
      },
      "text/plain": [
       "  0%|          | 0/713 [00:00<?, ?it/s]"
      ]
     },
     "metadata": {},
     "output_type": "display_data"
    },
    {
     "name": "stdout",
     "output_type": "stream",
     "text": [
      "TRAIN:     Embeddings: torch.Size([20266, 512]).\tLabels: torch.Size([20266]).\n",
      "TEST:      Embeddings: torch.Size([182333, 512]). Labels: torch.Size([182333]).\n"
     ]
    }
   ],
   "source": [
    "# Get embeddings - either from files (if exists) or by running model\n",
    "from datetime import datetime\n",
    "\n",
    "train_embeddings_path = f'pytorch_objects/train_embeddings_{dt_str}_{size_train_set}people_{train_img_pp}imgpp_{epochs}epochs.pt'\n",
    "train_labels_path = f'pytorch_objects/train_labels_{dt_str}_{size_train_set}people_{train_img_pp}imgpp_{epochs}epochs.pt'\n",
    "test_embeddings_path = f'pytorch_objects/test_embeddings_{dt_str}_{size_train_set}people_{epochs}epochs.pt'\n",
    "test_labels_path = f'pytorch_objects/test_labels_{dt_str}_{size_train_set}people_{epochs}epochs.pt'\n",
    "\n",
    "train_embeddings, train_labels = get_embeddings_and_file_names(resnet, train_loader, train_embeddings_path, train_labels_path)\n",
    "test_embeddings, test_labels = get_embeddings_and_file_names(resnet, test_loader, test_embeddings_path, test_labels_path)\n",
    "# aug_embeddings, aug_labels = celeba_helper.get_embeddings_and_file_names(resnet, aug_loader, save_tensors=False)\n",
    "    \n",
    "print(f'TRAIN:     Embeddings: {train_embeddings.shape}.\\tLabels: {train_labels.shape}.')\n",
    "# print(f'AUGMENTED: Embeddings: {aug_embeddings.shape}.\\tLabels: {aug_labels.shape}.')\n",
    "print(f'TEST:      Embeddings: {test_embeddings.shape}. Labels: {test_labels.shape}.')"
   ]
  },
  {
   "cell_type": "code",
   "execution_count": 34,
   "metadata": {},
   "outputs": [
    {
     "name": "stdout",
     "output_type": "stream",
     "text": [
      "Pre-trained model: Accuracy = 0.48917639703180443.\n",
      "CPU times: user 2min 30s, sys: 24.8 s, total: 2min 55s\n",
      "Wall time: 1min 13s\n"
     ]
    }
   ],
   "source": [
    "%%time\n",
    "from sklearn.neighbors import KNeighborsClassifier\n",
    "\n",
    "knn = KNeighborsClassifier(n_neighbors=1)\n",
    "knn.fit(train_embeddings, train_labels)\n",
    "score = knn.score(test_embeddings, test_labels)\n",
    "\n",
    "print(f'Pre-trained model: Accuracy = {score}.')"
   ]
  }
 ],
 "metadata": {
  "accelerator": "GPU",
  "colab": {
   "collapsed_sections": [
    "9TwXdV7BHeoT",
    "k0mnB3l9Ha9D",
    "w7Ta2e8wa3UM",
    "gU46F-JyF2PA",
    "3JLywKFbopy9",
    "aEBA_FaWHpgY",
    "IJAT0dvwHfaa",
    "vqPiqddKE51v"
   ],
   "provenance": []
  },
  "kernelspec": {
   "display_name": "faceenv2",
   "language": "python",
   "name": "faceenv2"
  },
  "language_info": {
   "codemirror_mode": {
    "name": "ipython",
    "version": 3
   },
   "file_extension": ".py",
   "mimetype": "text/x-python",
   "name": "python",
   "nbconvert_exporter": "python",
   "pygments_lexer": "ipython3",
   "version": "3.8.13"
  },
  "vscode": {
   "interpreter": {
    "hash": "fa56d487002647ce19700e56c377ef69da6ace515f2aecd558af12c55c24b683"
   }
  }
 },
 "nbformat": 4,
 "nbformat_minor": 4
}
