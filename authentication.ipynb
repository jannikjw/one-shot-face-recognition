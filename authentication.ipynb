{
 "cells": [
  {
   "cell_type": "code",
   "execution_count": 1,
   "metadata": {
    "ExecuteTime": {
     "end_time": "2022-12-12T16:31:52.735563Z",
     "start_time": "2022-12-12T16:31:49.307469Z"
    }
   },
   "outputs": [],
   "source": [
    "import numpy as np\n",
    "from facenet_pytorch import MTCNN, InceptionResnetV1, fixed_image_standardization\n",
    "import torch\n",
    "from matplotlib import pyplot as plt\n",
    "import pandas as pd\n",
    "import os\n",
    "import torch\n",
    "from PIL import Image\n",
    "from torchvision import transforms\n",
    "from tqdm.notebook import tqdm\n",
    "import pickle\n",
    "import random\n",
    "from sklearn.metrics import roc_curve\n",
    "\n",
    "workers = 0 if os.name == 'nt' else 2"
   ]
  },
  {
   "cell_type": "code",
   "execution_count": 2,
   "metadata": {
    "ExecuteTime": {
     "end_time": "2022-12-12T16:31:53.896210Z",
     "start_time": "2022-12-12T16:31:53.893069Z"
    }
   },
   "outputs": [],
   "source": [
    "device = torch.device('cuda:0' if torch.cuda.is_available() else 'cpu')"
   ]
  },
  {
   "cell_type": "code",
   "execution_count": 3,
   "metadata": {
    "ExecuteTime": {
     "end_time": "2022-12-12T16:32:02.931521Z",
     "start_time": "2022-12-12T16:32:02.928155Z"
    }
   },
   "outputs": [],
   "source": [
    "img_folder = '../one-shot-face-recognition-main-1125/all_images_mtcnn'\n",
    "mapping_file = '../one-shot-face-recognition-main-1125/identity_CelebA_all.txt'\n",
    "\n",
    "splits_file = \"test_splits_FE.pkl\"\n",
    "embedding_folder = './embeddings_FE'\n",
    "\n",
    "model_statedict = './facenet_model_statedict_epochs150_margin0.5_lr0.1_schedule40_70_95_130.pth'"
   ]
  },
  {
   "cell_type": "markdown",
   "metadata": {},
   "source": [
    "# exclude augmentation images"
   ]
  },
  {
   "cell_type": "code",
   "execution_count": 4,
   "metadata": {
    "ExecuteTime": {
     "end_time": "2022-12-12T16:32:09.011481Z",
     "start_time": "2022-12-12T16:32:08.170914Z"
    }
   },
   "outputs": [
    {
     "data": {
      "text/plain": [
       "202599"
      ]
     },
     "execution_count": 4,
     "metadata": {},
     "output_type": "execute_result"
    }
   ],
   "source": [
    "image_names = [i for i in os.listdir(img_folder) if i.lower().endswith('.jpg') and '_' not in i]\n",
    "len(image_names)"
   ]
  },
  {
   "cell_type": "code",
   "execution_count": 5,
   "metadata": {
    "ExecuteTime": {
     "end_time": "2022-12-12T16:32:47.432373Z",
     "start_time": "2022-12-12T16:32:09.764440Z"
    }
   },
   "outputs": [
    {
     "data": {
      "text/plain": [
       "(202599, 10177)"
      ]
     },
     "execution_count": 5,
     "metadata": {},
     "output_type": "execute_result"
    }
   ],
   "source": [
    "mapping = pd.read_csv(\n",
    "            mapping_file, header=None, sep=\" \", names=[\"file_name\", \"person_id\"])\n",
    "\n",
    "dict_image_person = {}\n",
    "dict_person_images = {}\n",
    "for index, row in mapping.iterrows():\n",
    "    if '_' in row['file_name']:\n",
    "        continue\n",
    "    if row['person_id'] not in dict_person_images:\n",
    "        dict_person_images[row['person_id']] = []\n",
    "    dict_person_images[row['person_id']].append(row['file_name'])\n",
    "    #file_name = row['file_name'].split('.')[0]\n",
    "    dict_image_person[row['file_name']] = row['person_id']\n",
    "    \n",
    "len(dict_image_person), len(dict_person_images)"
   ]
  },
  {
   "cell_type": "markdown",
   "metadata": {},
   "source": [
    "# create ten splits"
   ]
  },
  {
   "cell_type": "code",
   "execution_count": null,
   "metadata": {},
   "outputs": [],
   "source": [
    "people = list(dict_person_images.keys())\n",
    "len(people)"
   ]
  },
  {
   "cell_type": "code",
   "execution_count": null,
   "metadata": {},
   "outputs": [],
   "source": [
    "random.shuffle(people)\n",
    "people_sets = []\n",
    "for i in range(10):\n",
    "    s = people[i*1000:i*1000+1000]\n",
    "    people_sets.append(s)\n",
    "  "
   ]
  },
  {
   "cell_type": "code",
   "execution_count": null,
   "metadata": {},
   "outputs": [],
   "source": [
    "dict_set_pairs = {}\n",
    "for i in range(len(people_sets)):\n",
    "    print('i:',i)\n",
    "    people_set = people_sets[i]\n",
    "    dict_set_pairs[i] = {'same':set(), 'diff':set()}\n",
    "    while len(dict_set_pairs[i]['same']) < 1000:\n",
    "        person = random.sample(people_set, 1)[0]\n",
    "        positive_list = dict_person_images[person]\n",
    "        if len(positive_list)>1:\n",
    "            pair = tuple(sorted(random.sample(positive_list, 2)))\n",
    "            if pair not in dict_set_pairs[i]['same']:\n",
    "                dict_set_pairs[i]['same'].add(pair)\n",
    "    while len(dict_set_pairs[i]['diff']) < 1000:\n",
    "        persons = random.sample(people_set, 2)\n",
    "        img1 = random.sample(dict_person_images[persons[0]], 1)[0]\n",
    "        img2 = random.sample(dict_person_images[persons[1]], 1)[0]\n",
    "        pair = tuple(sorted([img1,img2]))\n",
    "        if pair not in dict_set_pairs[i]['diff']:\n",
    "            dict_set_pairs[i]['diff'].add(pair)"
   ]
  },
  {
   "cell_type": "code",
   "execution_count": null,
   "metadata": {},
   "outputs": [],
   "source": [
    "with open(splits_file, \"wb\") as file:\n",
    "    pickle.dump(dict_set_pairs, file)"
   ]
  },
  {
   "cell_type": "code",
   "execution_count": 6,
   "metadata": {
    "ExecuteTime": {
     "end_time": "2022-12-12T16:32:47.598348Z",
     "start_time": "2022-12-12T16:32:47.578410Z"
    }
   },
   "outputs": [],
   "source": [
    "with open(splits_file, \"rb\") as file:\n",
    "    dict_set_pairs = pickle.load(file)"
   ]
  },
  {
   "cell_type": "code",
   "execution_count": null,
   "metadata": {},
   "outputs": [],
   "source": []
  },
  {
   "cell_type": "markdown",
   "metadata": {},
   "source": [
    "# compute and save embeddings"
   ]
  },
  {
   "cell_type": "code",
   "execution_count": 7,
   "metadata": {
    "ExecuteTime": {
     "end_time": "2022-12-12T16:32:54.688400Z",
     "start_time": "2022-12-12T16:32:53.832997Z"
    }
   },
   "outputs": [],
   "source": [
    "resnet = InceptionResnetV1(pretrained='vggface2').to(device)\n",
    "resnet.load_state_dict(torch.load(model_statedict, map_location=torch.device('cpu')))\n",
    "_ = resnet.eval()"
   ]
  },
  {
   "cell_type": "code",
   "execution_count": 8,
   "metadata": {
    "ExecuteTime": {
     "end_time": "2022-12-12T16:32:55.491194Z",
     "start_time": "2022-12-12T16:32:55.486097Z"
    }
   },
   "outputs": [],
   "source": [
    "def get_emb(f):\n",
    "    path = os.path.join(img_folder, f)\n",
    "    image = Image.open(path).convert(\"RGB\")\n",
    "    image_size = 160\n",
    "    transform=transforms.Compose([\n",
    "        transforms.Resize((image_size, image_size)),\n",
    "        np.float32,\n",
    "        transforms.ToTensor(),\n",
    "        fixed_image_standardization\n",
    "    ])\n",
    "    img = transform(image)\n",
    "    e = resnet(img[None,:].to(device)).detach().cpu()\n",
    "    return e"
   ]
  },
  {
   "cell_type": "code",
   "execution_count": 9,
   "metadata": {
    "ExecuteTime": {
     "end_time": "2022-12-12T16:32:58.637445Z",
     "start_time": "2022-12-12T16:32:58.634253Z"
    }
   },
   "outputs": [],
   "source": [
    "os.makedirs(embedding_folder, exist_ok=True)"
   ]
  },
  {
   "cell_type": "code",
   "execution_count": null,
   "metadata": {
    "ExecuteTime": {
     "start_time": "2022-12-12T16:33:01.199Z"
    }
   },
   "outputs": [
    {
     "name": "stdout",
     "output_type": "stream",
     "text": [
      "40000\n",
      "34870\n"
     ]
    },
    {
     "data": {
      "application/vnd.jupyter.widget-view+json": {
       "model_id": "5684f7efdaaa4e4486df180c6dde978b",
       "version_major": 2,
       "version_minor": 0
      },
      "text/plain": [
       "  0%|          | 0/34870 [00:00<?, ?it/s]"
      ]
     },
     "metadata": {},
     "output_type": "display_data"
    }
   ],
   "source": [
    "all_images_in_pairs = []\n",
    "for i in range(len(dict_set_pairs)):\n",
    "    for j in ['same', 'diff']:\n",
    "        for pair in dict_set_pairs[i][j]:\n",
    "            all_images_in_pairs.append(pair[0])\n",
    "            all_images_in_pairs.append(pair[1])\n",
    "print(len(all_images_in_pairs))\n",
    "all_images_in_pairs = list(set(all_images_in_pairs))\n",
    "print(len(all_images_in_pairs))\n",
    "\n",
    "\n",
    "for i in tqdm(range(len(all_images_in_pairs))):\n",
    "    image_name = all_images_in_pairs[i]\n",
    "    e_path = os.path.join(embedding_folder, image_name.replace('.jpg', '.pt'))\n",
    "    if not os.path.exists(e_path):\n",
    "        e = get_emb(image_name)\n",
    "        torch.save(e, e_path)\n"
   ]
  },
  {
   "cell_type": "code",
   "execution_count": null,
   "metadata": {},
   "outputs": [],
   "source": [
    "e1 = get_emb(dict_person_images[1][5])\n",
    "e2 = get_emb(dict_person_images[1][2])\n",
    "(e2-e1).norm()"
   ]
  },
  {
   "cell_type": "code",
   "execution_count": null,
   "metadata": {},
   "outputs": [],
   "source": [
    "e3 = get_emb(image_names[123])\n",
    "(e3-e1).norm()"
   ]
  },
  {
   "cell_type": "code",
   "execution_count": null,
   "metadata": {},
   "outputs": [],
   "source": []
  },
  {
   "cell_type": "code",
   "execution_count": null,
   "metadata": {},
   "outputs": [],
   "source": []
  },
  {
   "cell_type": "markdown",
   "metadata": {},
   "source": [
    "# cross validation"
   ]
  },
  {
   "cell_type": "code",
   "execution_count": null,
   "metadata": {},
   "outputs": [],
   "source": [
    "with open(\"test_splits_FE.pkl\", \"rb\") as file:\n",
    "    dict_set_pairs = pickle.load(file)"
   ]
  },
  {
   "cell_type": "code",
   "execution_count": null,
   "metadata": {},
   "outputs": [],
   "source": [
    "def load_emb(f):\n",
    "    e_path = os.path.join(embedding_folder, f.replace('.jpg', '.pt'))\n",
    "    e = torch.load(e_path)\n",
    "    return e\n"
   ]
  },
  {
   "cell_type": "code",
   "execution_count": null,
   "metadata": {},
   "outputs": [],
   "source": [
    "dict_set_distances = {}\n",
    "for i in range(len(dict_set_pairs)):\n",
    "    print('i:',i)\n",
    "    dict_set_distances[i] = {'same':[], 'diff':[]}\n",
    "    for pair in dict_set_pairs[i]['same']:\n",
    "        e1 = load_emb(pair[0])\n",
    "        e2 = load_emb(pair[1])\n",
    "        d = (e1-e2).norm()\n",
    "        dict_set_distances[i]['same'].append(float(d))\n",
    "    for pair in dict_set_pairs[i]['diff']:\n",
    "        e1 = load_emb(pair[0])\n",
    "        e2 = load_emb(pair[1])\n",
    "        d = (e1-e2).norm()\n",
    "        dict_set_distances[i]['diff'].append(float(d))"
   ]
  },
  {
   "cell_type": "code",
   "execution_count": null,
   "metadata": {},
   "outputs": [],
   "source": [
    "def opt_threshold(value_label):\n",
    "    y_true = []\n",
    "    y_score = []\n",
    "    for v, label in value_label:\n",
    "        y_true.append(0 if label=='same' else 1)\n",
    "        y_score.append(v)\n",
    "    \n",
    "    fpr, tpr, thresholds = roc_curve(y_true, y_score)\n",
    "    \n",
    "    # Calculate the G-mean\n",
    "    gmean = np.sqrt(tpr * (1 - fpr))\n",
    "\n",
    "    # Find the optimal threshold\n",
    "    index = np.argmax(gmean)\n",
    "    thresholdOpt = round(thresholds[index], ndigits = 4)\n",
    "    gmeanOpt = round(gmean[index], ndigits = 4)\n",
    "    fprOpt = round(fpr[index], ndigits = 4)\n",
    "    tprOpt = round(tpr[index], ndigits = 4)\n",
    "    \n",
    "    return thresholdOpt\n",
    "\n",
    "def get_acc(value_label, thresholdOpt):\n",
    "    FP = 0\n",
    "    FN = 0\n",
    "    for e in value_label:\n",
    "        if e[1]=='same' and e[0]>thresholdOpt:\n",
    "            FP += 1\n",
    "        if e[1]=='diff' and e[0]<thresholdOpt:\n",
    "            FN += 1\n",
    "\n",
    "    acc = 1- (FP+FN)/len(value_label)\n",
    "    return acc\n",
    "\n",
    "def cv(hold_out):\n",
    "    dist_same_train = []\n",
    "    dist_diff_train = []\n",
    "    for i in range(len(dict_set_distances)):\n",
    "        if i!=hold_out:\n",
    "            dist_same_train += dict_set_distances[i]['same']\n",
    "            dist_diff_train += dict_set_distances[i]['diff']\n",
    "\n",
    "    value_label = [(d,'same') for d in dist_same_train] + [(d,'diff') for d in dist_diff_train]\n",
    "    value_label = sorted(value_label, key=lambda x:x[0])\n",
    "    \n",
    "    thresholdOpt = opt_threshold(value_label)\n",
    "    \n",
    "    dist_same_test = dict_set_distances[hold_out]['same']\n",
    "    dist_diff_test = dict_set_distances[hold_out]['diff']\n",
    "\n",
    "    value_label = [(d,'same') for d in dist_same_test] + [(d,'diff') for d in dist_diff_test]\n",
    "    value_label = sorted(value_label, key=lambda x:x[0])\n",
    "    \n",
    "    test_acc = get_acc(value_label, thresholdOpt)\n",
    "    \n",
    "    return thresholdOpt, test_acc"
   ]
  },
  {
   "cell_type": "code",
   "execution_count": null,
   "metadata": {},
   "outputs": [],
   "source": [
    "thresholds = []\n",
    "accs = []\n",
    "for i in range(len(dict_set_distances)):\n",
    "    thresholdOpt, test_acc = cv(i)\n",
    "    thresholds.append(thresholdOpt)\n",
    "    accs.append(test_acc)\n",
    "    print('fold: %s \\t optimal threshold: %s \\t test acc: %s'%(i, thresholdOpt, round(test_acc,4)))\n",
    "print('\\nAvg: threshold %s \\t acc %s'%(np.mean(thresholds), np.mean(accs)))"
   ]
  },
  {
   "cell_type": "code",
   "execution_count": null,
   "metadata": {},
   "outputs": [],
   "source": []
  },
  {
   "cell_type": "code",
   "execution_count": null,
   "metadata": {},
   "outputs": [],
   "source": []
  },
  {
   "cell_type": "code",
   "execution_count": null,
   "metadata": {},
   "outputs": [],
   "source": []
  }
 ],
 "metadata": {
  "kernelspec": {
   "display_name": "Python [conda env:one-shot-face-recognition]",
   "language": "python",
   "name": "conda-env-one-shot-face-recognition-py"
  },
  "language_info": {
   "codemirror_mode": {
    "name": "ipython",
    "version": 3
   },
   "file_extension": ".py",
   "mimetype": "text/x-python",
   "name": "python",
   "nbconvert_exporter": "python",
   "pygments_lexer": "ipython3",
   "version": "3.6.9"
  },
  "latex_envs": {
   "LaTeX_envs_menu_present": true,
   "autoclose": true,
   "autocomplete": true,
   "bibliofile": "biblio.bib",
   "cite_by": "apalike",
   "current_citInitial": 1,
   "eqLabelWithNumbers": true,
   "eqNumInitial": 1,
   "hotkeys": {
    "equation": "Ctrl-E",
    "itemize": "Ctrl-I"
   },
   "labels_anchors": false,
   "latex_user_defs": false,
   "report_style_numbering": true,
   "user_envs_cfg": false
  },
  "toc": {
   "base_numbering": 1,
   "nav_menu": {},
   "number_sections": true,
   "sideBar": true,
   "skip_h1_title": false,
   "title_cell": "Table of Contents",
   "title_sidebar": "Contents",
   "toc_cell": false,
   "toc_position": {},
   "toc_section_display": true,
   "toc_window_display": false
  },
  "varInspector": {
   "cols": {
    "lenName": 16,
    "lenType": 16,
    "lenVar": 40
   },
   "kernels_config": {
    "python": {
     "delete_cmd_postfix": "",
     "delete_cmd_prefix": "del ",
     "library": "var_list.py",
     "varRefreshCmd": "print(var_dic_list())"
    },
    "r": {
     "delete_cmd_postfix": ") ",
     "delete_cmd_prefix": "rm(",
     "library": "var_list.r",
     "varRefreshCmd": "cat(var_dic_list()) "
    }
   },
   "types_to_exclude": [
    "module",
    "function",
    "builtin_function_or_method",
    "instance",
    "_Feature"
   ],
   "window_display": false
  }
 },
 "nbformat": 4,
 "nbformat_minor": 4
}
