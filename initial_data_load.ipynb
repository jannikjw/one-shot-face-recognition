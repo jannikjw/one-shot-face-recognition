{
 "cells": [
  {
   "cell_type": "markdown",
   "metadata": {},
   "source": [
    "# Environment Setup"
   ]
  },
  {
   "cell_type": "markdown",
   "metadata": {},
   "source": [
    "**Execute the following commands in your shell**\n",
    "\n",
    "1. **Create conda environment**\n",
    "```\n",
    "conda create -n one-shot-face-recognition python=3.6.9 -y\n",
    "```\n",
    "\n",
    "2. **Activate new conda environment**\n",
    "```\n",
    "conda activate one-shot-face-recognition \n",
    "```\n",
    "\n",
    "3. **Create new kernel from conda environment**\n",
    "```\n",
    "ipython kernel install --name \"one-shot-face-recognition\" --user\n",
    "```\n",
    "\n",
    "4. **Now you need to refresh your jupyter notebook and switch to the newly created kernel.**\n",
    "5. **Install requirements**\n",
    "```\n",
    "pip install -r src/requirements.txt\n",
    "```"
   ]
  },
  {
   "cell_type": "markdown",
   "metadata": {},
   "source": [
    "# Data Import"
   ]
  },
  {
   "cell_type": "code",
   "execution_count": 2,
   "metadata": {},
   "outputs": [],
   "source": [
    "import os\n",
    "import zipfile \n",
    "import gdown"
   ]
  },
  {
   "cell_type": "code",
   "execution_count": 3,
   "metadata": {},
   "outputs": [],
   "source": [
    "## Fetch data from Google Drive\n",
    "data_root = 'data'\n",
    "\n",
    "# URL for the CelebA dataset\n",
    "img_url = 'https://drive.google.com/file/d/0B7EVK8r0v71pZjFTYXZWM3FlRnM/view?usp=sharing&resourcekey=0-dYn9z10tMJOBAkviAcfdyQ'\n",
    "mapping_url = 'https://drive.google.com/file/d/1_ee_0u7vcNLOfNLegJRHmolfH5ICW-XS/view?usp=sharing'\n",
    "\n",
    "# Path to download the dataset to\n",
    "img_download_path = f'data/img_align_celeba.zip'\n",
    "mapping_download_path = f'data/identity_CelebA.txt'\n",
    "\n",
    "\n",
    "# Create required directories\n",
    "if not os.path.exists(data_root):\n",
    "  os.makedirs(data_root)"
   ]
  },
  {
   "cell_type": "markdown",
   "metadata": {},
   "source": [
    "**Now, you have to manually download the dataset from google drive and the mapping file.**"
   ]
  },
  {
   "cell_type": "code",
   "execution_count": 4,
   "metadata": {},
   "outputs": [
    {
     "name": "stdout",
     "output_type": "stream",
     "text": [
      "Dataset fully extracted.\n"
     ]
    }
   ],
   "source": [
    "# Unzip the downloaded file \n",
    "with zipfile.ZipFile(img_download_path, 'r') as ziphandler:\n",
    "  ziphandler.extractall(data_root)\n",
    "\n",
    "  print('Dataset fully extracted.')"
   ]
  }
 ],
 "metadata": {
  "kernelspec": {
   "display_name": "one-shot-face-recognition",
   "language": "python",
   "name": "one-shot-face-recognition"
  },
  "language_info": {
   "codemirror_mode": {
    "name": "ipython",
    "version": 3
   },
   "file_extension": ".py",
   "mimetype": "text/x-python",
   "name": "python",
   "nbconvert_exporter": "python",
   "pygments_lexer": "ipython3",
   "version": "3.6.9"
  }
 },
 "nbformat": 4,
 "nbformat_minor": 4
}
