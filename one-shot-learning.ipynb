{
 "cells": [
  {
   "cell_type": "markdown",
   "metadata": {
    "id": "9TwXdV7BHeoT",
    "tags": []
   },
   "source": [
    "## Install Packages"
   ]
  },
  {
   "cell_type": "code",
   "execution_count": 1,
   "metadata": {
    "id": "qaGV91DX1SIf"
   },
   "outputs": [
    {
     "data": {
      "text/plain": [
       "<torch._C.Generator at 0x7f254c3fb630>"
      ]
     },
     "execution_count": 1,
     "metadata": {},
     "output_type": "execute_result"
    }
   ],
   "source": [
    "import os\n",
    "from facenet_pytorch import MTCNN, InceptionResnetV1, training, fixed_image_standardization\n",
    "import torch\n",
    "from torch import optim\n",
    "from torch import nn\n",
    "from torch.optim.lr_scheduler import MultiStepLR\n",
    "from torch.utils.tensorboard import SummaryWriter\n",
    "from torch.utils.data import DataLoader, Dataset, SubsetRandomSampler, SequentialSampler\n",
    "from torchvision import datasets\n",
    "from sklearn.neighbors import KNeighborsClassifier\n",
    "from matplotlib import pyplot as plt\n",
    "import seaborn as sns\n",
    "import numpy as np\n",
    "import pandas as pd\n",
    "from tqdm import tqdm\n",
    "from PIL import Image\n",
    "from torchvision import transforms\n",
    "from sklearn.metrics import accuracy_score\n",
    "import src\n",
    "from src.utils import celeba_helper\n",
    "from src.utils.center_loss import CenterLoss\n",
    "from src.utils.similarity_functions import min_norm_2\n",
    "from src.utils.fine_tuning import set_parameter_requires_grad\n",
    "from importlib import reload\n",
    "\n",
    "workers = 0 if os.name == 'nt' else 2\n",
    "torch.manual_seed(42)"
   ]
  },
  {
   "cell_type": "code",
   "execution_count": 2,
   "metadata": {},
   "outputs": [
    {
     "name": "stdout",
     "output_type": "stream",
     "text": [
      "Running on device: cuda:0\n"
     ]
    }
   ],
   "source": [
    "device = torch.device('cuda:0' if torch.cuda.is_available() else 'cpu')\n",
    "# device = torch.device('cpu')\n",
    "print('Running on device: {}'.format(device))\n",
    "nGPU = torch.cuda.device_count()"
   ]
  },
  {
   "cell_type": "markdown",
   "metadata": {
    "id": "w7Ta2e8wa3UM",
    "tags": []
   },
   "source": [
    "# Define CelebA Dataset and Loader"
   ]
  },
  {
   "cell_type": "code",
   "execution_count": 3,
   "metadata": {
    "id": "hkdQB_ZODfmw"
   },
   "outputs": [],
   "source": [
    "## Load the dataset\n",
    "# Path to directory with all the images\n",
    "img_folder = 'data/img_align_celeba'\n",
    "mapping_file_path = 'data/identity_CelebA.txt'"
   ]
  },
  {
   "cell_type": "code",
   "execution_count": 4,
   "metadata": {},
   "outputs": [],
   "source": [
    "mapping_file = pd.read_csv(mapping_file_path, header=None, sep=\" \", names=[\"file_name\", \"person_id\"])\n",
    "mapping_file['person_id'] = mapping_file['person_id']-1 #decrement labels by 1 to start at 0"
   ]
  },
  {
   "cell_type": "code",
   "execution_count": 5,
   "metadata": {
    "id": "hkdQB_ZODfmw"
   },
   "outputs": [],
   "source": [
    "# Spatial size of training images, images are resized to this size.\n",
    "image_size = 160\n",
    "\n",
    "# Batch size during training\n",
    "batch_size = 32\n",
    "# Batch size during testing\n",
    "test_batch_size = 256\n",
    "\n",
    "# Number of workers for the dataloader\n",
    "num_workers = nGPU * 8\n",
    "\n",
    "# Whether to put fetched data tensors to pinned memory\n",
    "pin_memory = True if device.type == 'cuda' else False"
   ]
  },
  {
   "cell_type": "code",
   "execution_count": 7,
   "metadata": {
    "id": "hkdQB_ZODfmw"
   },
   "outputs": [],
   "source": [
    "transform=transforms.Compose([\n",
    "    np.float32,\n",
    "    transforms.ToTensor(),\n",
    "    transforms.Resize((image_size, image_size)),\n",
    "    fixed_image_standardization\n",
    "])\n",
    "\n",
    "transform_augment=transforms.Compose([\n",
    "    np.float32,\n",
    "    transforms.ToTensor(),\n",
    "    transforms.Resize((image_size, image_size)),\n",
    "    transforms.ColorJitter(brightness=0.1, contrast=0.1),\n",
    "    # transforms.RandomAdjustSharpness(sharpness_factor=2),\n",
    "    transforms.RandomHorizontalFlip(p=0.5),\n",
    "    fixed_image_standardization\n",
    "])\n",
    "\n",
    "# Load the dataset from file and apply transformations\n",
    "celeba_dataset = celeba_helper.CelebADataset(img_folder, mapping_file, transform)\n",
    "celeba_dataset_augment = celeba_helper.CelebADataset(img_folder, mapping_file, transform_augment)"
   ]
  },
  {
   "cell_type": "markdown",
   "metadata": {
    "id": "gU46F-JyF2PA",
    "tags": []
   },
   "source": [
    "# Setup FaceNet"
   ]
  },
  {
   "cell_type": "code",
   "execution_count": 8,
   "metadata": {
    "id": "-4xtVzckHtgP"
   },
   "outputs": [],
   "source": [
    "mtcnn = MTCNN(\n",
    "    image_size=image_size, margin=0, min_face_size=20,\n",
    "    thresholds=[0.6, 0.7, 0.7], factor=0.709, post_process=True, keep_all=False,\n",
    "    device=device\n",
    ")"
   ]
  },
  {
   "cell_type": "markdown",
   "metadata": {
    "id": "888SZ_q2D6um",
    "tags": []
   },
   "source": [
    "# One-Shot Learning\n"
   ]
  },
  {
   "cell_type": "markdown",
   "metadata": {
    "id": "hBJRHcdjEAWa"
   },
   "source": [
    "## Load Dataset"
   ]
  },
  {
   "cell_type": "markdown",
   "metadata": {
    "tags": []
   },
   "source": [
    "## Select Files"
   ]
  },
  {
   "cell_type": "code",
   "execution_count": 10,
   "metadata": {
    "id": "CYXmn3XQtJAm"
   },
   "outputs": [
    {
     "name": "stdout",
     "output_type": "stream",
     "text": [
      "Length of train set: 10177 images.\n"
     ]
    }
   ],
   "source": [
    "# Select train files\n",
    "file_label_mapping = celeba_dataset.get_file_label_mapping()\n",
    "first_file_for_each_person_df = file_label_mapping.sort_values(by='person_id').groupby('person_id').agg(['min', 'count'])\n",
    "train_files = np.sort(first_file_for_each_person_df['file_name']['min'].values)\n",
    "print(f'Length of train set: {len(train_files)} images.')\n",
    "num_classes = len(np.unique(file_label_mapping['person_id']))"
   ]
  },
  {
   "cell_type": "code",
   "execution_count": 12,
   "metadata": {},
   "outputs": [],
   "source": [
    "def get_train_files_for_max_img_per_person(file_label_mapping, max_img_pp:int=1):\n",
    "    flm = pd.DataFrame.copy(file_label_mapping)\n",
    "    flm = flm.sort_values('person_id')\n",
    "    flm['cumcount'] = flm.groupby('person_id').cumcount()\n",
    "    flm_img_pp = flm[flm['cumcount'] < max_img_pp]\n",
    "    return flm_img_pp['file_name'].values"
   ]
  },
  {
   "cell_type": "code",
   "execution_count": 13,
   "metadata": {
    "id": "v1YUbSyeFiwH"
   },
   "outputs": [
    {
     "name": "stdout",
     "output_type": "stream",
     "text": [
      "Length of test set: 192422 images.\n"
     ]
    }
   ],
   "source": [
    "# Select test files\n",
    "second_file_for_each_person_df = file_label_mapping[~file_label_mapping['file_name'].isin(first_file_for_each_person_df['file_name']['min'])].sort_values(by='person_id').groupby('person_id').agg(['min', 'count'])\n",
    "\n",
    "# #1 test file per person \n",
    "# test_files = np.sort(second_file_for_each_person_df[second_file_for_each_person_df['file_name']['count'] >= 1]['file_name']['min'].values)\n",
    "\n",
    "# Maximum number of test files per person\n",
    "test_files = file_label_mapping[~file_label_mapping['file_name'].isin(first_file_for_each_person_df['file_name']['min'])]['file_name'].values\n",
    "\n",
    "print(f'Length of test set: {len(test_files)} images.')"
   ]
  },
  {
   "cell_type": "markdown",
   "metadata": {},
   "source": [
    "# Predicting"
   ]
  },
  {
   "cell_type": "code",
   "execution_count": 35,
   "metadata": {},
   "outputs": [],
   "source": [
    "testset_size = 5000\n",
    "\n",
    "train_inds = [int(elem[:6])-1 for elem in train_files] #convert file names to indices that start at 0\n",
    "test_inds = [int(elem[:6])-1 for elem in test_files] #convert file names to indices that start at 0\n",
    "train_inds = train_inds[:-1] # remove last class because leads to problems with batch loader\n",
    "\n",
    "np.random.shuffle(test_inds)\n",
    "val_inds = test_inds[:200]\n",
    "test_inds = np.random.choice(test_inds[200:], testset_size)"
   ]
  },
  {
   "cell_type": "code",
   "execution_count": 32,
   "metadata": {},
   "outputs": [],
   "source": [
    "train_loader = DataLoader(\n",
    "    celeba_dataset,\n",
    "    num_workers=workers,\n",
    "    batch_size=batch_size,\n",
    "    sampler=SubsetRandomSampler(train_inds),\n",
    "    prefetch_factor=64\n",
    ")\n",
    "\n",
    "# Create data loader with augmented images to concatenate to embeddings of normal ones\n",
    "aug_loader = DataLoader(\n",
    "    celeba_dataset_augment,\n",
    "    num_workers=workers,\n",
    "    batch_size=batch_size,\n",
    "    sampler=SubsetRandomSampler(train_inds),\n",
    "    prefetch_factor=64\n",
    ")\n",
    "\n",
    "val_loader = DataLoader(\n",
    "    celeba_dataset,\n",
    "    num_workers=workers,\n",
    "    batch_size=test_batch_size,\n",
    "    sampler=SubsetRandomSampler(val_inds),\n",
    ")\n",
    "\n",
    "test_loader = DataLoader(\n",
    "    celeba_dataset,\n",
    "    num_workers=workers,\n",
    "    batch_size=test_batch_size,\n",
    "    sampler=SubsetRandomSampler(test_inds),\n",
    "    prefetch_factor=64,\n",
    "    pin_memory=True\n",
    ")"
   ]
  },
  {
   "cell_type": "markdown",
   "metadata": {
    "jp-MarkdownHeadingCollapsed": true,
    "tags": []
   },
   "source": [
    "## Run Pre-trained Model"
   ]
  },
  {
   "cell_type": "code",
   "execution_count": 10,
   "metadata": {},
   "outputs": [],
   "source": [
    "model = InceptionResnetV1(pretrained='vggface2').eval().to(device)"
   ]
  },
  {
   "cell_type": "code",
   "execution_count": 11,
   "metadata": {},
   "outputs": [
    {
     "name": "stderr",
     "output_type": "stream",
     "text": [
      "100%|██████████| 318/318 [02:30<00:00,  2.11it/s]"
     ]
    },
    {
     "name": "stdout",
     "output_type": "stream",
     "text": [
      "TRAIN:     Embeddings: torch.Size([10177, 512]).\tLabels: torch.Size([10177]).\n",
      "AUGMENTED: Embeddings: torch.Size([10176, 512]).\tLabels: torch.Size([10176]).\n",
      "TEST:      Embeddings: torch.Size([192422, 512]).\tLabels: torch.Size([192422]).\n"
     ]
    },
    {
     "name": "stderr",
     "output_type": "stream",
     "text": [
      "\n"
     ]
    }
   ],
   "source": [
    "# Get embeddings - either from files (if exists) or by running model\n",
    "\n",
    "train_embeddings_path = 'pytorch_objects/train_embeddings_pretrained_all_1img.pt'\n",
    "train_labels_path = 'pytorch_objects/train_labels_pretrained_all_1img.pt'\n",
    "test_embeddings_path = 'pytorch_objects/test_embeddings_pretrained_all_1img.pt'\n",
    "test_labels_path = 'pytorch_objects/test_labels_pretrained_all_1img.pt'\n",
    "\n",
    "train_embeddings, train_labels = celeba_helper.get_embeddings_and_file_names(model, train_loader, train_embeddings_path, train_labels_path)\n",
    "test_embeddings, test_labels = celeba_helper.get_embeddings_and_file_names(model, test_loader, test_embeddings_path, test_labels_path)\n",
    "aug_embeddings, aug_labels = celeba_helper.get_embeddings_and_file_names(model,aug_loader, save_tensors=False)\n",
    "    \n",
    "print(f'TRAIN:     Embeddings: {train_embeddings.shape}.\\tLabels: {train_labels.shape}.')\n",
    "print(f'AUGMENTED: Embeddings: {aug_embeddings.shape}.\\tLabels: {aug_labels.shape}.')\n",
    "print(f'TEST:      Embeddings: {test_embeddings.shape}.\\tLabels: {test_labels.shape}.')"
   ]
  },
  {
   "cell_type": "code",
   "execution_count": 12,
   "metadata": {},
   "outputs": [
    {
     "name": "stdout",
     "output_type": "stream",
     "text": [
      "Total train emmbeddings (incl. augmented): torch.Size([20353, 512])\n"
     ]
    }
   ],
   "source": [
    "train_embeddings_plus_aug = torch.cat([train_embeddings, aug_embeddings]).cpu()\n",
    "train_labels_plus_aug = torch.cat([train_labels, aug_labels]).cpu()\n",
    "print(f'Total train emmbeddings (incl. augmented): {train_embeddings_plus_aug.shape}')"
   ]
  },
  {
   "cell_type": "code",
   "execution_count": 13,
   "metadata": {},
   "outputs": [
    {
     "name": "stdout",
     "output_type": "stream",
     "text": [
      "Number of rounds: 1000\n",
      "Mean Distance for the two embeddings for the same label is 1.3937606644630431.\n",
      "Mean Distance for the embeddings of the original images of different labels is 1.3906228283643716.\n"
     ]
    }
   ],
   "source": [
    "# Test how embeddings of augmented image to original image and normal images to each other behave\n",
    "# Ideally, mean_dist_same_label should be close to 0\n",
    "\n",
    "mean_dist_same_label = 0 \n",
    "mean_dist_diff_label = 0\n",
    "rounds = 1000\n",
    "\n",
    "for i in range(rounds):\n",
    "    label1 = np.random.randint(0,num_classes)\n",
    "    label2 = np.random.randint(0,num_classes)\n",
    "\n",
    "    indices_label1 = np.where(train_labels_plus_aug == label1)[0]\n",
    "    indices_label2 = np.where(train_labels_plus_aug == label2)[0]\n",
    "    \n",
    "    # Calculate distance = embedding(original image of label 1) - embedding(augmented image of label 1)  \n",
    "    dist_label1 = (train_embeddings_plus_aug[indices_label1[0]] - train_embeddings_plus_aug[indices_label1[1]]).norm().item()\n",
    "    # Calculate distance = embedding(original image of label 1) - embedding(original image of label 2)\n",
    "    dist_label1_label2 = (train_embeddings_plus_aug[indices_label1[0]] - train_embeddings_plus_aug[indices_label2[0]]).norm().item()\n",
    "\n",
    "    # print(f'Distance for the two embeddings for the label {label1} is {dist_label1}.') \n",
    "    # print(f'Distance for the embeddings of the original images of {label2} and {label1} is {dist_label1_label2}.') \n",
    "    \n",
    "    mean_dist_same_label += dist_label1 / rounds \n",
    "    mean_dist_diff_label += dist_label1_label2 / rounds\n",
    "\n",
    "print(f'Number of rounds: {rounds}')\n",
    "print(f'Mean Distance for the two embeddings for the same label is {mean_dist_same_label}.') \n",
    "print(f'Mean Distance for the embeddings of the original images of different labels is {mean_dist_diff_label}.') "
   ]
  },
  {
   "cell_type": "code",
   "execution_count": 14,
   "metadata": {},
   "outputs": [
    {
     "name": "stdout",
     "output_type": "stream",
     "text": [
      "Pre-trained model: Accuracy = 0.4908586336281714.\n",
      "CPU times: user 2min 38s, sys: 50 s, total: 3min 28s\n",
      "Wall time: 1min 3s\n"
     ]
    }
   ],
   "source": [
    "%%time\n",
    "\n",
    "knn = KNeighborsClassifier(n_neighbors=1)\n",
    "knn.fit(train_embeddings, train_labels)\n",
    "score = knn.score(test_embeddings, test_labels)\n",
    "\n",
    "print(f'Pre-trained model: Accuracy = {score}.')"
   ]
  },
  {
   "cell_type": "code",
   "execution_count": 15,
   "metadata": {},
   "outputs": [
    {
     "name": "stdout",
     "output_type": "stream",
     "text": [
      "Pre-trained model: Accuracy = 0.49084823980625913.\n",
      "CPU times: user 5min 14s, sys: 1min 36s, total: 6min 51s\n",
      "Wall time: 2min 2s\n"
     ]
    }
   ],
   "source": [
    "%%time\n",
    "\n",
    "knn = KNeighborsClassifier(n_neighbors=1)\n",
    "knn.fit(train_embeddings_plus_aug, train_labels_plus_aug)\n",
    "score = knn.score(test_embeddings, test_labels)\n",
    "\n",
    "print(f'Pre-trained model: Accuracy = {score}.')"
   ]
  },
  {
   "cell_type": "markdown",
   "metadata": {},
   "source": [
    "## Fine-tune Model"
   ]
  },
  {
   "cell_type": "code",
   "execution_count": 33,
   "metadata": {},
   "outputs": [
    {
     "name": "stdout",
     "output_type": "stream",
     "text": [
      "There are 10177 classes/people in the training data.\n"
     ]
    }
   ],
   "source": [
    "num_classes = 10177\n",
    "print(f'There are {num_classes} classes/people in the training data.')"
   ]
  },
  {
   "cell_type": "markdown",
   "metadata": {
    "tags": []
   },
   "source": [
    "## Cross Entropy"
   ]
  },
  {
   "cell_type": "code",
   "execution_count": 34,
   "metadata": {},
   "outputs": [
    {
     "name": "stdout",
     "output_type": "stream",
     "text": [
      "\n",
      "Epoch 1/10\n",
      "----------\n",
      "Train |   318/318  | loss:    9.4602 | fps:  355.5362 | acc:    0.0000   \n",
      "Valid |     1/1    | loss:    7.4287 | fps:   47.2719 | acc:    0.1800   \n",
      "\n",
      "Epoch 2/10\n",
      "----------\n",
      "Train |   318/318  | loss:    6.3469 | fps:  313.0678 | acc:    0.1276   \n",
      "Valid |     1/1    | loss:    6.3818 | fps:   82.4115 | acc:    0.1950   \n",
      "\n",
      "Epoch 3/10\n",
      "----------\n",
      "Train |   318/318  | loss:    3.4590 | fps:  365.1264 | acc:    0.5628   \n",
      "Valid |     1/1    | loss:    4.9753 | fps:   80.3463 | acc:    0.3800   \n",
      "\n",
      "Epoch 4/10\n",
      "----------\n",
      "Train |   318/318  | loss:    1.3747 | fps:  345.4451 | acc:    0.9064   \n",
      "Valid |     1/1    | loss:    4.8693 | fps:   78.0659 | acc:    0.3300   \n",
      "\n",
      "Epoch 5/10\n",
      "----------\n",
      "Train |   318/318  | loss:    0.5504 | fps:  383.0078 | acc:    0.9656   \n",
      "Valid |     1/1    | loss:    4.7349 | fps:   82.7201 | acc:    0.3350   \n",
      "\n",
      "Epoch 6/10\n",
      "----------\n",
      "Train |   318/318  | loss:    0.2415 | fps:  372.9765 | acc:    0.9835   \n",
      "Valid |     1/1    | loss:    4.4604 | fps:   79.5591 | acc:    0.3950   \n",
      "\n",
      "Epoch 7/10\n",
      "----------\n",
      "Train |   318/318  | loss:    0.2040 | fps:  322.4135 | acc:    0.9888   \n",
      "Valid |     1/1    | loss:    4.5699 | fps:   80.8382 | acc:    0.3650   \n",
      "\n",
      "Epoch 8/10\n",
      "----------\n",
      "Train |   318/318  | loss:    0.2419 | fps:  281.7354 | acc:    0.9823   \n",
      "Valid |     1/1    | loss:    4.3812 | fps:   82.3337 | acc:    0.4200   \n",
      "\n",
      "Epoch 9/10\n",
      "----------\n",
      "Train |   318/318  | loss:    0.2232 | fps:  305.4774 | acc:    0.9860   \n",
      "Valid |     1/1    | loss:    4.6728 | fps:   81.8616 | acc:    0.3500   \n",
      "\n",
      "Epoch 10/10\n",
      "----------\n",
      "Train |   318/318  | loss:    0.2400 | fps:  360.1247 | acc:    0.9813   \n",
      "Valid |     1/1    | loss:    4.3236 | fps:   83.3570 | acc:    0.4300   \n"
     ]
    }
   ],
   "source": [
    "epochs = 10\n",
    "loss_fn=torch.nn.CrossEntropyLoss()\n",
    "\n",
    "metrics = {\n",
    "    'fps': training.BatchTimer(),\n",
    "    'acc': training.accuracy\n",
    "}\n",
    "\n",
    "# Define path where to load from/save to the model\n",
    "model_path = f'pytorch_objects/resnet_finetuned_celeba_crossentropy_few_shot_{epochs}_epochs.pth'\n",
    "\n",
    "if os.path.exists(model_path):\n",
    "    model = InceptionResnetV1(classify=True, num_classes=num_classes).to(device)\n",
    "    model.load_state_dict(torch.load(model_path))\n",
    "\n",
    "else:\n",
    "    # Load pre-trained model and finetune\n",
    "    model = InceptionResnetV1(classify=True, pretrained='vggface2', num_classes=num_classes).to(device)\n",
    "    \n",
    "    # Only train logits layer\n",
    "    set_parameter_requires_grad(model=model, feature_extracting=True)\n",
    "    model.logits.requires_grad_(True)\n",
    "    \n",
    "    # Finetune\n",
    "    model = celeba_helper.finetune_model(model, train_loader, val_loader, loss_fn=loss_fn, metrics=metrics, epochs=epochs, lr=0.001)\n",
    "    \n",
    "    # Save model\n",
    "    torch.save(model.state_dict(), f'pytorch_objects/resnet_finetuned_celeba_crossentropy_{epochs}_epochs.pth')"
   ]
  },
  {
   "cell_type": "code",
   "execution_count": 36,
   "metadata": {},
   "outputs": [
    {
     "name": "stderr",
     "output_type": "stream",
     "text": [
      "100%|██████████| 40/40 [01:37<00:00,  2.44s/it]"
     ]
    },
    {
     "name": "stdout",
     "output_type": "stream",
     "text": [
      "Test Error: \n",
      " Accuracy: 1.6%, Avg loss: 4.583959 \n",
      "\n"
     ]
    },
    {
     "name": "stderr",
     "output_type": "stream",
     "text": [
      "\n"
     ]
    }
   ],
   "source": [
    "loss_fn=torch.nn.CrossEntropyLoss()\n",
    "\n",
    "predictions, labels = celeba_helper.test(test_loader, model, loss_fn)"
   ]
  },
  {
   "cell_type": "code",
   "execution_count": null,
   "metadata": {},
   "outputs": [],
   "source": [
    "#Testing\n",
    "writer = SummaryWriter()\n",
    "writer.iteration, writer.interval = 0, 10\n",
    "\n",
    "model.eval()\n",
    "test_loss, test_metrics = training.pass_epoch(\n",
    "    model, loss_fn, test_loader,\n",
    "    batch_metrics=metrics, show_running=True, device=device,\n",
    "    writer=writer\n",
    ")\n",
    "\n",
    "writer.close()"
   ]
  },
  {
   "cell_type": "markdown",
   "metadata": {},
   "source": [
    "## Center Loss"
   ]
  },
  {
   "cell_type": "code",
   "execution_count": 41,
   "metadata": {},
   "outputs": [],
   "source": [
    "class CustomFaceNet(nn.Module):\n",
    "    def __init__(self, num_classes, feat_dim=2):\n",
    "        super(CustomFaceNet, self).__init__()\n",
    "        self.model = InceptionResnetV1(\n",
    "            pretrained='vggface2',\n",
    "            num_classes=num_classes\n",
    "        )\n",
    "        \n",
    "        self.logits = nn.Linear(512, num_classes)\n",
    "        self.fc1 = nn.Linear(512, feat_dim)\n",
    "        self.prelu_fc1 = nn.PReLU()\n",
    "        self.fc2 = nn.Linear(feat_dim, num_classes)\n",
    "        \n",
    "    def forward(self, x):\n",
    "        \"\"\"Calculate embeddings or logits given a batch of input image tensors.\n",
    "\n",
    "        Arguments:\n",
    "            x {torch.tensor} -- Batch of image tensors representing faces.\n",
    "\n",
    "        Returns:\n",
    "            torch.tensor -- Batch of embedding vectors or multinomial logits.\n",
    "        \"\"\"\n",
    "        x = self.model.conv2d_1a(x)\n",
    "        x = self.model.conv2d_2a(x)\n",
    "        x = self.model.conv2d_2b(x)\n",
    "        x = self.model.maxpool_3a(x)\n",
    "        x = self.model.conv2d_3b(x)\n",
    "        x = self.model.conv2d_4a(x)\n",
    "        x = self.model.conv2d_4b(x)\n",
    "        x = self.model.repeat_1(x)\n",
    "        x = self.model.mixed_6a(x)\n",
    "        x = self.model.repeat_2(x)\n",
    "        x = self.model.mixed_7a(x)\n",
    "        x = self.model.repeat_3(x)\n",
    "        x = self.model.block8(x)\n",
    "        x = self.model.avgpool_1a(x)\n",
    "        x = self.model.dropout(x)\n",
    "        x = self.model.last_linear(x.view(x.shape[0], -1))\n",
    "        x = self.model.last_bn(x)\n",
    "        \n",
    "        # Center Loss Layers\n",
    "        x = self.prelu_fc1(self.fc1(x))\n",
    "        y = self.fc2(x)\n",
    "        \n",
    "        return x, y"
   ]
  },
  {
   "cell_type": "code",
   "execution_count": 42,
   "metadata": {},
   "outputs": [],
   "source": [
    "def pass_epoch_circle_loss(\n",
    "    model, loss_fn, loader, optimizer=None, scheduler=None,\n",
    "    batch_metrics={'time': training.BatchTimer()}, show_running=True,\n",
    "    device='cpu', writer=None, lr=0.01, lr_cent=0.5, alpha=0.1\n",
    "):\n",
    "    mode = 'Train' if model.training else 'Valid'\n",
    "    logger = training.Logger(mode, length=len(loader), calculate_mean=show_running)\n",
    "    loss = 0\n",
    "    metrics = {}\n",
    "    \n",
    "    criterion_xent = torch.nn.CrossEntropyLoss() \n",
    "    criterion_cent = CenterLoss(num_classes=num_classes, feat_dim=feat_dim, use_gpu=use_gpu)    \n",
    "    \n",
    "    optimizer_centloss = torch.optim.SGD(center_loss.parameters(), lr=0.5)\n",
    "    \n",
    "    model.prelu_fc1.requires_grad_(True)\n",
    "    model.fc2.requires_grad_(True)\n",
    "    tunable_model_params = list(model.prelu_fc1.parameters()) + list(model.fc2.parameters())\n",
    "    optimizer_model = torch.optim.Adam(tunable_model_params, lr=lr)    \n",
    "    \n",
    "    weight_cent = 1\n",
    "    \n",
    "    for i_batch, (x, y) in enumerate(loader):\n",
    "        x = x.to(device)\n",
    "        y = y.to(device)\n",
    "        \n",
    "        # features (torch tensor): a 2D torch float tensor with shape (batch_size, feat_dim)\n",
    "        # labels (torch long tensor): 1D torch long tensor with shape (batch_size)\n",
    "        # weight_cent (float): weight for center loss\n",
    "        \n",
    "        features, y_pred = model(x)\n",
    "        loss_xent = criterion_xent(y_pred, y)\n",
    "        loss_cent = criterion_cent(features, y)\n",
    "        loss_cent *= weight_cent\n",
    "        loss_batch = loss_xent + loss_cent\n",
    "        \n",
    "        if model.training:\n",
    "            optimizer_model.zero_grad()\n",
    "            optimizer_centloss.zero_grad()\n",
    "\n",
    "            loss_batch.backward()\n",
    "\n",
    "            optimizer_model.step()\n",
    "            # by doing so, weight_cent would not impact on the learning of centers\n",
    "            for param in criterion_cent.parameters():\n",
    "                param.grad.data *= (1. / weight_cent)\n",
    "            optimizer_centloss.step()\n",
    "\n",
    "        metrics_batch = {}\n",
    "        for metric_name, metric_fn in batch_metrics.items():\n",
    "            metrics_batch[metric_name] = metric_fn(y_pred, y).detach().cpu()\n",
    "            metrics[metric_name] = metrics.get(metric_name, 0) + metrics_batch[metric_name]\n",
    "            \n",
    "        if writer is not None and model.training:\n",
    "            if writer.iteration % writer.interval == 0:\n",
    "                writer.add_scalars('loss', {mode: loss_batch.detach().cpu()}, writer.iteration)\n",
    "                for metric_name, metric_batch in metrics_batch.items():\n",
    "                    writer.add_scalars(metric_name, {mode: metric_batch}, writer.iteration)\n",
    "            writer.iteration += 1\n",
    "        \n",
    "        loss_batch = loss_batch.detach().cpu()\n",
    "        loss += loss_batch\n",
    "        if show_running:\n",
    "            logger(loss, metrics, i_batch)\n",
    "        else:\n",
    "            logger(loss_batch, metrics_batch, i_batch)\n",
    "    \n",
    "    if model.training and scheduler is not None:\n",
    "        scheduler.step()\n",
    "\n",
    "    loss = loss / (i_batch + 1)\n",
    "    metrics = {k: v / (i_batch + 1) for k, v in metrics.items()}\n",
    "            \n",
    "    if writer is not None and not model.training:\n",
    "        writer.add_scalars('loss', {mode: loss.detach()}, writer.iteration)\n",
    "        for metric_name, metric in metrics.items():\n",
    "            writer.add_scalars(metric_name, {mode: metric})\n",
    "\n",
    "    return loss, metrics"
   ]
  },
  {
   "cell_type": "code",
   "execution_count": 43,
   "metadata": {},
   "outputs": [],
   "source": [
    "# Code to change train files based on desired number of images per person\n",
    "\n",
    "# flm = pd.DataFrame.copy(file_label_mapping)\n",
    "# flm = flm.sort_values(by='person_id').groupby('person_id').agg(['count'])\n",
    "# min_15_img_pp_ids = flm[flm['file_name']['count'] > 29].index.values\n",
    "# flm = pd.DataFrame.copy(file_label_mapping)\n",
    "# flm = flm[flm['person_id'].isin(min_15_img_pp_ids)]\n",
    "\n",
    "# train_files = get_train_files_for_max_img_per_person(flm, 25)"
   ]
  },
  {
   "cell_type": "code",
   "execution_count": 52,
   "metadata": {},
   "outputs": [],
   "source": [
    "lr = 0.01\n",
    "epochs = 20\n",
    "use_gpu = True\n",
    "\n",
    "metrics = {\n",
    "    'fps': training.BatchTimer(),\n",
    "    'acc': training.accuracy\n",
    "}\n",
    "\n",
    "writer = SummaryWriter()\n",
    "writer.iteration, writer.interval = 0, 10\n",
    "\n",
    "feat_dim = 2\n",
    "model = CustomFaceNet(num_classes=num_classes, feat_dim=feat_dim).to(device)"
   ]
  },
  {
   "cell_type": "code",
   "execution_count": 53,
   "metadata": {},
   "outputs": [],
   "source": [
    "# Only train logits layer\n",
    "set_parameter_requires_grad(model=model, feature_extracting=True)\n",
    "loss_fn = torch.nn.CrossEntropyLoss()"
   ]
  },
  {
   "cell_type": "code",
   "execution_count": 54,
   "metadata": {},
   "outputs": [
    {
     "name": "stdout",
     "output_type": "stream",
     "text": [
      "\n",
      "Epoch 1/20\n",
      "----------\n",
      "Train |   318/318  | loss:   12.4062 | fps:  167.7773 | acc:    0.0000   \n",
      "Valid |     1/1    | loss:   11.7301 | fps:   73.2818 | acc:    0.0000   \n",
      "\n",
      "Epoch 2/20\n",
      "----------\n",
      "Train |   318/318  | loss:   12.5083 | fps:  165.2262 | acc:    0.0000   \n",
      "Valid |     1/1    | loss:   12.4321 | fps:   74.4403 | acc:    0.0000   \n",
      "\n",
      "Epoch 3/20\n",
      "----------\n",
      "Train |   318/318  | loss:   12.5959 | fps:  167.8922 | acc:    0.0000   \n",
      "Valid |     1/1    | loss:   12.3032 | fps:   72.9697 | acc:    0.0000   \n",
      "\n",
      "Epoch 4/20\n",
      "----------\n",
      "Train |   318/318  | loss:   12.7032 | fps:  167.6817 | acc:    0.0000   \n",
      "Valid |     1/1    | loss:   12.3975 | fps:   73.9450 | acc:    0.0000   \n",
      "\n",
      "Epoch 5/20\n",
      "----------\n",
      "Train |   318/318  | loss:   12.8186 | fps:  166.2747 | acc:    0.0001   \n",
      "Valid |     1/1    | loss:   12.3532 | fps:   73.7217 | acc:    0.0000   \n",
      "\n",
      "Epoch 6/20\n",
      "----------\n",
      "Train |   318/318  | loss:   12.8605 | fps:  167.4032 | acc:    0.0000   \n",
      "Valid |     1/1    | loss:   12.5938 | fps:   74.0856 | acc:    0.0000   \n",
      "\n",
      "Epoch 7/20\n",
      "----------\n",
      "Train |   318/318  | loss:   12.9280 | fps:  166.3020 | acc:    0.0001   \n",
      "Valid |     1/1    | loss:   12.2654 | fps:   73.9107 | acc:    0.0000   \n",
      "\n",
      "Epoch 8/20\n",
      "----------\n",
      "Train |   318/318  | loss:   12.9188 | fps:  166.4134 | acc:    0.0001   \n",
      "Valid |     1/1    | loss:   12.2567 | fps:   74.6569 | acc:    0.0000   \n",
      "\n",
      "Epoch 9/20\n",
      "----------\n",
      "Train |   318/318  | loss:   13.0057 | fps:  166.7136 | acc:    0.0000   \n",
      "Valid |     1/1    | loss:   12.6850 | fps:   74.9576 | acc:    0.0000   \n",
      "\n",
      "Epoch 10/20\n",
      "----------\n",
      "Train |   318/318  | loss:   13.0232 | fps:  167.1660 | acc:    0.0002   \n",
      "Valid |     1/1    | loss:   12.5546 | fps:   73.6542 | acc:    0.0000   \n",
      "\n",
      "Epoch 11/20\n",
      "----------\n",
      "Train |   318/318  | loss:   13.0265 | fps:  166.9186 | acc:    0.0001   \n",
      "Valid |     1/1    | loss:   12.6339 | fps:   74.3691 | acc:    0.0000   \n",
      "\n",
      "Epoch 12/20\n",
      "----------\n",
      "Train |   318/318  | loss:   13.1159 | fps:  167.2813 | acc:    0.0000   \n",
      "Valid |     1/1    | loss:   12.8498 | fps:   74.5984 | acc:    0.0000   \n",
      "\n",
      "Epoch 13/20\n",
      "----------\n",
      "Train |   318/318  | loss:   13.1139 | fps:  166.0312 | acc:    0.0000   \n",
      "Valid |     1/1    | loss:   12.6029 | fps:   74.6635 | acc:    0.0000   \n",
      "\n",
      "Epoch 14/20\n",
      "----------\n",
      "Train |   318/318  | loss:   13.1178 | fps:  166.8806 | acc:    0.0000   \n",
      "Valid |     1/1    | loss:   12.9253 | fps:   70.2488 | acc:    0.0000   \n",
      "\n",
      "Epoch 15/20\n",
      "----------\n",
      "Train |   318/318  | loss:   13.1691 | fps:  167.3066 | acc:    0.0001   \n",
      "Valid |     1/1    | loss:   12.6186 | fps:   74.3838 | acc:    0.0000   \n",
      "\n",
      "Epoch 16/20\n",
      "----------\n",
      "Train |   318/318  | loss:   13.1765 | fps:  168.4604 | acc:    0.0000   \n",
      "Valid |     1/1    | loss:   12.9189 | fps:   73.2780 | acc:    0.0000   \n",
      "\n",
      "Epoch 17/20\n",
      "----------\n",
      "Train |   318/318  | loss:   13.2163 | fps:  167.0668 | acc:    0.0000   \n",
      "Valid |     1/1    | loss:   13.0108 | fps:   75.2020 | acc:    0.0000   \n",
      "\n",
      "Epoch 18/20\n",
      "----------\n",
      "Train |   318/318  | loss:   13.3079 | fps:  164.8356 | acc:    0.0002   \n",
      "Valid |     1/1    | loss:   12.9265 | fps:   74.3607 | acc:    0.0000   \n",
      "\n",
      "Epoch 19/20\n",
      "----------\n",
      "Train |   318/318  | loss:   13.2166 | fps:  166.4688 | acc:    0.0000   \n",
      "Valid |     1/1    | loss:   12.9431 | fps:   74.0348 | acc:    0.0000   \n",
      "\n",
      "Epoch 20/20\n",
      "----------\n",
      "Train |   318/318  | loss:   13.2769 | fps:  166.9819 | acc:    0.0000   \n",
      "Valid |     1/1    | loss:   12.8393 | fps:   73.9358 | acc:    0.0000   \n"
     ]
    }
   ],
   "source": [
    "set_parameter_requires_grad(model=model, feature_extracting=True)\n",
    "model.requires_grad_(True)\n",
    "\n",
    "for epoch in range(epochs):\n",
    "    print('\\nEpoch {}/{}'.format(epoch + 1, epochs))\n",
    "    print('-' * 10)\n",
    "\n",
    "    model.train()\n",
    "    train_loss, train_metrics = pass_epoch_circle_loss(\n",
    "        model, loss_fn, train_loader,\n",
    "        batch_metrics=metrics, show_running=True, device=device,\n",
    "        writer=writer\n",
    "    )\n",
    "\n",
    "    model.eval()\n",
    "    val_loss, val_metrics = pass_epoch_circle_loss(\n",
    "        model, loss_fn, val_loader,\n",
    "        batch_metrics=metrics, show_running=True, device=device,\n",
    "        writer=writer\n",
    "    )\n",
    "\n",
    "writer.close()"
   ]
  },
  {
   "cell_type": "code",
   "execution_count": null,
   "metadata": {},
   "outputs": [],
   "source": [
    "size = len(test_loader.dataset)\n",
    "num_batches = len(test_loader)\n",
    "predictions = torch.tensor([])\n",
    "labels = torch.tensor([])\n",
    "\n",
    "model.eval()\n",
    "test_loss, correct = 0, 0\n",
    "weight_cent = 1\n",
    "\n",
    "\n",
    "with torch.no_grad():\n",
    "    idx = 0\n",
    "    for X, y in tqdm(test_loader, total=num_batches):\n",
    "        idx += 1\n",
    "        X, y = X.to(device), y.to(device)\n",
    "        features, y_pred = model(X)\n",
    "        \n",
    "        criterion_xent = torch.nn.CrossEntropyLoss() \n",
    "        criterion_cent = CenterLoss(num_classes=num_classes, feat_dim=feat_dim, use_gpu=use_gpu)    \n",
    "        loss_xent = criterion_xent(y_pred, y)\n",
    "        loss_cent = criterion_cent(features, y)\n",
    "        loss_cent *= weight_cent\n",
    "        loss_batch = loss_xent + loss_cent\n",
    "        \n",
    "        test_loss += loss_batch.item()\n",
    "        correct += (y_pred.argmax(1) == y).type(torch.float).sum().item()\n",
    "\n",
    "        if not predictions.numel():\n",
    "            predictions = y_pred.cpu()\n",
    "            labels = y.cpu()\n",
    "        else:\n",
    "            predictions = torch.cat([predictions, y_pred.cpu()])\n",
    "            labels = torch.cat([labels, y.cpu()])\n",
    "\n",
    "        del y_pred, X, y\n",
    "\n",
    "test_loss /= num_batches\n",
    "correct /= size\n",
    "print(f\"Test Error: \\n Accuracy: {(100*correct):>0.1f}%, Avg loss: {test_loss:>8f} \\n\")"
   ]
  },
  {
   "cell_type": "markdown",
   "metadata": {},
   "source": [
    "# Conclusion\n",
    "Fine-tuning FaceNet on a one-shot dataset does not yield desirable results, even after hyperparameter tuning. The model quickly overfits and performs worse than the default FaceNet which achieves approx. $50\\%$ test accuracy on the One-Shot CelebA dataset."
   ]
  },
  {
   "cell_type": "code",
   "execution_count": null,
   "metadata": {},
   "outputs": [],
   "source": [
    "%reload_ext tensorboard\n",
    "%tensorboard --logdir runs"
   ]
  }
 ],
 "metadata": {
  "accelerator": "GPU",
  "colab": {
   "collapsed_sections": [
    "9TwXdV7BHeoT",
    "k0mnB3l9Ha9D",
    "w7Ta2e8wa3UM",
    "gU46F-JyF2PA",
    "3JLywKFbopy9",
    "aEBA_FaWHpgY",
    "IJAT0dvwHfaa",
    "vqPiqddKE51v"
   ],
   "provenance": []
  },
  "kernelspec": {
   "display_name": "one-shot-face-recognition",
   "language": "python",
   "name": "one-shot-face-recognition"
  },
  "language_info": {
   "codemirror_mode": {
    "name": "ipython",
    "version": 3
   },
   "file_extension": ".py",
   "mimetype": "text/x-python",
   "name": "python",
   "nbconvert_exporter": "python",
   "pygments_lexer": "ipython3",
   "version": "3.6.9"
  },
  "vscode": {
   "interpreter": {
    "hash": "e9597514a15d9b9f9e00f05466d4e27587ef46450885503145645716a45da41a"
   }
  },
  "widgets": {
   "application/vnd.jupyter.widget-state+json": {
    "4f85a6f0f9324ea486123de2cbe30e8c": {
     "model_module": "@jupyter-widgets/controls",
     "model_module_version": "1.5.0",
     "model_name": "FloatProgressModel",
     "state": {
      "_dom_classes": [],
      "_model_module": "@jupyter-widgets/controls",
      "_model_module_version": "1.5.0",
      "_model_name": "FloatProgressModel",
      "_view_count": null,
      "_view_module": "@jupyter-widgets/controls",
      "_view_module_version": "1.5.0",
      "_view_name": "ProgressView",
      "bar_style": "success",
      "description": "",
      "description_tooltip": null,
      "layout": "IPY_MODEL_b34a69a6ae5b4d9cba0c3122347a71a9",
      "max": 111898327,
      "min": 0,
      "orientation": "horizontal",
      "style": "IPY_MODEL_c2ee6bf5a22c4212b8a1561806fd4e3d",
      "value": 111898327
     }
    },
    "59bde1c8a1b64a49ba27815343158bcb": {
     "model_module": "@jupyter-widgets/controls",
     "model_module_version": "1.5.0",
     "model_name": "HBoxModel",
     "state": {
      "_dom_classes": [],
      "_model_module": "@jupyter-widgets/controls",
      "_model_module_version": "1.5.0",
      "_model_name": "HBoxModel",
      "_view_count": null,
      "_view_module": "@jupyter-widgets/controls",
      "_view_module_version": "1.5.0",
      "_view_name": "HBoxView",
      "box_style": "",
      "children": [
       "IPY_MODEL_5c9fca3e08b64557bc1643b702584a3e",
       "IPY_MODEL_4f85a6f0f9324ea486123de2cbe30e8c",
       "IPY_MODEL_ac1c0e176aee4fc8b9aa118fdf969b62"
      ],
      "layout": "IPY_MODEL_82f4c9540ef54adf89c4df3a2498f5b0"
     }
    },
    "5c9fca3e08b64557bc1643b702584a3e": {
     "model_module": "@jupyter-widgets/controls",
     "model_module_version": "1.5.0",
     "model_name": "HTMLModel",
     "state": {
      "_dom_classes": [],
      "_model_module": "@jupyter-widgets/controls",
      "_model_module_version": "1.5.0",
      "_model_name": "HTMLModel",
      "_view_count": null,
      "_view_module": "@jupyter-widgets/controls",
      "_view_module_version": "1.5.0",
      "_view_name": "HTMLView",
      "description": "",
      "description_tooltip": null,
      "layout": "IPY_MODEL_7f03cdbcddb34eb7a802efa105484b73",
      "placeholder": "​",
      "style": "IPY_MODEL_f300fc24f7dc4156a362b9910af4d1fc",
      "value": "100%"
     }
    },
    "6de3e0fc1f76432f9544c2ae5c0766f0": {
     "model_module": "@jupyter-widgets/base",
     "model_module_version": "1.2.0",
     "model_name": "LayoutModel",
     "state": {
      "_model_module": "@jupyter-widgets/base",
      "_model_module_version": "1.2.0",
      "_model_name": "LayoutModel",
      "_view_count": null,
      "_view_module": "@jupyter-widgets/base",
      "_view_module_version": "1.2.0",
      "_view_name": "LayoutView",
      "align_content": null,
      "align_items": null,
      "align_self": null,
      "border": null,
      "bottom": null,
      "display": null,
      "flex": null,
      "flex_flow": null,
      "grid_area": null,
      "grid_auto_columns": null,
      "grid_auto_flow": null,
      "grid_auto_rows": null,
      "grid_column": null,
      "grid_gap": null,
      "grid_row": null,
      "grid_template_areas": null,
      "grid_template_columns": null,
      "grid_template_rows": null,
      "height": null,
      "justify_content": null,
      "justify_items": null,
      "left": null,
      "margin": null,
      "max_height": null,
      "max_width": null,
      "min_height": null,
      "min_width": null,
      "object_fit": null,
      "object_position": null,
      "order": null,
      "overflow": null,
      "overflow_x": null,
      "overflow_y": null,
      "padding": null,
      "right": null,
      "top": null,
      "visibility": null,
      "width": null
     }
    },
    "7f03cdbcddb34eb7a802efa105484b73": {
     "model_module": "@jupyter-widgets/base",
     "model_module_version": "1.2.0",
     "model_name": "LayoutModel",
     "state": {
      "_model_module": "@jupyter-widgets/base",
      "_model_module_version": "1.2.0",
      "_model_name": "LayoutModel",
      "_view_count": null,
      "_view_module": "@jupyter-widgets/base",
      "_view_module_version": "1.2.0",
      "_view_name": "LayoutView",
      "align_content": null,
      "align_items": null,
      "align_self": null,
      "border": null,
      "bottom": null,
      "display": null,
      "flex": null,
      "flex_flow": null,
      "grid_area": null,
      "grid_auto_columns": null,
      "grid_auto_flow": null,
      "grid_auto_rows": null,
      "grid_column": null,
      "grid_gap": null,
      "grid_row": null,
      "grid_template_areas": null,
      "grid_template_columns": null,
      "grid_template_rows": null,
      "height": null,
      "justify_content": null,
      "justify_items": null,
      "left": null,
      "margin": null,
      "max_height": null,
      "max_width": null,
      "min_height": null,
      "min_width": null,
      "object_fit": null,
      "object_position": null,
      "order": null,
      "overflow": null,
      "overflow_x": null,
      "overflow_y": null,
      "padding": null,
      "right": null,
      "top": null,
      "visibility": null,
      "width": null
     }
    },
    "82f4c9540ef54adf89c4df3a2498f5b0": {
     "model_module": "@jupyter-widgets/base",
     "model_module_version": "1.2.0",
     "model_name": "LayoutModel",
     "state": {
      "_model_module": "@jupyter-widgets/base",
      "_model_module_version": "1.2.0",
      "_model_name": "LayoutModel",
      "_view_count": null,
      "_view_module": "@jupyter-widgets/base",
      "_view_module_version": "1.2.0",
      "_view_name": "LayoutView",
      "align_content": null,
      "align_items": null,
      "align_self": null,
      "border": null,
      "bottom": null,
      "display": null,
      "flex": null,
      "flex_flow": null,
      "grid_area": null,
      "grid_auto_columns": null,
      "grid_auto_flow": null,
      "grid_auto_rows": null,
      "grid_column": null,
      "grid_gap": null,
      "grid_row": null,
      "grid_template_areas": null,
      "grid_template_columns": null,
      "grid_template_rows": null,
      "height": null,
      "justify_content": null,
      "justify_items": null,
      "left": null,
      "margin": null,
      "max_height": null,
      "max_width": null,
      "min_height": null,
      "min_width": null,
      "object_fit": null,
      "object_position": null,
      "order": null,
      "overflow": null,
      "overflow_x": null,
      "overflow_y": null,
      "padding": null,
      "right": null,
      "top": null,
      "visibility": null,
      "width": null
     }
    },
    "ac1c0e176aee4fc8b9aa118fdf969b62": {
     "model_module": "@jupyter-widgets/controls",
     "model_module_version": "1.5.0",
     "model_name": "HTMLModel",
     "state": {
      "_dom_classes": [],
      "_model_module": "@jupyter-widgets/controls",
      "_model_module_version": "1.5.0",
      "_model_name": "HTMLModel",
      "_view_count": null,
      "_view_module": "@jupyter-widgets/controls",
      "_view_module_version": "1.5.0",
      "_view_name": "HTMLView",
      "description": "",
      "description_tooltip": null,
      "layout": "IPY_MODEL_6de3e0fc1f76432f9544c2ae5c0766f0",
      "placeholder": "​",
      "style": "IPY_MODEL_d3f21c1443ba4ec1ad64a5d143598a19",
      "value": " 107M/107M [00:00&lt;00:00, 130MB/s]"
     }
    },
    "b34a69a6ae5b4d9cba0c3122347a71a9": {
     "model_module": "@jupyter-widgets/base",
     "model_module_version": "1.2.0",
     "model_name": "LayoutModel",
     "state": {
      "_model_module": "@jupyter-widgets/base",
      "_model_module_version": "1.2.0",
      "_model_name": "LayoutModel",
      "_view_count": null,
      "_view_module": "@jupyter-widgets/base",
      "_view_module_version": "1.2.0",
      "_view_name": "LayoutView",
      "align_content": null,
      "align_items": null,
      "align_self": null,
      "border": null,
      "bottom": null,
      "display": null,
      "flex": null,
      "flex_flow": null,
      "grid_area": null,
      "grid_auto_columns": null,
      "grid_auto_flow": null,
      "grid_auto_rows": null,
      "grid_column": null,
      "grid_gap": null,
      "grid_row": null,
      "grid_template_areas": null,
      "grid_template_columns": null,
      "grid_template_rows": null,
      "height": null,
      "justify_content": null,
      "justify_items": null,
      "left": null,
      "margin": null,
      "max_height": null,
      "max_width": null,
      "min_height": null,
      "min_width": null,
      "object_fit": null,
      "object_position": null,
      "order": null,
      "overflow": null,
      "overflow_x": null,
      "overflow_y": null,
      "padding": null,
      "right": null,
      "top": null,
      "visibility": null,
      "width": null
     }
    },
    "c2ee6bf5a22c4212b8a1561806fd4e3d": {
     "model_module": "@jupyter-widgets/controls",
     "model_module_version": "1.5.0",
     "model_name": "ProgressStyleModel",
     "state": {
      "_model_module": "@jupyter-widgets/controls",
      "_model_module_version": "1.5.0",
      "_model_name": "ProgressStyleModel",
      "_view_count": null,
      "_view_module": "@jupyter-widgets/base",
      "_view_module_version": "1.2.0",
      "_view_name": "StyleView",
      "bar_color": null,
      "description_width": ""
     }
    },
    "d3f21c1443ba4ec1ad64a5d143598a19": {
     "model_module": "@jupyter-widgets/controls",
     "model_module_version": "1.5.0",
     "model_name": "DescriptionStyleModel",
     "state": {
      "_model_module": "@jupyter-widgets/controls",
      "_model_module_version": "1.5.0",
      "_model_name": "DescriptionStyleModel",
      "_view_count": null,
      "_view_module": "@jupyter-widgets/base",
      "_view_module_version": "1.2.0",
      "_view_name": "StyleView",
      "description_width": ""
     }
    },
    "f300fc24f7dc4156a362b9910af4d1fc": {
     "model_module": "@jupyter-widgets/controls",
     "model_module_version": "1.5.0",
     "model_name": "DescriptionStyleModel",
     "state": {
      "_model_module": "@jupyter-widgets/controls",
      "_model_module_version": "1.5.0",
      "_model_name": "DescriptionStyleModel",
      "_view_count": null,
      "_view_module": "@jupyter-widgets/base",
      "_view_module_version": "1.2.0",
      "_view_name": "StyleView",
      "description_width": ""
     }
    }
   }
  }
 },
 "nbformat": 4,
 "nbformat_minor": 4
}
