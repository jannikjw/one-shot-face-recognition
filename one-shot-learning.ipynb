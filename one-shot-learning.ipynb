{
 "cells": [
  {
   "cell_type": "markdown",
   "metadata": {
    "id": "9TwXdV7BHeoT",
    "tags": []
   },
   "source": [
    "## Install Packages"
   ]
  },
  {
   "cell_type": "code",
   "execution_count": 1,
   "metadata": {
    "id": "qaGV91DX1SIf"
   },
   "outputs": [
    {
     "data": {
      "text/plain": [
       "<torch._C.Generator at 0x7fc2a4455630>"
      ]
     },
     "execution_count": 1,
     "metadata": {},
     "output_type": "execute_result"
    }
   ],
   "source": [
    "import os\n",
    "from facenet_pytorch import MTCNN, InceptionResnetV1, training, fixed_image_standardization\n",
    "import torch\n",
    "from torch import optim\n",
    "from torch import nn\n",
    "from torch.optim.lr_scheduler import MultiStepLR\n",
    "from torch.utils.tensorboard import SummaryWriter\n",
    "from torch.utils.data import DataLoader, Dataset, SubsetRandomSampler, SequentialSampler\n",
    "from torchvision import datasets\n",
    "from sklearn.neighbors import KNeighborsClassifier\n",
    "from matplotlib import pyplot as plt\n",
    "import seaborn as sns\n",
    "import numpy as np\n",
    "import pandas as pd\n",
    "from tqdm import tqdm\n",
    "from PIL import Image\n",
    "from torchvision import transforms\n",
    "from sklearn.metrics import accuracy_score\n",
    "import src\n",
    "from src.utils import celeba_helper\n",
    "from src.utils.center_loss import CenterLoss\n",
    "from src.utils.similarity_functions import min_norm_2\n",
    "from importlib import reload\n",
    "\n",
    "workers = 0 if os.name == 'nt' else 2\n",
    "torch.manual_seed(42)"
   ]
  },
  {
   "cell_type": "code",
   "execution_count": 2,
   "metadata": {},
   "outputs": [
    {
     "name": "stdout",
     "output_type": "stream",
     "text": [
      "Running on device: cuda:0\n"
     ]
    }
   ],
   "source": [
    "device = torch.device('cuda:0' if torch.cuda.is_available() else 'cpu')\n",
    "# device = torch.device('cpu')\n",
    "print('Running on device: {}'.format(device))\n",
    "nGPU = torch.cuda.device_count()"
   ]
  },
  {
   "cell_type": "markdown",
   "metadata": {
    "id": "w7Ta2e8wa3UM",
    "tags": []
   },
   "source": [
    "# Define CelebA Dataset and Loader"
   ]
  },
  {
   "cell_type": "code",
   "execution_count": 3,
   "metadata": {
    "id": "hkdQB_ZODfmw"
   },
   "outputs": [],
   "source": [
    "## Load the dataset\n",
    "# Path to directory with all the images\n",
    "img_folder = 'data/img_align_celeba'\n",
    "mapping_file = 'data/identity_CelebA.txt'"
   ]
  },
  {
   "cell_type": "code",
   "execution_count": 4,
   "metadata": {
    "id": "hkdQB_ZODfmw"
   },
   "outputs": [],
   "source": [
    "# Spatial size of training images, images are resized to this size.\n",
    "image_size = 160\n",
    "\n",
    "# Batch size during training\n",
    "batch_size = 32\n",
    "# Batch size during testing\n",
    "test_batch_size = 256\n",
    "\n",
    "# Number of workers for the dataloader\n",
    "num_workers = nGPU * 16\n",
    "\n",
    "# Whether to put fetched data tensors to pinned memory\n",
    "pin_memory = True if device.type == 'cuda' else False"
   ]
  },
  {
   "cell_type": "code",
   "execution_count": 5,
   "metadata": {
    "id": "hkdQB_ZODfmw"
   },
   "outputs": [],
   "source": [
    "transform=transforms.Compose([\n",
    "    np.float32,\n",
    "    transforms.ToTensor(),\n",
    "    transforms.Resize((image_size, image_size)),\n",
    "    fixed_image_standardization\n",
    "])\n",
    "\n",
    "transform_augment=transforms.Compose([\n",
    "    np.float32,\n",
    "    transforms.ToTensor(),\n",
    "    transforms.Resize((image_size, image_size)),\n",
    "    transforms.ColorJitter(brightness=0.1, contrast=0.1),\n",
    "    # transforms.RandomAdjustSharpness(sharpness_factor=2),\n",
    "    transforms.RandomHorizontalFlip(p=0.5),\n",
    "    fixed_image_standardization\n",
    "])\n",
    "\n",
    "# Load the dataset from file and apply transformations\n",
    "celeba_dataset = celeba_helper.CelebADataset(img_folder, mapping_file, transform)\n",
    "celeba_dataset_augment = celeba_helper.CelebADataset(img_folder, mapping_file, transform_augment)"
   ]
  },
  {
   "cell_type": "markdown",
   "metadata": {
    "id": "gU46F-JyF2PA",
    "tags": []
   },
   "source": [
    "# Setup FaceNet"
   ]
  },
  {
   "cell_type": "code",
   "execution_count": 6,
   "metadata": {
    "id": "-4xtVzckHtgP"
   },
   "outputs": [],
   "source": [
    "mtcnn = MTCNN(\n",
    "    image_size=image_size, margin=0, min_face_size=20,\n",
    "    thresholds=[0.6, 0.7, 0.7], factor=0.709, post_process=True, keep_all=False,\n",
    "    device=device\n",
    ")"
   ]
  },
  {
   "cell_type": "markdown",
   "metadata": {
    "id": "888SZ_q2D6um",
    "tags": []
   },
   "source": [
    "# One-Shot Learning\n"
   ]
  },
  {
   "cell_type": "markdown",
   "metadata": {
    "id": "hBJRHcdjEAWa"
   },
   "source": [
    "## Load Dataset"
   ]
  },
  {
   "cell_type": "markdown",
   "metadata": {
    "tags": []
   },
   "source": [
    "## Select Files"
   ]
  },
  {
   "cell_type": "code",
   "execution_count": 7,
   "metadata": {
    "id": "CYXmn3XQtJAm"
   },
   "outputs": [
    {
     "name": "stdout",
     "output_type": "stream",
     "text": [
      "Length of train set: 10177 images.\n"
     ]
    },
    {
     "data": {
      "text/plain": [
       "array(['000001.jpg', '000002.jpg', '000003.jpg', ..., '197332.jpg',\n",
       "       '197837.jpg', '198787.jpg'], dtype=object)"
      ]
     },
     "metadata": {},
     "output_type": "display_data"
    }
   ],
   "source": [
    "# Select train files\n",
    "file_label_mapping = celeba_dataset.get_file_label_mapping()\n",
    "first_file_for_each_person_df = file_label_mapping.sort_values(by='person_id').groupby('person_id').agg(['min', 'count'])\n",
    "train_files = np.sort(first_file_for_each_person_df['file_name']['min'].values)\n",
    "print(f'Length of train set: {len(train_files)} images.')\n",
    "display(train_files)\n",
    "\n",
    "num_classes = len(np.unique(file_label_mapping['person_id']))"
   ]
  },
  {
   "cell_type": "code",
   "execution_count": 8,
   "metadata": {
    "id": "v1YUbSyeFiwH"
   },
   "outputs": [
    {
     "name": "stdout",
     "output_type": "stream",
     "text": [
      "Length of test set: 192422 images.\n"
     ]
    },
    {
     "data": {
      "text/plain": [
       "array(['000050.jpg', '000082.jpg', '000210.jpg', ..., '202597.jpg',\n",
       "       '202598.jpg', '202599.jpg'], dtype=object)"
      ]
     },
     "metadata": {},
     "output_type": "display_data"
    }
   ],
   "source": [
    "# Select test files\n",
    "second_file_for_each_person_df = file_label_mapping[~file_label_mapping['file_name'].isin(first_file_for_each_person_df['file_name']['min'])].sort_values(by='person_id').groupby('person_id').agg(['min', 'count'])\n",
    "\n",
    "# #1 test file per person \n",
    "# test_files = np.sort(second_file_for_each_person_df[second_file_for_each_person_df['file_name']['count'] >= 1]['file_name']['min'].values)\n",
    "\n",
    "# Maximum number of test files per person\n",
    "test_files = file_label_mapping[~file_label_mapping['file_name'].isin(first_file_for_each_person_df['file_name']['min'])]['file_name'].values\n",
    "\n",
    "print(f'Length of test set: {len(test_files)} images.')\n",
    "display(file_label_mapping[~file_label_mapping['file_name'].isin(first_file_for_each_person_df['file_name']['min'])]['file_name'].values)"
   ]
  },
  {
   "cell_type": "markdown",
   "metadata": {},
   "source": [
    "# Predicting"
   ]
  },
  {
   "cell_type": "code",
   "execution_count": 69,
   "metadata": {},
   "outputs": [],
   "source": [
    "testset_size = 1000\n",
    "\n",
    "train_inds = [int(elem[:6])-1 for elem in train_files] #convert file names to indices that start at \"0\"\n",
    "test_inds = [int(elem[:6])-1 for elem in test_files] #convert file names to indices that start at \"0\"\n",
    "\n",
    "np.random.shuffle(test_inds)\n",
    "val_inds = test_inds[:200]\n",
    "# test_inds = np.random.choice(test_inds[200:], testset_size)\n",
    "\n",
    "train_loader = DataLoader(\n",
    "    celeba_dataset,\n",
    "    num_workers=workers,\n",
    "    batch_size=batch_size,\n",
    "    sampler=SubsetRandomSampler(train_inds),\n",
    "    prefetch_factor=4\n",
    ")\n",
    "\n",
    "# Create data loader with augmented images to concatenate to embeddings of normal ones\n",
    "aug_loader = DataLoader(\n",
    "    celeba_dataset_augment,\n",
    "    num_workers=workers,\n",
    "    batch_size=batch_size,\n",
    "    sampler=SubsetRandomSampler(train_inds),\n",
    "    prefetch_factor=4\n",
    ")\n",
    "\n",
    "val_loader = DataLoader(\n",
    "    celeba_dataset,\n",
    "    num_workers=workers,\n",
    "    batch_size=test_batch_size,\n",
    "    sampler=SubsetRandomSampler(val_inds),\n",
    "    prefetch_factor=64\n",
    ")\n",
    "\n",
    "test_loader = DataLoader(\n",
    "    celeba_dataset,\n",
    "    num_workers=workers,\n",
    "    batch_size=test_batch_size,\n",
    "    sampler=SubsetRandomSampler(test_inds),\n",
    "    prefetch_factor=64,\n",
    "    pin_memory=True\n",
    ")"
   ]
  },
  {
   "cell_type": "markdown",
   "metadata": {},
   "source": [
    "## Run Pre-trained Model"
   ]
  },
  {
   "cell_type": "code",
   "execution_count": 70,
   "metadata": {},
   "outputs": [],
   "source": [
    "model = InceptionResnetV1(pretrained='vggface2').eval().to(device)"
   ]
  },
  {
   "cell_type": "code",
   "execution_count": 97,
   "metadata": {},
   "outputs": [
    {
     "name": "stderr",
     "output_type": "stream",
     "text": [
      "100%|██████████| 319/319 [01:03<00:00,  5.01it/s]"
     ]
    },
    {
     "name": "stdout",
     "output_type": "stream",
     "text": [
      "TRAIN:     Embeddings: torch.Size([10177, 512]).\tLabels: torch.Size([10177]).\n",
      "AUGMENTED: Embeddings: torch.Size([10177, 512]).\tLabels: torch.Size([10177]).\n",
      "TEST:      Embeddings: torch.Size([192422, 512]).\tLabels: torch.Size([192422]).\n"
     ]
    },
    {
     "name": "stderr",
     "output_type": "stream",
     "text": [
      "\n"
     ]
    }
   ],
   "source": [
    "# Get embeddings - either from files (if exists) or by running model\n",
    "\n",
    "train_embeddings_path = 'pytorch_objects/train_embeddings_pretrained_all_1img.pt'\n",
    "train_labels_path = 'pytorch_objects/train_labels_pretrained_all_1img.pt'\n",
    "test_embeddings_path = 'pytorch_objects/test_embeddings_pretrained_all_1img.pt'\n",
    "test_labels_path = 'pytorch_objects/test_labels_pretrained_all_1img.pt'\n",
    "\n",
    "train_embeddings, train_labels = celeba_helper.get_embeddings_and_file_names(model, train_loader, train_embeddings_path, train_labels_path)\n",
    "test_embeddings, test_labels = celeba_helper.get_embeddings_and_file_names(model, test_loader, test_embeddings_path, test_labels_path)\n",
    "aug_embeddings, aug_labels = celeba_helper.get_embeddings_and_file_names(model,aug_loader, save_tensors=False)\n",
    "    \n",
    "print(f'TRAIN:     Embeddings: {train_embeddings.shape}.\\tLabels: {train_labels.shape}.')\n",
    "print(f'AUGMENTED: Embeddings: {aug_embeddings.shape}.\\tLabels: {aug_labels.shape}.')\n",
    "print(f'TEST:      Embeddings: {test_embeddings.shape}.\\tLabels: {test_labels.shape}.')"
   ]
  },
  {
   "cell_type": "code",
   "execution_count": 98,
   "metadata": {},
   "outputs": [
    {
     "name": "stdout",
     "output_type": "stream",
     "text": [
      "Total train emmbeddings (incl. augmented): torch.Size([20354, 512])\n"
     ]
    }
   ],
   "source": [
    "train_embeddings_plus_aug = torch.cat([train_embeddings, aug_embeddings]).cpu()\n",
    "train_labels_plus_aug = torch.cat([train_labels, aug_labels]).cpu()\n",
    "print(f'Total train emmbeddings (incl. augmented): {train_embeddings_plus_aug.shape}')"
   ]
  },
  {
   "cell_type": "code",
   "execution_count": 109,
   "metadata": {},
   "outputs": [
    {
     "name": "stdout",
     "output_type": "stream",
     "text": [
      "Number of rounds: 1000\n",
      "Mean Distance for the two embeddings for the same label is 1.3913335652351366.\n",
      "Mean Distance for the embeddings of the original images of different labels is 1.3900438802838344.\n"
     ]
    }
   ],
   "source": [
    "# Test how embeddings of augmented image to original image and normal images to each other behave\n",
    "# Ideally, mean_dist_same_label should be close to 0\n",
    "\n",
    "mean_dist_same_label = 0 \n",
    "mean_dist_diff_label = 0\n",
    "rounds = 1000\n",
    "\n",
    "for i in range(rounds):\n",
    "    label1 = np.random.randint(0,num_classes)\n",
    "    label2 = np.random.randint(0,num_classes)\n",
    "\n",
    "    indices_label1 = np.where(train_labels_plus_aug == label1)[0]\n",
    "    indices_label2 = np.where(train_labels_plus_aug == label2)[0]\n",
    "    \n",
    "    # Calculate distance = embedding(original image of label 1) - embedding(augmented image of label 1)  \n",
    "    dist_label1 = (train_embeddings_plus_aug[indices_label1[0]] - train_embeddings_plus_aug[indices_label1[1]]).norm().item()\n",
    "    # Calculate distance = embedding(original image of label 1) - embedding(original image of label 2)\n",
    "    dist_label1_label2 = (train_embeddings_plus_aug[indices_label1[0]] - train_embeddings_plus_aug[indices_label2[0]]).norm().item()\n",
    "\n",
    "    # print(f'Distance for the two embeddings for the label {label1} is {dist_label1}.') \n",
    "    # print(f'Distance for the embeddings of the original images of {label2} and {label1} is {dist_label1_label2}.') \n",
    "    \n",
    "    mean_dist_same_label += dist_label1 / rounds \n",
    "    mean_dist_diff_label += dist_label1_label2 / rounds\n",
    "\n",
    "print(f'Number of rounds: {rounds}')\n",
    "print(f'Mean Distance for the two embeddings for the same label is {mean_dist_same_label}.') \n",
    "print(f'Mean Distance for the embeddings of the original images of different labels is {mean_dist_diff_label}.') "
   ]
  },
  {
   "cell_type": "code",
   "execution_count": 108,
   "metadata": {},
   "outputs": [
    {
     "name": "stdout",
     "output_type": "stream",
     "text": [
      "Pre-trained model: Accuracy = 0.4908586336281714.\n",
      "CPU times: user 2min 36s, sys: 49 s, total: 3min 25s\n",
      "Wall time: 1min 2s\n"
     ]
    }
   ],
   "source": [
    "%%time\n",
    "\n",
    "knn = KNeighborsClassifier(n_neighbors=1)\n",
    "knn.fit(train_embeddings, train_labels)\n",
    "score = knn.score(test_embeddings, test_labels)\n",
    "\n",
    "print(f'Pre-trained model: Accuracy = {score}.')"
   ]
  },
  {
   "cell_type": "code",
   "execution_count": null,
   "metadata": {},
   "outputs": [],
   "source": [
    "%%time\n",
    "\n",
    "knn = KNeighborsClassifier(n_neighbors=1)\n",
    "knn.fit(train_embeddings_plus_aug, train_labels_plus_aug)\n",
    "score = knn.score(test_embeddings, test_labels)\n",
    "\n",
    "print(f'Pre-trained model: Accuracy = {score}.')"
   ]
  },
  {
   "cell_type": "markdown",
   "metadata": {},
   "source": [
    "## Fine-tune Model"
   ]
  },
  {
   "cell_type": "markdown",
   "metadata": {
    "tags": []
   },
   "source": [
    "## General Functions"
   ]
  },
  {
   "cell_type": "code",
   "execution_count": 149,
   "metadata": {},
   "outputs": [],
   "source": [
    "def load_model(model, model_path:str):    \n",
    "    model.load_state_dict(torch.load(model_path))\n",
    "    model.eval()\n",
    "    return model"
   ]
  },
  {
   "cell_type": "code",
   "execution_count": 150,
   "metadata": {},
   "outputs": [],
   "source": [
    "def set_parameter_requires_grad(model, feature_extracting):\n",
    "    if feature_extracting:\n",
    "        for param in model.parameters():\n",
    "            param.requires_grad = False"
   ]
  },
  {
   "cell_type": "code",
   "execution_count": 152,
   "metadata": {},
   "outputs": [],
   "source": [
    "def finetune_model(model, loss_fn=torch.nn.CrossEntropyLoss(), metrics={}, epochs:int=10, lr=0.001):   \n",
    "    # Make use of multiple GPUs if available\n",
    "    CUDA = torch.cuda.is_available()\n",
    "    nGPU = torch.cuda.device_count()\n",
    "\n",
    "    if CUDA:\n",
    "        model = model.cuda()\n",
    "        if nGPU > 1:\n",
    "            model = nn.DataParallel(model)\n",
    "    \n",
    "    # Only train logits layer\n",
    "    set_parameter_requires_grad(model=model, feature_extracting=True)\n",
    "    model.logits.requires_grad_(True)\n",
    "        \n",
    "    logits = model.module.logits.parameters() if nGPU > 1 else model.logits.parameters()\n",
    "    optimizer = optim.Adam(logits, lr=lr)\n",
    "    \n",
    "    scheduler = MultiStepLR(optimizer, [5, 10])\n",
    "    \n",
    "    metric_tracker = {}\n",
    "    \n",
    "    writer = SummaryWriter()\n",
    "    writer.iteration, writer.interval = 0, 10\n",
    "\n",
    "    for epoch in range(epochs):\n",
    "        print('\\nEpoch {}/{}'.format(epoch + 1, epochs))\n",
    "        print('-' * 10)\n",
    "\n",
    "        model.train()\n",
    "        train_loss, train_metrics = training.pass_epoch(\n",
    "            model, loss_fn, train_loader, optimizer, scheduler,\n",
    "            batch_metrics=metrics, show_running=True, device=device,\n",
    "            writer=writer\n",
    "        )\n",
    "        \n",
    "        \n",
    "        model.eval()\n",
    "        val_loss, val_metrics = training.pass_epoch(\n",
    "            model, loss_fn, val_loader,\n",
    "            batch_metrics=metrics, show_running=True, device=device,\n",
    "            writer=writer\n",
    "        )\n",
    "\n",
    "    writer.close()\n",
    "    \n",
    "    return model"
   ]
  },
  {
   "cell_type": "code",
   "execution_count": 153,
   "metadata": {},
   "outputs": [],
   "source": [
    "def test(dataloader, model, loss_fn):\n",
    "    size = len(dataloader.dataset)\n",
    "    num_batches = len(dataloader)\n",
    "    predictions = torch.tensor([])\n",
    "    labels = torch.tensor([])\n",
    "    \n",
    "    model.eval()\n",
    "    test_loss, correct = 0, 0\n",
    "    \n",
    "    with torch.no_grad():\n",
    "        idx = 0\n",
    "        for X, y in tqdm(dataloader, total=num_batches):\n",
    "            idx += 1\n",
    "            X, y = X.to(device), y.to(device)\n",
    "            pred = model(X)\n",
    "                \n",
    "            test_loss += loss_fn(pred, y).item()\n",
    "            correct += (pred.argmax(1) == y).type(torch.float).sum().item()\n",
    "            \n",
    "            if not predictions.numel():\n",
    "                predictions = pred.cpu()\n",
    "                labels = y.cpu()\n",
    "            else:\n",
    "                predictions = torch.cat([predictions, pred.cpu()])\n",
    "                labels = torch.cat([labels, y.cpu()])\n",
    "            \n",
    "            del pred, X, y\n",
    "            \n",
    "    test_loss /= num_batches\n",
    "    correct /= size\n",
    "    print(f\"Test Error: \\n Accuracy: {(100*correct):>0.1f}%, Avg loss: {test_loss:>8f} \\n\")\n",
    "    return predictions, labels"
   ]
  },
  {
   "cell_type": "markdown",
   "metadata": {
    "tags": []
   },
   "source": [
    "## Training"
   ]
  },
  {
   "cell_type": "code",
   "execution_count": 154,
   "metadata": {},
   "outputs": [
    {
     "name": "stdout",
     "output_type": "stream",
     "text": [
      "There are 10177 classes/people in the training data.\n"
     ]
    }
   ],
   "source": [
    "num_classes = len(np.unique(train_labels))\n",
    "print(f'There are {num_classes} classes/people in the training data.')"
   ]
  },
  {
   "cell_type": "markdown",
   "metadata": {
    "tags": []
   },
   "source": [
    "### Cross Entropy"
   ]
  },
  {
   "cell_type": "code",
   "execution_count": 155,
   "metadata": {},
   "outputs": [
    {
     "name": "stdout",
     "output_type": "stream",
     "text": [
      "\n",
      "Epoch 1/50\n",
      "----------\n",
      "Train |   318/318  | loss:   20.8534 | fps:  297.8898 | acc:    0.0000   \n",
      "Valid |     2/2    | loss:   22.5085 | fps:  208.5908 | acc:    0.0039   \n",
      "\n",
      "Epoch 2/50\n",
      "----------\n",
      "Train |   318/318  | loss:   29.9243 | fps:  349.1794 | acc:    0.0086   \n",
      "Valid |     2/2    | loss:   29.3058 | fps:  221.5780 | acc:    0.0000   \n",
      "\n",
      "Epoch 3/50\n",
      "----------\n",
      "Train |   318/318  | loss:   30.6575 | fps:  333.8157 | acc:    0.0235   \n",
      "Valid |     2/2    | loss:   32.1336 | fps:  254.2338 | acc:    0.0069   \n",
      "\n",
      "Epoch 4/50\n",
      "----------\n",
      "Train |   318/318  | loss:   30.0817 | fps:  274.0721 | acc:    0.0367   \n",
      "Valid |     2/2    | loss:   37.5410 | fps:  239.9668 | acc:    0.0069   \n",
      "\n",
      "Epoch 5/50\n",
      "----------\n",
      "Train |   318/318  | loss:   29.2322 | fps:  364.2926 | acc:    0.0574   \n",
      "Valid |     2/2    | loss:   35.3528 | fps:  323.7269 | acc:    0.0000   \n",
      "\n",
      "Epoch 6/50\n",
      "----------\n",
      "Train |   318/318  | loss:   22.3625 | fps:  359.3799 | acc:    0.1285   \n",
      "Valid |     2/2    | loss:   33.1456 | fps:  242.0769 | acc:    0.0039   \n",
      "\n",
      "Epoch 7/50\n",
      "----------\n",
      "Train |   318/318  | loss:   18.8183 | fps:  373.6089 | acc:    0.1610   \n",
      "Valid |     2/2    | loss:   28.1010 | fps:  219.0473 | acc:    0.0139   \n",
      "\n",
      "Epoch 8/50\n",
      "----------\n",
      "Train |   318/318  | loss:   17.5727 | fps:  292.6162 | acc:    0.1751   \n",
      "Valid |     2/2    | loss:   27.0841 | fps:  219.3617 | acc:    0.0069   \n",
      "\n",
      "Epoch 9/50\n",
      "----------\n",
      "Train |   318/318  | loss:   16.0592 | fps:  361.1660 | acc:    0.1873   \n",
      "Valid |     2/2    | loss:   26.3221 | fps:  242.0630 | acc:    0.0109   \n",
      "\n",
      "Epoch 10/50\n",
      "----------\n",
      "Train |   318/318  | loss:   14.3470 | fps:  355.5634 | acc:    0.2120   \n",
      "Valid |     2/2    | loss:   24.4508 | fps:  223.1268 | acc:    0.0000   \n",
      "\n",
      "Epoch 11/50\n",
      "----------\n",
      "Train |   318/318  | loss:   13.5544 | fps:  352.3529 | acc:    0.2248   \n",
      "Valid |     2/2    | loss:   24.3668 | fps:  220.8243 | acc:    0.0148   \n",
      "\n",
      "Epoch 12/50\n",
      "----------\n",
      "Train |   318/318  | loss:   13.5577 | fps:  332.3467 | acc:    0.2244   \n",
      "Valid |     2/2    | loss:   22.8992 | fps:  235.0878 | acc:    0.0109   \n",
      "\n",
      "Epoch 13/50\n",
      "----------\n",
      "Train |   318/318  | loss:   13.7619 | fps:  335.5787 | acc:    0.2211   \n",
      "Valid |     2/2    | loss:   26.3359 | fps:  221.9772 | acc:    0.0000   \n",
      "\n",
      "Epoch 14/50\n",
      "----------\n",
      "Train |   318/318  | loss:   13.3466 | fps:  379.5480 | acc:    0.2343   \n",
      "Valid |     2/2    | loss:   24.2630 | fps:  319.5513 | acc:    0.0109   \n",
      "\n",
      "Epoch 15/50\n",
      "----------\n",
      "Train |   318/318  | loss:   13.0514 | fps:  295.1783 | acc:    0.2400   \n",
      "Valid |     2/2    | loss:   27.1136 | fps:  223.4993 | acc:    0.0109   \n",
      "\n",
      "Epoch 16/50\n",
      "----------\n",
      "Train |   318/318  | loss:   13.0407 | fps:  351.6965 | acc:    0.2374   \n",
      "Valid |     2/2    | loss:   25.7791 | fps:  224.2953 | acc:    0.0039   \n",
      "\n",
      "Epoch 17/50\n",
      "----------\n",
      "Train |   318/318  | loss:   13.3007 | fps:  291.9743 | acc:    0.2277   \n",
      "Valid |     2/2    | loss:   24.1183 | fps:  216.3761 | acc:    0.0139   \n",
      "\n",
      "Epoch 18/50\n",
      "----------\n",
      "Train |   318/318  | loss:   13.2406 | fps:  328.4189 | acc:    0.2212   \n",
      "Valid |     2/2    | loss:   26.6140 | fps:  222.3369 | acc:    0.0039   \n",
      "\n",
      "Epoch 19/50\n",
      "----------\n",
      "Train |   318/318  | loss:   12.3776 | fps:  327.1869 | acc:    0.2503   \n",
      "Valid |     2/2    | loss:   24.9957 | fps:  215.3021 | acc:    0.0039   \n",
      "\n",
      "Epoch 20/50\n",
      "----------\n",
      "Train |   318/318  | loss:   12.5788 | fps:  321.6830 | acc:    0.2402   \n",
      "Valid |     2/2    | loss:   24.3551 | fps:  238.9193 | acc:    0.0039   \n",
      "\n",
      "Epoch 21/50\n",
      "----------\n",
      "Train |   318/318  | loss:   12.5682 | fps:  316.6255 | acc:    0.2372   \n",
      "Valid |     2/2    | loss:   25.4881 | fps:  320.5543 | acc:    0.0069   \n",
      "\n",
      "Epoch 22/50\n",
      "----------\n",
      "Train |   318/318  | loss:   12.5573 | fps:  329.7495 | acc:    0.2443   \n",
      "Valid |     2/2    | loss:   22.2980 | fps:  238.4373 | acc:    0.0109   \n",
      "\n",
      "Epoch 23/50\n",
      "----------\n",
      "Train |   318/318  | loss:   12.5193 | fps:  313.2889 | acc:    0.2455   \n",
      "Valid |     2/2    | loss:   26.5662 | fps:  219.7321 | acc:    0.0069   \n",
      "\n",
      "Epoch 24/50\n",
      "----------\n",
      "Train |   318/318  | loss:   12.2520 | fps:  364.2022 | acc:    0.2491   \n",
      "Valid |     2/2    | loss:   23.0110 | fps:  223.4737 | acc:    0.0039   \n",
      "\n",
      "Epoch 25/50\n",
      "----------\n",
      "Train |   318/318  | loss:   12.1715 | fps:  345.0786 | acc:    0.2522   \n",
      "Valid |     2/2    | loss:   25.5256 | fps:  238.9278 | acc:    0.0078   \n",
      "\n",
      "Epoch 26/50\n",
      "----------\n",
      "Train |   318/318  | loss:   12.0210 | fps:  300.6355 | acc:    0.2496   \n",
      "Valid |     2/2    | loss:   24.3750 | fps:  324.9880 | acc:    0.0000   \n",
      "\n",
      "Epoch 27/50\n",
      "----------\n",
      "Train |   318/318  | loss:   12.2294 | fps:  358.7480 | acc:    0.2459   \n",
      "Valid |     2/2    | loss:   24.0405 | fps:  224.2138 | acc:    0.0109   \n",
      "\n",
      "Epoch 28/50\n",
      "----------\n",
      "Train |   318/318  | loss:   12.0483 | fps:  350.9417 | acc:    0.2471   \n",
      "Valid |     2/2    | loss:   25.6558 | fps:  314.5311 | acc:    0.0109   \n",
      "\n",
      "Epoch 29/50\n",
      "----------\n",
      "Train |   318/318  | loss:   12.1286 | fps:  357.0587 | acc:    0.2490   \n",
      "Valid |     2/2    | loss:   24.6941 | fps:  234.0390 | acc:    0.0039   \n",
      "\n",
      "Epoch 30/50\n",
      "----------\n",
      "Train |   318/318  | loss:   11.8643 | fps:  312.5518 | acc:    0.2602   \n",
      "Valid |     2/2    | loss:   24.2594 | fps:  222.8354 | acc:    0.0109   \n",
      "\n",
      "Epoch 31/50\n",
      "----------\n",
      "Train |   318/318  | loss:   11.7979 | fps:  323.7422 | acc:    0.2539   \n",
      "Valid |     2/2    | loss:   21.8816 | fps:  236.1682 | acc:    0.0000   \n",
      "\n",
      "Epoch 32/50\n",
      "----------\n",
      "Train |   318/318  | loss:   11.5958 | fps:  354.4691 | acc:    0.2620   \n",
      "Valid |     2/2    | loss:   23.4354 | fps:  228.5894 | acc:    0.0039   \n",
      "\n",
      "Epoch 33/50\n",
      "----------\n",
      "Train |   318/318  | loss:   11.5262 | fps:  353.5377 | acc:    0.2609   \n",
      "Valid |     2/2    | loss:   23.7276 | fps:  223.3417 | acc:    0.0000   \n",
      "\n",
      "Epoch 34/50\n",
      "----------\n",
      "Train |   318/318  | loss:   11.6491 | fps:  286.2210 | acc:    0.2592   \n",
      "Valid |     2/2    | loss:   24.8115 | fps:  221.8300 | acc:    0.0078   \n",
      "\n",
      "Epoch 35/50\n",
      "----------\n",
      "Train |    33/318  | loss:   11.3191 | fps:  389.3820 | acc:    0.2415   "
     ]
    },
    {
     "ename": "KeyboardInterrupt",
     "evalue": "",
     "output_type": "error",
     "traceback": [
      "\u001b[0;31m---------------------------------------------------------------------------\u001b[0m",
      "\u001b[0;31mKeyboardInterrupt\u001b[0m                         Traceback (most recent call last)",
      "\u001b[0;32m<ipython-input-155-3250255a45ce>\u001b[0m in \u001b[0;36m<module>\u001b[0;34m\u001b[0m\n\u001b[1;32m     22\u001b[0m     ).to(device)\n\u001b[1;32m     23\u001b[0m \u001b[0;34m\u001b[0m\u001b[0m\n\u001b[0;32m---> 24\u001b[0;31m     \u001b[0mmodel\u001b[0m \u001b[0;34m=\u001b[0m \u001b[0mfinetune_model\u001b[0m\u001b[0;34m(\u001b[0m\u001b[0mmodel\u001b[0m\u001b[0;34m,\u001b[0m \u001b[0mloss_fn\u001b[0m\u001b[0;34m=\u001b[0m\u001b[0mtorch\u001b[0m\u001b[0;34m.\u001b[0m\u001b[0mnn\u001b[0m\u001b[0;34m.\u001b[0m\u001b[0mCrossEntropyLoss\u001b[0m\u001b[0;34m(\u001b[0m\u001b[0;34m)\u001b[0m\u001b[0;34m,\u001b[0m \u001b[0mmetrics\u001b[0m\u001b[0;34m=\u001b[0m\u001b[0mmetrics\u001b[0m\u001b[0;34m,\u001b[0m \u001b[0mepochs\u001b[0m\u001b[0;34m=\u001b[0m\u001b[0mepochs\u001b[0m\u001b[0;34m,\u001b[0m \u001b[0mlr\u001b[0m\u001b[0;34m=\u001b[0m\u001b[0mlr\u001b[0m\u001b[0;34m)\u001b[0m\u001b[0;34m\u001b[0m\u001b[0;34m\u001b[0m\u001b[0m\n\u001b[0m\u001b[1;32m     25\u001b[0m     \u001b[0mtorch\u001b[0m\u001b[0;34m.\u001b[0m\u001b[0msave\u001b[0m\u001b[0;34m(\u001b[0m\u001b[0mmodel\u001b[0m\u001b[0;34m.\u001b[0m\u001b[0mstate_dict\u001b[0m\u001b[0;34m(\u001b[0m\u001b[0;34m)\u001b[0m\u001b[0;34m,\u001b[0m \u001b[0;34mf'pytorch_objects/resnet_finetuned_celeba_{epochs}_epochs.pth'\u001b[0m\u001b[0;34m)\u001b[0m\u001b[0;34m\u001b[0m\u001b[0;34m\u001b[0m\u001b[0m\n",
      "\u001b[0;32m<ipython-input-152-690f6930877c>\u001b[0m in \u001b[0;36mfinetune_model\u001b[0;34m(model, loss_fn, metrics, epochs, lr)\u001b[0m\n\u001b[1;32m     31\u001b[0m             \u001b[0mmodel\u001b[0m\u001b[0;34m,\u001b[0m \u001b[0mloss_fn\u001b[0m\u001b[0;34m,\u001b[0m \u001b[0mtrain_loader\u001b[0m\u001b[0;34m,\u001b[0m \u001b[0moptimizer\u001b[0m\u001b[0;34m,\u001b[0m \u001b[0mscheduler\u001b[0m\u001b[0;34m,\u001b[0m\u001b[0;34m\u001b[0m\u001b[0;34m\u001b[0m\u001b[0m\n\u001b[1;32m     32\u001b[0m             \u001b[0mbatch_metrics\u001b[0m\u001b[0;34m=\u001b[0m\u001b[0mmetrics\u001b[0m\u001b[0;34m,\u001b[0m \u001b[0mshow_running\u001b[0m\u001b[0;34m=\u001b[0m\u001b[0;32mTrue\u001b[0m\u001b[0;34m,\u001b[0m \u001b[0mdevice\u001b[0m\u001b[0;34m=\u001b[0m\u001b[0mdevice\u001b[0m\u001b[0;34m,\u001b[0m\u001b[0;34m\u001b[0m\u001b[0;34m\u001b[0m\u001b[0m\n\u001b[0;32m---> 33\u001b[0;31m             \u001b[0mwriter\u001b[0m\u001b[0;34m=\u001b[0m\u001b[0mwriter\u001b[0m\u001b[0;34m\u001b[0m\u001b[0;34m\u001b[0m\u001b[0m\n\u001b[0m\u001b[1;32m     34\u001b[0m         )\n\u001b[1;32m     35\u001b[0m \u001b[0;34m\u001b[0m\u001b[0m\n",
      "\u001b[0;32m/opt/conda/envs/one-shot-face-recognition/lib/python3.6/site-packages/facenet_pytorch/models/utils/training.py\u001b[0m in \u001b[0;36mpass_epoch\u001b[0;34m(model, loss_fn, loader, optimizer, scheduler, batch_metrics, show_running, device, writer)\u001b[0m\n\u001b[1;32m    106\u001b[0m         \u001b[0mmetrics_batch\u001b[0m \u001b[0;34m=\u001b[0m \u001b[0;34m{\u001b[0m\u001b[0;34m}\u001b[0m\u001b[0;34m\u001b[0m\u001b[0;34m\u001b[0m\u001b[0m\n\u001b[1;32m    107\u001b[0m         \u001b[0;32mfor\u001b[0m \u001b[0mmetric_name\u001b[0m\u001b[0;34m,\u001b[0m \u001b[0mmetric_fn\u001b[0m \u001b[0;32min\u001b[0m \u001b[0mbatch_metrics\u001b[0m\u001b[0;34m.\u001b[0m\u001b[0mitems\u001b[0m\u001b[0;34m(\u001b[0m\u001b[0;34m)\u001b[0m\u001b[0;34m:\u001b[0m\u001b[0;34m\u001b[0m\u001b[0;34m\u001b[0m\u001b[0m\n\u001b[0;32m--> 108\u001b[0;31m             \u001b[0mmetrics_batch\u001b[0m\u001b[0;34m[\u001b[0m\u001b[0mmetric_name\u001b[0m\u001b[0;34m]\u001b[0m \u001b[0;34m=\u001b[0m \u001b[0mmetric_fn\u001b[0m\u001b[0;34m(\u001b[0m\u001b[0my_pred\u001b[0m\u001b[0;34m,\u001b[0m \u001b[0my\u001b[0m\u001b[0;34m)\u001b[0m\u001b[0;34m.\u001b[0m\u001b[0mdetach\u001b[0m\u001b[0;34m(\u001b[0m\u001b[0;34m)\u001b[0m\u001b[0;34m.\u001b[0m\u001b[0mcpu\u001b[0m\u001b[0;34m(\u001b[0m\u001b[0;34m)\u001b[0m\u001b[0;34m\u001b[0m\u001b[0;34m\u001b[0m\u001b[0m\n\u001b[0m\u001b[1;32m    109\u001b[0m             \u001b[0mmetrics\u001b[0m\u001b[0;34m[\u001b[0m\u001b[0mmetric_name\u001b[0m\u001b[0;34m]\u001b[0m \u001b[0;34m=\u001b[0m \u001b[0mmetrics\u001b[0m\u001b[0;34m.\u001b[0m\u001b[0mget\u001b[0m\u001b[0;34m(\u001b[0m\u001b[0mmetric_name\u001b[0m\u001b[0;34m,\u001b[0m \u001b[0;36m0\u001b[0m\u001b[0;34m)\u001b[0m \u001b[0;34m+\u001b[0m \u001b[0mmetrics_batch\u001b[0m\u001b[0;34m[\u001b[0m\u001b[0mmetric_name\u001b[0m\u001b[0;34m]\u001b[0m\u001b[0;34m\u001b[0m\u001b[0;34m\u001b[0m\u001b[0m\n\u001b[1;32m    110\u001b[0m \u001b[0;34m\u001b[0m\u001b[0m\n",
      "\u001b[0;31mKeyboardInterrupt\u001b[0m: "
     ]
    }
   ],
   "source": [
    "epochs = 50\n",
    "lr = 0.01\n",
    "\n",
    "metrics = {\n",
    "    'fps': training.BatchTimer(),\n",
    "    'acc': training.accuracy\n",
    "}\n",
    "\n",
    "model_path = f'pytorch_objects/resnet_finetuned_celeba_{epochs}_epochs.pth'\n",
    "\n",
    "if os.path.exists(model_path):\n",
    "    model = InceptionResnetV1(\n",
    "        classify=True,\n",
    "        num_classes=len(pd.unique(file_label_mapping['person_id']))\n",
    "    ).to(device)\n",
    "    model = load_model(model, model_path)\n",
    "else:\n",
    "    model = InceptionResnetV1(\n",
    "        classify=True,\n",
    "        pretrained='vggface2',\n",
    "        num_classes=len(pd.unique(file_label_mapping['person_id']))\n",
    "    ).to(device)\n",
    "    \n",
    "    model = finetune_model(model, loss_fn=torch.nn.CrossEntropyLoss(), metrics=metrics, epochs=epochs, lr=lr)\n",
    "    torch.save(model.state_dict(), f'pytorch_objects/resnet_finetuned_celeba_{epochs}_epochs.pth')"
   ]
  },
  {
   "cell_type": "code",
   "execution_count": null,
   "metadata": {},
   "outputs": [],
   "source": [
    "logits, labels = test(test_loader, model, loss_fn=torch.nn.CrossEntropyLoss())"
   ]
  },
  {
   "cell_type": "code",
   "execution_count": null,
   "metadata": {},
   "outputs": [],
   "source": [
    "from sklearn.metrics import accuracy_score\n",
    "accuracy_score(logits.argmax(1), labels)"
   ]
  },
  {
   "cell_type": "markdown",
   "metadata": {},
   "source": [
    "### Center Loss"
   ]
  },
  {
   "cell_type": "code",
   "execution_count": 92,
   "metadata": {},
   "outputs": [],
   "source": [
    "def pass_epoch_circle_loss(\n",
    "    model, loss_fn, loader, optimizer=None, scheduler=None,\n",
    "    batch_metrics={'time': training.BatchTimer()}, show_running=True,\n",
    "    device='cpu', writer=None, lr_cent=0.5, alpha=0.1\n",
    "):\n",
    "    mode = 'Train' if model.training else 'Valid'\n",
    "    logger = training.Logger(mode, length=len(loader), calculate_mean=show_running)\n",
    "    loss = 0\n",
    "    metrics = {}\n",
    "    criterion_xent = torch.nn.CrossEntropyLoss() \n",
    "    \n",
    "    for i_batch, (x, y) in enumerate(loader):\n",
    "        x = x.to(device)\n",
    "        y = y.to(device)\n",
    "        features, y_pred = model(x)\n",
    "        loss_xent = criterion_xent(y_pred, y)\n",
    "        loss_batch = loss_fn(features, y) * alpha + loss_xent\n",
    "\n",
    "        \n",
    "        if model.training:\n",
    "            loss_batch.backward()\n",
    "            for param in center_loss.parameters():\n",
    "                # lr_cent is learning rate for center loss, e.g. lr_cent = 0.5\n",
    "                param.grad.data *= (lr_cent / (alpha * lr))\n",
    "            optimizer.step()\n",
    "            optimizer.zero_grad()\n",
    "\n",
    "        metrics_batch = {}\n",
    "        for metric_name, metric_fn in batch_metrics.items():\n",
    "            metrics_batch[metric_name] = metric_fn(y_pred, y).detach().cpu()\n",
    "            metrics[metric_name] = metrics.get(metric_name, 0) + metrics_batch[metric_name]\n",
    "            \n",
    "        if writer is not None and model.training:\n",
    "            if writer.iteration % writer.interval == 0:\n",
    "                writer.add_scalars('loss', {mode: loss_batch.detach().cpu()}, writer.iteration)\n",
    "                for metric_name, metric_batch in metrics_batch.items():\n",
    "                    writer.add_scalars(metric_name, {mode: metric_batch}, writer.iteration)\n",
    "            writer.iteration += 1\n",
    "        \n",
    "        loss_batch = loss_batch.detach().cpu()\n",
    "        loss += loss_batch\n",
    "        if show_running:\n",
    "            logger(loss, metrics, i_batch)\n",
    "        else:\n",
    "            logger(loss_batch, metrics_batch, i_batch)\n",
    "    \n",
    "    if model.training and scheduler is not None:\n",
    "        scheduler.step()\n",
    "\n",
    "    loss = loss / (i_batch + 1)\n",
    "    metrics = {k: v / (i_batch + 1) for k, v in metrics.items()}\n",
    "            \n",
    "    if writer is not None and not model.training:\n",
    "        writer.add_scalars('loss', {mode: loss.detach()}, writer.iteration)\n",
    "        for metric_name, metric in metrics.items():\n",
    "            writer.add_scalars(metric_name, {mode: metric})\n",
    "\n",
    "    return loss, metrics"
   ]
  },
  {
   "cell_type": "code",
   "execution_count": 50,
   "metadata": {},
   "outputs": [],
   "source": [
    "def finetune_model_circle_loss(model, optimizer, loss_fn=torch.nn.CrossEntropyLoss(), metrics={}, epochs:int=10, lr_cent = 0.5, alpha = 0.1):   \n",
    "    # Make use of multiple GPUs if available\n",
    "    CUDA = torch.cuda.is_available()\n",
    "    nGPU = torch.cuda.device_count()\n",
    "\n",
    "    if CUDA:\n",
    "        model = model.cuda()\n",
    "        if nGPU > 1:\n",
    "            model = nn.DataParallel(model)\n",
    "    \n",
    "    scheduler = MultiStepLR(optimizer, [5, 10])\n",
    "    \n",
    "    metric_tracker = {}\n",
    "    \n",
    "    writer = SummaryWriter()\n",
    "    writer.iteration, writer.interval = 0, 10\n",
    "    \n",
    "    set_parameter_requires_grad(model=model, feature_extracting=True)\n",
    "    model.requires_grad_(True)\n",
    "\n",
    "    for epoch in range(epochs):\n",
    "        print('\\nEpoch {}/{}'.format(epoch + 1, epochs))\n",
    "        print('-' * 10)\n",
    "\n",
    "        model.train()\n",
    "        train_loss, train_metrics = pass_epoch_circle_loss(\n",
    "            model, loss_fn, train_loader, optimizer, scheduler,\n",
    "            batch_metrics=metrics, show_running=True, device=device,\n",
    "            writer=writer, lr_cent = 0.5, alpha = 0.1\n",
    "        )\n",
    "        \n",
    "        model.eval()\n",
    "        val_loss, val_metrics = pass_epoch_circle_loss(\n",
    "            model, loss_fn, val_loader,\n",
    "            batch_metrics=metrics, show_running=True, device=device,\n",
    "            writer=writer, lr_cent = 0.5, alpha = 0.1\n",
    "        )\n",
    "\n",
    "    writer.close()\n",
    "    \n",
    "    return model"
   ]
  },
  {
   "cell_type": "code",
   "execution_count": 51,
   "metadata": {},
   "outputs": [],
   "source": [
    "use_gpu = True\n",
    "\n",
    "model = InceptionResnetV1(\n",
    "        classify=True,\n",
    "        pretrained='vggface2',\n",
    "        num_classes=len(pd.unique(file_label_mapping['person_id']))\n",
    "    ).to(device)"
   ]
  },
  {
   "cell_type": "code",
   "execution_count": 52,
   "metadata": {},
   "outputs": [],
   "source": [
    "class CustomFaceNet(nn.Module):\n",
    "    def __init__(self, num_classes, feat_dim=2):\n",
    "        super(CustomFaceNet, self).__init__()\n",
    "        self.model = InceptionResnetV1(\n",
    "            pretrained='vggface2',\n",
    "            num_classes=num_classes\n",
    "        )\n",
    "        \n",
    "        self.fc1 = nn.Linear(512, feat_dim)\n",
    "        self.prelu_fc1 = nn.PReLU()\n",
    "        self.fc2 = nn.Linear(feat_dim, self.model.num_classes)\n",
    "        \n",
    "    def forward(self, x):\n",
    "        \"\"\"Calculate embeddings or logits given a batch of input image tensors.\n",
    "\n",
    "        Arguments:\n",
    "            x {torch.tensor} -- Batch of image tensors representing faces.\n",
    "\n",
    "        Returns:\n",
    "            torch.tensor -- Batch of embedding vectors or multinomial logits.\n",
    "        \"\"\"\n",
    "        x = self.model.conv2d_1a(x)\n",
    "        x = self.model.conv2d_2a(x)\n",
    "        x = self.model.conv2d_2b(x)\n",
    "        x = self.model.maxpool_3a(x)\n",
    "        x = self.model.conv2d_3b(x)\n",
    "        x = self.model.conv2d_4a(x)\n",
    "        x = self.model.conv2d_4b(x)\n",
    "        x = self.model.repeat_1(x)\n",
    "        x = self.model.mixed_6a(x)\n",
    "        x = self.model.repeat_2(x)\n",
    "        x = self.model.mixed_7a(x)\n",
    "        x = self.model.repeat_3(x)\n",
    "        x = self.model.block8(x)\n",
    "        x = self.model.avgpool_1a(x)\n",
    "        x = self.model.dropout(x)\n",
    "        x = self.model.last_linear(x.view(x.shape[0], -1))\n",
    "        x = self.model.last_bn(x)\n",
    "        \n",
    "        # Center Loss Layers\n",
    "        x = self.fc1(x)\n",
    "        x = self.prelu_fc1(x)\n",
    "        y = self.fc2(x)\n",
    "        \n",
    "        return x, y"
   ]
  },
  {
   "cell_type": "code",
   "execution_count": 53,
   "metadata": {},
   "outputs": [],
   "source": [
    "feat_dim = 4\n",
    "model = CustomFaceNet(num_classes=num_classes, feat_dim=feat_dim).to(device)"
   ]
  },
  {
   "cell_type": "code",
   "execution_count": 54,
   "metadata": {},
   "outputs": [
    {
     "name": "stdout",
     "output_type": "stream",
     "text": [
      "\n",
      "Epoch 1/20\n",
      "----------\n",
      "Train |   318/318  | loss:    9.6863 | fps:  165.2563 | acc:    0.0000   \n",
      "Valid |     7/7    | loss:    9.6623 | fps:  340.8924 | acc:    0.0000   \n",
      "\n",
      "Epoch 2/20\n",
      "----------\n",
      "Train |   318/318  | loss:    9.6489 | fps:  166.2873 | acc:    0.0000   \n",
      "Valid |     7/7    | loss:    9.6585 | fps:  323.0119 | acc:    0.0000   \n",
      "\n",
      "Epoch 3/20\n",
      "----------\n",
      "Train |   318/318  | loss:    9.6207 | fps:  165.8471 | acc:    0.0001   \n",
      "Valid |     7/7    | loss:    9.6248 | fps:  353.9544 | acc:    0.0000   \n",
      "\n",
      "Epoch 4/20\n",
      "----------\n",
      "Train |   318/318  | loss:    9.5856 | fps:  166.8148 | acc:    0.0001   \n",
      "Valid |     7/7    | loss:    9.6176 | fps:  352.6427 | acc:    0.0000   \n",
      "\n",
      "Epoch 5/20\n",
      "----------\n",
      "Train |   318/318  | loss:    9.5389 | fps:  163.9182 | acc:    0.0004   \n",
      "Valid |     7/7    | loss:    9.6109 | fps:  392.4390 | acc:    0.0000   \n",
      "\n",
      "Epoch 6/20\n",
      "----------\n",
      "Train |   318/318  | loss:    9.4506 | fps:  164.9186 | acc:    0.0002   \n",
      "Valid |     7/7    | loss:    9.5906 | fps:  370.7742 | acc:    0.0000   \n",
      "\n",
      "Epoch 7/20\n",
      "----------\n",
      "Train |   318/318  | loss:    9.4215 | fps:  164.4495 | acc:    0.0004   \n",
      "Valid |     7/7    | loss:    9.6047 | fps:  347.9759 | acc:    0.0000   \n",
      "\n",
      "Epoch 8/20\n",
      "----------\n",
      "Train |   257/318  | loss:    9.3976 | fps:  162.4996 | acc:    0.0007   "
     ]
    },
    {
     "ename": "KeyboardInterrupt",
     "evalue": "",
     "output_type": "error",
     "traceback": [
      "\u001b[0;31m---------------------------------------------------------------------------\u001b[0m",
      "\u001b[0;31mKeyboardInterrupt\u001b[0m                         Traceback (most recent call last)",
      "\u001b[0;32m<ipython-input-54-b2b8a0ebbb04>\u001b[0m in \u001b[0;36m<module>\u001b[0;34m\u001b[0m\n\u001b[1;32m     11\u001b[0m                                    \u001b[0moptimizer\u001b[0m\u001b[0;34m=\u001b[0m\u001b[0moptimizer\u001b[0m\u001b[0;34m,\u001b[0m\u001b[0;34m\u001b[0m\u001b[0;34m\u001b[0m\u001b[0m\n\u001b[1;32m     12\u001b[0m                                    \u001b[0mlr_cent\u001b[0m \u001b[0;34m=\u001b[0m \u001b[0;36m0.1\u001b[0m\u001b[0;34m,\u001b[0m\u001b[0;34m\u001b[0m\u001b[0;34m\u001b[0m\u001b[0m\n\u001b[0;32m---> 13\u001b[0;31m                                    \u001b[0malpha\u001b[0m \u001b[0;34m=\u001b[0m \u001b[0;36m0.5\u001b[0m\u001b[0;34m\u001b[0m\u001b[0;34m\u001b[0m\u001b[0m\n\u001b[0m\u001b[1;32m     14\u001b[0m                                   )   \n",
      "\u001b[0;32m<ipython-input-50-afc45be71b11>\u001b[0m in \u001b[0;36mfinetune_model_circle_loss\u001b[0;34m(model, optimizer, loss_fn, metrics, epochs, lr_cent, alpha)\u001b[0m\n\u001b[1;32m     27\u001b[0m             \u001b[0mmodel\u001b[0m\u001b[0;34m,\u001b[0m \u001b[0mloss_fn\u001b[0m\u001b[0;34m,\u001b[0m \u001b[0mtrain_loader\u001b[0m\u001b[0;34m,\u001b[0m \u001b[0moptimizer\u001b[0m\u001b[0;34m,\u001b[0m \u001b[0mscheduler\u001b[0m\u001b[0;34m,\u001b[0m\u001b[0;34m\u001b[0m\u001b[0;34m\u001b[0m\u001b[0m\n\u001b[1;32m     28\u001b[0m             \u001b[0mbatch_metrics\u001b[0m\u001b[0;34m=\u001b[0m\u001b[0mmetrics\u001b[0m\u001b[0;34m,\u001b[0m \u001b[0mshow_running\u001b[0m\u001b[0;34m=\u001b[0m\u001b[0;32mTrue\u001b[0m\u001b[0;34m,\u001b[0m \u001b[0mdevice\u001b[0m\u001b[0;34m=\u001b[0m\u001b[0mdevice\u001b[0m\u001b[0;34m,\u001b[0m\u001b[0;34m\u001b[0m\u001b[0;34m\u001b[0m\u001b[0m\n\u001b[0;32m---> 29\u001b[0;31m             \u001b[0mwriter\u001b[0m\u001b[0;34m=\u001b[0m\u001b[0mwriter\u001b[0m\u001b[0;34m,\u001b[0m \u001b[0mlr_cent\u001b[0m \u001b[0;34m=\u001b[0m \u001b[0;36m0.5\u001b[0m\u001b[0;34m,\u001b[0m \u001b[0malpha\u001b[0m \u001b[0;34m=\u001b[0m \u001b[0;36m0.1\u001b[0m\u001b[0;34m\u001b[0m\u001b[0;34m\u001b[0m\u001b[0m\n\u001b[0m\u001b[1;32m     30\u001b[0m         )\n\u001b[1;32m     31\u001b[0m \u001b[0;34m\u001b[0m\u001b[0m\n",
      "\u001b[0;32m<ipython-input-28-4da0e4fd96f0>\u001b[0m in \u001b[0;36mpass_epoch_circle_loss\u001b[0;34m(model, loss_fn, loader, optimizer, scheduler, batch_metrics, show_running, device, writer, lr_cent, alpha)\u001b[0m\n\u001b[1;32m     33\u001b[0m     \u001b[0mcriterion_xent\u001b[0m \u001b[0;34m=\u001b[0m \u001b[0mtorch\u001b[0m\u001b[0;34m.\u001b[0m\u001b[0mnn\u001b[0m\u001b[0;34m.\u001b[0m\u001b[0mCrossEntropyLoss\u001b[0m\u001b[0;34m(\u001b[0m\u001b[0;34m)\u001b[0m\u001b[0;34m\u001b[0m\u001b[0;34m\u001b[0m\u001b[0m\n\u001b[1;32m     34\u001b[0m \u001b[0;34m\u001b[0m\u001b[0m\n\u001b[0;32m---> 35\u001b[0;31m     \u001b[0;32mfor\u001b[0m \u001b[0mi_batch\u001b[0m\u001b[0;34m,\u001b[0m \u001b[0;34m(\u001b[0m\u001b[0mx\u001b[0m\u001b[0;34m,\u001b[0m \u001b[0my\u001b[0m\u001b[0;34m)\u001b[0m \u001b[0;32min\u001b[0m \u001b[0menumerate\u001b[0m\u001b[0;34m(\u001b[0m\u001b[0mloader\u001b[0m\u001b[0;34m)\u001b[0m\u001b[0;34m:\u001b[0m\u001b[0;34m\u001b[0m\u001b[0;34m\u001b[0m\u001b[0m\n\u001b[0m\u001b[1;32m     36\u001b[0m         \u001b[0mx\u001b[0m \u001b[0;34m=\u001b[0m \u001b[0mx\u001b[0m\u001b[0;34m.\u001b[0m\u001b[0mto\u001b[0m\u001b[0;34m(\u001b[0m\u001b[0mdevice\u001b[0m\u001b[0;34m)\u001b[0m\u001b[0;34m\u001b[0m\u001b[0;34m\u001b[0m\u001b[0m\n\u001b[1;32m     37\u001b[0m         \u001b[0my\u001b[0m \u001b[0;34m=\u001b[0m \u001b[0my\u001b[0m\u001b[0;34m.\u001b[0m\u001b[0mto\u001b[0m\u001b[0;34m(\u001b[0m\u001b[0mdevice\u001b[0m\u001b[0;34m)\u001b[0m\u001b[0;34m\u001b[0m\u001b[0;34m\u001b[0m\u001b[0m\n",
      "\u001b[0;32m/opt/conda/envs/one-shot-face-recognition/lib/python3.6/site-packages/torch/utils/data/dataloader.py\u001b[0m in \u001b[0;36m__next__\u001b[0;34m(self)\u001b[0m\n\u001b[1;32m    519\u001b[0m             \u001b[0;32mif\u001b[0m \u001b[0mself\u001b[0m\u001b[0;34m.\u001b[0m\u001b[0m_sampler_iter\u001b[0m \u001b[0;32mis\u001b[0m \u001b[0;32mNone\u001b[0m\u001b[0;34m:\u001b[0m\u001b[0;34m\u001b[0m\u001b[0;34m\u001b[0m\u001b[0m\n\u001b[1;32m    520\u001b[0m                 \u001b[0mself\u001b[0m\u001b[0;34m.\u001b[0m\u001b[0m_reset\u001b[0m\u001b[0;34m(\u001b[0m\u001b[0;34m)\u001b[0m\u001b[0;34m\u001b[0m\u001b[0;34m\u001b[0m\u001b[0m\n\u001b[0;32m--> 521\u001b[0;31m             \u001b[0mdata\u001b[0m \u001b[0;34m=\u001b[0m \u001b[0mself\u001b[0m\u001b[0;34m.\u001b[0m\u001b[0m_next_data\u001b[0m\u001b[0;34m(\u001b[0m\u001b[0;34m)\u001b[0m\u001b[0;34m\u001b[0m\u001b[0;34m\u001b[0m\u001b[0m\n\u001b[0m\u001b[1;32m    522\u001b[0m             \u001b[0mself\u001b[0m\u001b[0;34m.\u001b[0m\u001b[0m_num_yielded\u001b[0m \u001b[0;34m+=\u001b[0m \u001b[0;36m1\u001b[0m\u001b[0;34m\u001b[0m\u001b[0;34m\u001b[0m\u001b[0m\n\u001b[1;32m    523\u001b[0m             \u001b[0;32mif\u001b[0m \u001b[0mself\u001b[0m\u001b[0;34m.\u001b[0m\u001b[0m_dataset_kind\u001b[0m \u001b[0;34m==\u001b[0m \u001b[0m_DatasetKind\u001b[0m\u001b[0;34m.\u001b[0m\u001b[0mIterable\u001b[0m \u001b[0;32mand\u001b[0m\u001b[0;31m \u001b[0m\u001b[0;31m\\\u001b[0m\u001b[0;34m\u001b[0m\u001b[0;34m\u001b[0m\u001b[0m\n",
      "\u001b[0;32m/opt/conda/envs/one-shot-face-recognition/lib/python3.6/site-packages/torch/utils/data/dataloader.py\u001b[0m in \u001b[0;36m_next_data\u001b[0;34m(self)\u001b[0m\n\u001b[1;32m   1184\u001b[0m \u001b[0;34m\u001b[0m\u001b[0m\n\u001b[1;32m   1185\u001b[0m             \u001b[0;32massert\u001b[0m \u001b[0;32mnot\u001b[0m \u001b[0mself\u001b[0m\u001b[0;34m.\u001b[0m\u001b[0m_shutdown\u001b[0m \u001b[0;32mand\u001b[0m \u001b[0mself\u001b[0m\u001b[0;34m.\u001b[0m\u001b[0m_tasks_outstanding\u001b[0m \u001b[0;34m>\u001b[0m \u001b[0;36m0\u001b[0m\u001b[0;34m\u001b[0m\u001b[0;34m\u001b[0m\u001b[0m\n\u001b[0;32m-> 1186\u001b[0;31m             \u001b[0midx\u001b[0m\u001b[0;34m,\u001b[0m \u001b[0mdata\u001b[0m \u001b[0;34m=\u001b[0m \u001b[0mself\u001b[0m\u001b[0;34m.\u001b[0m\u001b[0m_get_data\u001b[0m\u001b[0;34m(\u001b[0m\u001b[0;34m)\u001b[0m\u001b[0;34m\u001b[0m\u001b[0;34m\u001b[0m\u001b[0m\n\u001b[0m\u001b[1;32m   1187\u001b[0m             \u001b[0mself\u001b[0m\u001b[0;34m.\u001b[0m\u001b[0m_tasks_outstanding\u001b[0m \u001b[0;34m-=\u001b[0m \u001b[0;36m1\u001b[0m\u001b[0;34m\u001b[0m\u001b[0;34m\u001b[0m\u001b[0m\n\u001b[1;32m   1188\u001b[0m             \u001b[0;32mif\u001b[0m \u001b[0mself\u001b[0m\u001b[0;34m.\u001b[0m\u001b[0m_dataset_kind\u001b[0m \u001b[0;34m==\u001b[0m \u001b[0m_DatasetKind\u001b[0m\u001b[0;34m.\u001b[0m\u001b[0mIterable\u001b[0m\u001b[0;34m:\u001b[0m\u001b[0;34m\u001b[0m\u001b[0;34m\u001b[0m\u001b[0m\n",
      "\u001b[0;32m/opt/conda/envs/one-shot-face-recognition/lib/python3.6/site-packages/torch/utils/data/dataloader.py\u001b[0m in \u001b[0;36m_get_data\u001b[0;34m(self)\u001b[0m\n\u001b[1;32m   1150\u001b[0m         \u001b[0;32melse\u001b[0m\u001b[0;34m:\u001b[0m\u001b[0;34m\u001b[0m\u001b[0;34m\u001b[0m\u001b[0m\n\u001b[1;32m   1151\u001b[0m             \u001b[0;32mwhile\u001b[0m \u001b[0;32mTrue\u001b[0m\u001b[0;34m:\u001b[0m\u001b[0;34m\u001b[0m\u001b[0;34m\u001b[0m\u001b[0m\n\u001b[0;32m-> 1152\u001b[0;31m                 \u001b[0msuccess\u001b[0m\u001b[0;34m,\u001b[0m \u001b[0mdata\u001b[0m \u001b[0;34m=\u001b[0m \u001b[0mself\u001b[0m\u001b[0;34m.\u001b[0m\u001b[0m_try_get_data\u001b[0m\u001b[0;34m(\u001b[0m\u001b[0;34m)\u001b[0m\u001b[0;34m\u001b[0m\u001b[0;34m\u001b[0m\u001b[0m\n\u001b[0m\u001b[1;32m   1153\u001b[0m                 \u001b[0;32mif\u001b[0m \u001b[0msuccess\u001b[0m\u001b[0;34m:\u001b[0m\u001b[0;34m\u001b[0m\u001b[0;34m\u001b[0m\u001b[0m\n\u001b[1;32m   1154\u001b[0m                     \u001b[0;32mreturn\u001b[0m \u001b[0mdata\u001b[0m\u001b[0;34m\u001b[0m\u001b[0;34m\u001b[0m\u001b[0m\n",
      "\u001b[0;32m/opt/conda/envs/one-shot-face-recognition/lib/python3.6/site-packages/torch/utils/data/dataloader.py\u001b[0m in \u001b[0;36m_try_get_data\u001b[0;34m(self, timeout)\u001b[0m\n\u001b[1;32m    988\u001b[0m         \u001b[0;31m#   (bool: whether successfully get data, any: data if successful else None)\u001b[0m\u001b[0;34m\u001b[0m\u001b[0;34m\u001b[0m\u001b[0;34m\u001b[0m\u001b[0m\n\u001b[1;32m    989\u001b[0m         \u001b[0;32mtry\u001b[0m\u001b[0;34m:\u001b[0m\u001b[0;34m\u001b[0m\u001b[0;34m\u001b[0m\u001b[0m\n\u001b[0;32m--> 990\u001b[0;31m             \u001b[0mdata\u001b[0m \u001b[0;34m=\u001b[0m \u001b[0mself\u001b[0m\u001b[0;34m.\u001b[0m\u001b[0m_data_queue\u001b[0m\u001b[0;34m.\u001b[0m\u001b[0mget\u001b[0m\u001b[0;34m(\u001b[0m\u001b[0mtimeout\u001b[0m\u001b[0;34m=\u001b[0m\u001b[0mtimeout\u001b[0m\u001b[0;34m)\u001b[0m\u001b[0;34m\u001b[0m\u001b[0;34m\u001b[0m\u001b[0m\n\u001b[0m\u001b[1;32m    991\u001b[0m             \u001b[0;32mreturn\u001b[0m \u001b[0;34m(\u001b[0m\u001b[0;32mTrue\u001b[0m\u001b[0;34m,\u001b[0m \u001b[0mdata\u001b[0m\u001b[0;34m)\u001b[0m\u001b[0;34m\u001b[0m\u001b[0;34m\u001b[0m\u001b[0m\n\u001b[1;32m    992\u001b[0m         \u001b[0;32mexcept\u001b[0m \u001b[0mException\u001b[0m \u001b[0;32mas\u001b[0m \u001b[0me\u001b[0m\u001b[0;34m:\u001b[0m\u001b[0;34m\u001b[0m\u001b[0;34m\u001b[0m\u001b[0m\n",
      "\u001b[0;32m/opt/conda/envs/one-shot-face-recognition/lib/python3.6/multiprocessing/queues.py\u001b[0m in \u001b[0;36mget\u001b[0;34m(self, block, timeout)\u001b[0m\n\u001b[1;32m    102\u001b[0m                 \u001b[0;32mif\u001b[0m \u001b[0mblock\u001b[0m\u001b[0;34m:\u001b[0m\u001b[0;34m\u001b[0m\u001b[0;34m\u001b[0m\u001b[0m\n\u001b[1;32m    103\u001b[0m                     \u001b[0mtimeout\u001b[0m \u001b[0;34m=\u001b[0m \u001b[0mdeadline\u001b[0m \u001b[0;34m-\u001b[0m \u001b[0mtime\u001b[0m\u001b[0;34m.\u001b[0m\u001b[0mmonotonic\u001b[0m\u001b[0;34m(\u001b[0m\u001b[0;34m)\u001b[0m\u001b[0;34m\u001b[0m\u001b[0;34m\u001b[0m\u001b[0m\n\u001b[0;32m--> 104\u001b[0;31m                     \u001b[0;32mif\u001b[0m \u001b[0;32mnot\u001b[0m \u001b[0mself\u001b[0m\u001b[0;34m.\u001b[0m\u001b[0m_poll\u001b[0m\u001b[0;34m(\u001b[0m\u001b[0mtimeout\u001b[0m\u001b[0;34m)\u001b[0m\u001b[0;34m:\u001b[0m\u001b[0;34m\u001b[0m\u001b[0;34m\u001b[0m\u001b[0m\n\u001b[0m\u001b[1;32m    105\u001b[0m                         \u001b[0;32mraise\u001b[0m \u001b[0mEmpty\u001b[0m\u001b[0;34m\u001b[0m\u001b[0;34m\u001b[0m\u001b[0m\n\u001b[1;32m    106\u001b[0m                 \u001b[0;32melif\u001b[0m \u001b[0;32mnot\u001b[0m \u001b[0mself\u001b[0m\u001b[0;34m.\u001b[0m\u001b[0m_poll\u001b[0m\u001b[0;34m(\u001b[0m\u001b[0;34m)\u001b[0m\u001b[0;34m:\u001b[0m\u001b[0;34m\u001b[0m\u001b[0;34m\u001b[0m\u001b[0m\n",
      "\u001b[0;32m/opt/conda/envs/one-shot-face-recognition/lib/python3.6/multiprocessing/connection.py\u001b[0m in \u001b[0;36mpoll\u001b[0;34m(self, timeout)\u001b[0m\n\u001b[1;32m    255\u001b[0m         \u001b[0mself\u001b[0m\u001b[0;34m.\u001b[0m\u001b[0m_check_closed\u001b[0m\u001b[0;34m(\u001b[0m\u001b[0;34m)\u001b[0m\u001b[0;34m\u001b[0m\u001b[0;34m\u001b[0m\u001b[0m\n\u001b[1;32m    256\u001b[0m         \u001b[0mself\u001b[0m\u001b[0;34m.\u001b[0m\u001b[0m_check_readable\u001b[0m\u001b[0;34m(\u001b[0m\u001b[0;34m)\u001b[0m\u001b[0;34m\u001b[0m\u001b[0;34m\u001b[0m\u001b[0m\n\u001b[0;32m--> 257\u001b[0;31m         \u001b[0;32mreturn\u001b[0m \u001b[0mself\u001b[0m\u001b[0;34m.\u001b[0m\u001b[0m_poll\u001b[0m\u001b[0;34m(\u001b[0m\u001b[0mtimeout\u001b[0m\u001b[0;34m)\u001b[0m\u001b[0;34m\u001b[0m\u001b[0;34m\u001b[0m\u001b[0m\n\u001b[0m\u001b[1;32m    258\u001b[0m \u001b[0;34m\u001b[0m\u001b[0m\n\u001b[1;32m    259\u001b[0m     \u001b[0;32mdef\u001b[0m \u001b[0m__enter__\u001b[0m\u001b[0;34m(\u001b[0m\u001b[0mself\u001b[0m\u001b[0;34m)\u001b[0m\u001b[0;34m:\u001b[0m\u001b[0;34m\u001b[0m\u001b[0;34m\u001b[0m\u001b[0m\n",
      "\u001b[0;32m/opt/conda/envs/one-shot-face-recognition/lib/python3.6/multiprocessing/connection.py\u001b[0m in \u001b[0;36m_poll\u001b[0;34m(self, timeout)\u001b[0m\n\u001b[1;32m    412\u001b[0m \u001b[0;34m\u001b[0m\u001b[0m\n\u001b[1;32m    413\u001b[0m     \u001b[0;32mdef\u001b[0m \u001b[0m_poll\u001b[0m\u001b[0;34m(\u001b[0m\u001b[0mself\u001b[0m\u001b[0;34m,\u001b[0m \u001b[0mtimeout\u001b[0m\u001b[0;34m)\u001b[0m\u001b[0;34m:\u001b[0m\u001b[0;34m\u001b[0m\u001b[0;34m\u001b[0m\u001b[0m\n\u001b[0;32m--> 414\u001b[0;31m         \u001b[0mr\u001b[0m \u001b[0;34m=\u001b[0m \u001b[0mwait\u001b[0m\u001b[0;34m(\u001b[0m\u001b[0;34m[\u001b[0m\u001b[0mself\u001b[0m\u001b[0;34m]\u001b[0m\u001b[0;34m,\u001b[0m \u001b[0mtimeout\u001b[0m\u001b[0;34m)\u001b[0m\u001b[0;34m\u001b[0m\u001b[0;34m\u001b[0m\u001b[0m\n\u001b[0m\u001b[1;32m    415\u001b[0m         \u001b[0;32mreturn\u001b[0m \u001b[0mbool\u001b[0m\u001b[0;34m(\u001b[0m\u001b[0mr\u001b[0m\u001b[0;34m)\u001b[0m\u001b[0;34m\u001b[0m\u001b[0;34m\u001b[0m\u001b[0m\n\u001b[1;32m    416\u001b[0m \u001b[0;34m\u001b[0m\u001b[0m\n",
      "\u001b[0;32m/opt/conda/envs/one-shot-face-recognition/lib/python3.6/multiprocessing/connection.py\u001b[0m in \u001b[0;36mwait\u001b[0;34m(object_list, timeout)\u001b[0m\n\u001b[1;32m    909\u001b[0m \u001b[0;34m\u001b[0m\u001b[0m\n\u001b[1;32m    910\u001b[0m             \u001b[0;32mwhile\u001b[0m \u001b[0;32mTrue\u001b[0m\u001b[0;34m:\u001b[0m\u001b[0;34m\u001b[0m\u001b[0;34m\u001b[0m\u001b[0m\n\u001b[0;32m--> 911\u001b[0;31m                 \u001b[0mready\u001b[0m \u001b[0;34m=\u001b[0m \u001b[0mselector\u001b[0m\u001b[0;34m.\u001b[0m\u001b[0mselect\u001b[0m\u001b[0;34m(\u001b[0m\u001b[0mtimeout\u001b[0m\u001b[0;34m)\u001b[0m\u001b[0;34m\u001b[0m\u001b[0;34m\u001b[0m\u001b[0m\n\u001b[0m\u001b[1;32m    912\u001b[0m                 \u001b[0;32mif\u001b[0m \u001b[0mready\u001b[0m\u001b[0;34m:\u001b[0m\u001b[0;34m\u001b[0m\u001b[0;34m\u001b[0m\u001b[0m\n\u001b[1;32m    913\u001b[0m                     \u001b[0;32mreturn\u001b[0m \u001b[0;34m[\u001b[0m\u001b[0mkey\u001b[0m\u001b[0;34m.\u001b[0m\u001b[0mfileobj\u001b[0m \u001b[0;32mfor\u001b[0m \u001b[0;34m(\u001b[0m\u001b[0mkey\u001b[0m\u001b[0;34m,\u001b[0m \u001b[0mevents\u001b[0m\u001b[0;34m)\u001b[0m \u001b[0;32min\u001b[0m \u001b[0mready\u001b[0m\u001b[0;34m]\u001b[0m\u001b[0;34m\u001b[0m\u001b[0;34m\u001b[0m\u001b[0m\n",
      "\u001b[0;32m/opt/conda/envs/one-shot-face-recognition/lib/python3.6/selectors.py\u001b[0m in \u001b[0;36mselect\u001b[0;34m(self, timeout)\u001b[0m\n\u001b[1;32m    374\u001b[0m             \u001b[0mready\u001b[0m \u001b[0;34m=\u001b[0m \u001b[0;34m[\u001b[0m\u001b[0;34m]\u001b[0m\u001b[0;34m\u001b[0m\u001b[0;34m\u001b[0m\u001b[0m\n\u001b[1;32m    375\u001b[0m             \u001b[0;32mtry\u001b[0m\u001b[0;34m:\u001b[0m\u001b[0;34m\u001b[0m\u001b[0;34m\u001b[0m\u001b[0m\n\u001b[0;32m--> 376\u001b[0;31m                 \u001b[0mfd_event_list\u001b[0m \u001b[0;34m=\u001b[0m \u001b[0mself\u001b[0m\u001b[0;34m.\u001b[0m\u001b[0m_poll\u001b[0m\u001b[0;34m.\u001b[0m\u001b[0mpoll\u001b[0m\u001b[0;34m(\u001b[0m\u001b[0mtimeout\u001b[0m\u001b[0;34m)\u001b[0m\u001b[0;34m\u001b[0m\u001b[0;34m\u001b[0m\u001b[0m\n\u001b[0m\u001b[1;32m    377\u001b[0m             \u001b[0;32mexcept\u001b[0m \u001b[0mInterruptedError\u001b[0m\u001b[0;34m:\u001b[0m\u001b[0;34m\u001b[0m\u001b[0;34m\u001b[0m\u001b[0m\n\u001b[1;32m    378\u001b[0m                 \u001b[0;32mreturn\u001b[0m \u001b[0mready\u001b[0m\u001b[0;34m\u001b[0m\u001b[0;34m\u001b[0m\u001b[0m\n",
      "\u001b[0;31mKeyboardInterrupt\u001b[0m: "
     ]
    }
   ],
   "source": [
    "lr = 0.01\n",
    "epochs = 50\n",
    "\n",
    "center_loss = CenterLoss(num_classes=num_classes, feat_dim=feat_dim, use_gpu=use_gpu)\n",
    "params = list(model.fc1.parameters()) + list(model.prelu_fc1.parameters()) + list(model.fc2.parameters()) + list(center_loss.parameters())\n",
    "optimizer = torch.optim.SGD(params, lr=lr) # here lr is the overall learning rate\n",
    "\n",
    "model = finetune_model_circle_loss(model, \n",
    "                                   loss_fn=center_loss, \n",
    "                                   metrics=metrics, \n",
    "                                   epochs=epochs, \n",
    "                                   optimizer=optimizer, \n",
    "                                   lr_cent = 0.1,\n",
    "                                   alpha = 0.5\n",
    "                                  )   "
   ]
  },
  {
   "cell_type": "markdown",
   "metadata": {},
   "source": [
    "## Testing"
   ]
  },
  {
   "cell_type": "code",
   "execution_count": 118,
   "metadata": {},
   "outputs": [
    {
     "name": "stderr",
     "output_type": "stream",
     "text": [
      " 50%|█████     | 159/316 [01:31<01:30,  1.74it/s]\n",
      " 50%|█████     | 159/316 [01:30<01:29,  1.75it/s]\n"
     ]
    }
   ],
   "source": [
    "model.classify = False\n",
    "train_embeddings, train_labels = get_embeddings(model, train_loader, len(train_files), batch_size)\n",
    "test_embeddings, test_labels = get_embeddings(model, test_loader, len(test_files), batch_size)"
   ]
  },
  {
   "cell_type": "code",
   "execution_count": 119,
   "metadata": {},
   "outputs": [
    {
     "name": "stderr",
     "output_type": "stream",
     "text": [
      "100%|██████████| 159/159 [01:31<00:00,  1.74it/s]"
     ]
    },
    {
     "name": "stdout",
     "output_type": "stream",
     "text": [
      "Test Error: \n",
      " Accuracy: 0.2%, Avg loss: 8.176490 \n",
      "\n"
     ]
    },
    {
     "name": "stderr",
     "output_type": "stream",
     "text": [
      "\n"
     ]
    }
   ],
   "source": [
    "test_predictions, test_labels = test(test_loader, model, loss_fn)"
   ]
  },
  {
   "cell_type": "code",
   "execution_count": 122,
   "metadata": {},
   "outputs": [
    {
     "name": "stdout",
     "output_type": "stream",
     "text": [
      "Fine-tuned model: Accuracy = 9.868745682423764e-05.\n"
     ]
    }
   ],
   "source": [
    "knn = KNeighborsClassifier(n_neighbors=1)\n",
    "\n",
    "\n",
    "test_embeddings = test_embeddings.cpu()\n",
    "test_labels = test_labels.cpu()\n",
    "\n",
    "knn.fit(train_embeddings, train_labels)\n",
    "score = knn.score(test_embeddings, test_labels)\n",
    "\n",
    "print(f'Fine-tuned model: Accuracy = {score}.')"
   ]
  },
  {
   "cell_type": "markdown",
   "metadata": {},
   "source": [
    "# Conclusion\n",
    "Fine-tuning FaceNet on a one-shot dataset does not yield desirable results, even after hyperparameter tuning. The model quickly overfits and performs worse than the default FaceNet which achieves approx. $50\\%$ test accuracy on the One-Shot CelebA dataset."
   ]
  },
  {
   "cell_type": "code",
   "execution_count": null,
   "metadata": {},
   "outputs": [],
   "source": [
    "%reload_ext tensorboard\n",
    "%tensorboard --logdir runs"
   ]
  }
 ],
 "metadata": {
  "accelerator": "GPU",
  "colab": {
   "collapsed_sections": [
    "9TwXdV7BHeoT",
    "k0mnB3l9Ha9D",
    "w7Ta2e8wa3UM",
    "gU46F-JyF2PA",
    "3JLywKFbopy9",
    "aEBA_FaWHpgY",
    "IJAT0dvwHfaa",
    "vqPiqddKE51v"
   ],
   "provenance": []
  },
  "kernelspec": {
   "display_name": "one-shot-face-recognition",
   "language": "python",
   "name": "one-shot-face-recognition"
  },
  "language_info": {
   "codemirror_mode": {
    "name": "ipython",
    "version": 3
   },
   "file_extension": ".py",
   "mimetype": "text/x-python",
   "name": "python",
   "nbconvert_exporter": "python",
   "pygments_lexer": "ipython3",
   "version": "3.6.9"
  },
  "vscode": {
   "interpreter": {
    "hash": "e9597514a15d9b9f9e00f05466d4e27587ef46450885503145645716a45da41a"
   }
  },
  "widgets": {
   "application/vnd.jupyter.widget-state+json": {
    "4f85a6f0f9324ea486123de2cbe30e8c": {
     "model_module": "@jupyter-widgets/controls",
     "model_module_version": "1.5.0",
     "model_name": "FloatProgressModel",
     "state": {
      "_dom_classes": [],
      "_model_module": "@jupyter-widgets/controls",
      "_model_module_version": "1.5.0",
      "_model_name": "FloatProgressModel",
      "_view_count": null,
      "_view_module": "@jupyter-widgets/controls",
      "_view_module_version": "1.5.0",
      "_view_name": "ProgressView",
      "bar_style": "success",
      "description": "",
      "description_tooltip": null,
      "layout": "IPY_MODEL_b34a69a6ae5b4d9cba0c3122347a71a9",
      "max": 111898327,
      "min": 0,
      "orientation": "horizontal",
      "style": "IPY_MODEL_c2ee6bf5a22c4212b8a1561806fd4e3d",
      "value": 111898327
     }
    },
    "59bde1c8a1b64a49ba27815343158bcb": {
     "model_module": "@jupyter-widgets/controls",
     "model_module_version": "1.5.0",
     "model_name": "HBoxModel",
     "state": {
      "_dom_classes": [],
      "_model_module": "@jupyter-widgets/controls",
      "_model_module_version": "1.5.0",
      "_model_name": "HBoxModel",
      "_view_count": null,
      "_view_module": "@jupyter-widgets/controls",
      "_view_module_version": "1.5.0",
      "_view_name": "HBoxView",
      "box_style": "",
      "children": [
       "IPY_MODEL_5c9fca3e08b64557bc1643b702584a3e",
       "IPY_MODEL_4f85a6f0f9324ea486123de2cbe30e8c",
       "IPY_MODEL_ac1c0e176aee4fc8b9aa118fdf969b62"
      ],
      "layout": "IPY_MODEL_82f4c9540ef54adf89c4df3a2498f5b0"
     }
    },
    "5c9fca3e08b64557bc1643b702584a3e": {
     "model_module": "@jupyter-widgets/controls",
     "model_module_version": "1.5.0",
     "model_name": "HTMLModel",
     "state": {
      "_dom_classes": [],
      "_model_module": "@jupyter-widgets/controls",
      "_model_module_version": "1.5.0",
      "_model_name": "HTMLModel",
      "_view_count": null,
      "_view_module": "@jupyter-widgets/controls",
      "_view_module_version": "1.5.0",
      "_view_name": "HTMLView",
      "description": "",
      "description_tooltip": null,
      "layout": "IPY_MODEL_7f03cdbcddb34eb7a802efa105484b73",
      "placeholder": "​",
      "style": "IPY_MODEL_f300fc24f7dc4156a362b9910af4d1fc",
      "value": "100%"
     }
    },
    "6de3e0fc1f76432f9544c2ae5c0766f0": {
     "model_module": "@jupyter-widgets/base",
     "model_module_version": "1.2.0",
     "model_name": "LayoutModel",
     "state": {
      "_model_module": "@jupyter-widgets/base",
      "_model_module_version": "1.2.0",
      "_model_name": "LayoutModel",
      "_view_count": null,
      "_view_module": "@jupyter-widgets/base",
      "_view_module_version": "1.2.0",
      "_view_name": "LayoutView",
      "align_content": null,
      "align_items": null,
      "align_self": null,
      "border": null,
      "bottom": null,
      "display": null,
      "flex": null,
      "flex_flow": null,
      "grid_area": null,
      "grid_auto_columns": null,
      "grid_auto_flow": null,
      "grid_auto_rows": null,
      "grid_column": null,
      "grid_gap": null,
      "grid_row": null,
      "grid_template_areas": null,
      "grid_template_columns": null,
      "grid_template_rows": null,
      "height": null,
      "justify_content": null,
      "justify_items": null,
      "left": null,
      "margin": null,
      "max_height": null,
      "max_width": null,
      "min_height": null,
      "min_width": null,
      "object_fit": null,
      "object_position": null,
      "order": null,
      "overflow": null,
      "overflow_x": null,
      "overflow_y": null,
      "padding": null,
      "right": null,
      "top": null,
      "visibility": null,
      "width": null
     }
    },
    "7f03cdbcddb34eb7a802efa105484b73": {
     "model_module": "@jupyter-widgets/base",
     "model_module_version": "1.2.0",
     "model_name": "LayoutModel",
     "state": {
      "_model_module": "@jupyter-widgets/base",
      "_model_module_version": "1.2.0",
      "_model_name": "LayoutModel",
      "_view_count": null,
      "_view_module": "@jupyter-widgets/base",
      "_view_module_version": "1.2.0",
      "_view_name": "LayoutView",
      "align_content": null,
      "align_items": null,
      "align_self": null,
      "border": null,
      "bottom": null,
      "display": null,
      "flex": null,
      "flex_flow": null,
      "grid_area": null,
      "grid_auto_columns": null,
      "grid_auto_flow": null,
      "grid_auto_rows": null,
      "grid_column": null,
      "grid_gap": null,
      "grid_row": null,
      "grid_template_areas": null,
      "grid_template_columns": null,
      "grid_template_rows": null,
      "height": null,
      "justify_content": null,
      "justify_items": null,
      "left": null,
      "margin": null,
      "max_height": null,
      "max_width": null,
      "min_height": null,
      "min_width": null,
      "object_fit": null,
      "object_position": null,
      "order": null,
      "overflow": null,
      "overflow_x": null,
      "overflow_y": null,
      "padding": null,
      "right": null,
      "top": null,
      "visibility": null,
      "width": null
     }
    },
    "82f4c9540ef54adf89c4df3a2498f5b0": {
     "model_module": "@jupyter-widgets/base",
     "model_module_version": "1.2.0",
     "model_name": "LayoutModel",
     "state": {
      "_model_module": "@jupyter-widgets/base",
      "_model_module_version": "1.2.0",
      "_model_name": "LayoutModel",
      "_view_count": null,
      "_view_module": "@jupyter-widgets/base",
      "_view_module_version": "1.2.0",
      "_view_name": "LayoutView",
      "align_content": null,
      "align_items": null,
      "align_self": null,
      "border": null,
      "bottom": null,
      "display": null,
      "flex": null,
      "flex_flow": null,
      "grid_area": null,
      "grid_auto_columns": null,
      "grid_auto_flow": null,
      "grid_auto_rows": null,
      "grid_column": null,
      "grid_gap": null,
      "grid_row": null,
      "grid_template_areas": null,
      "grid_template_columns": null,
      "grid_template_rows": null,
      "height": null,
      "justify_content": null,
      "justify_items": null,
      "left": null,
      "margin": null,
      "max_height": null,
      "max_width": null,
      "min_height": null,
      "min_width": null,
      "object_fit": null,
      "object_position": null,
      "order": null,
      "overflow": null,
      "overflow_x": null,
      "overflow_y": null,
      "padding": null,
      "right": null,
      "top": null,
      "visibility": null,
      "width": null
     }
    },
    "ac1c0e176aee4fc8b9aa118fdf969b62": {
     "model_module": "@jupyter-widgets/controls",
     "model_module_version": "1.5.0",
     "model_name": "HTMLModel",
     "state": {
      "_dom_classes": [],
      "_model_module": "@jupyter-widgets/controls",
      "_model_module_version": "1.5.0",
      "_model_name": "HTMLModel",
      "_view_count": null,
      "_view_module": "@jupyter-widgets/controls",
      "_view_module_version": "1.5.0",
      "_view_name": "HTMLView",
      "description": "",
      "description_tooltip": null,
      "layout": "IPY_MODEL_6de3e0fc1f76432f9544c2ae5c0766f0",
      "placeholder": "​",
      "style": "IPY_MODEL_d3f21c1443ba4ec1ad64a5d143598a19",
      "value": " 107M/107M [00:00&lt;00:00, 130MB/s]"
     }
    },
    "b34a69a6ae5b4d9cba0c3122347a71a9": {
     "model_module": "@jupyter-widgets/base",
     "model_module_version": "1.2.0",
     "model_name": "LayoutModel",
     "state": {
      "_model_module": "@jupyter-widgets/base",
      "_model_module_version": "1.2.0",
      "_model_name": "LayoutModel",
      "_view_count": null,
      "_view_module": "@jupyter-widgets/base",
      "_view_module_version": "1.2.0",
      "_view_name": "LayoutView",
      "align_content": null,
      "align_items": null,
      "align_self": null,
      "border": null,
      "bottom": null,
      "display": null,
      "flex": null,
      "flex_flow": null,
      "grid_area": null,
      "grid_auto_columns": null,
      "grid_auto_flow": null,
      "grid_auto_rows": null,
      "grid_column": null,
      "grid_gap": null,
      "grid_row": null,
      "grid_template_areas": null,
      "grid_template_columns": null,
      "grid_template_rows": null,
      "height": null,
      "justify_content": null,
      "justify_items": null,
      "left": null,
      "margin": null,
      "max_height": null,
      "max_width": null,
      "min_height": null,
      "min_width": null,
      "object_fit": null,
      "object_position": null,
      "order": null,
      "overflow": null,
      "overflow_x": null,
      "overflow_y": null,
      "padding": null,
      "right": null,
      "top": null,
      "visibility": null,
      "width": null
     }
    },
    "c2ee6bf5a22c4212b8a1561806fd4e3d": {
     "model_module": "@jupyter-widgets/controls",
     "model_module_version": "1.5.0",
     "model_name": "ProgressStyleModel",
     "state": {
      "_model_module": "@jupyter-widgets/controls",
      "_model_module_version": "1.5.0",
      "_model_name": "ProgressStyleModel",
      "_view_count": null,
      "_view_module": "@jupyter-widgets/base",
      "_view_module_version": "1.2.0",
      "_view_name": "StyleView",
      "bar_color": null,
      "description_width": ""
     }
    },
    "d3f21c1443ba4ec1ad64a5d143598a19": {
     "model_module": "@jupyter-widgets/controls",
     "model_module_version": "1.5.0",
     "model_name": "DescriptionStyleModel",
     "state": {
      "_model_module": "@jupyter-widgets/controls",
      "_model_module_version": "1.5.0",
      "_model_name": "DescriptionStyleModel",
      "_view_count": null,
      "_view_module": "@jupyter-widgets/base",
      "_view_module_version": "1.2.0",
      "_view_name": "StyleView",
      "description_width": ""
     }
    },
    "f300fc24f7dc4156a362b9910af4d1fc": {
     "model_module": "@jupyter-widgets/controls",
     "model_module_version": "1.5.0",
     "model_name": "DescriptionStyleModel",
     "state": {
      "_model_module": "@jupyter-widgets/controls",
      "_model_module_version": "1.5.0",
      "_model_name": "DescriptionStyleModel",
      "_view_count": null,
      "_view_module": "@jupyter-widgets/base",
      "_view_module_version": "1.2.0",
      "_view_name": "StyleView",
      "description_width": ""
     }
    }
   }
  }
 },
 "nbformat": 4,
 "nbformat_minor": 4
}
