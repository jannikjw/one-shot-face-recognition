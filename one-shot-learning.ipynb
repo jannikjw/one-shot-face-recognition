{
 "cells": [
  {
   "cell_type": "markdown",
   "metadata": {
    "id": "9TwXdV7BHeoT",
    "tags": []
   },
   "source": [
    "## Install Packages"
   ]
  },
  {
   "cell_type": "code",
   "execution_count": 91,
   "metadata": {
    "id": "qaGV91DX1SIf"
   },
   "outputs": [],
   "source": [
    "import os\n",
    "from facenet_pytorch import MTCNN, InceptionResnetV1, training, fixed_image_standardization\n",
    "import torch\n",
    "from torch import optim\n",
    "from torch.optim.lr_scheduler import MultiStepLR\n",
    "from torch.utils.tensorboard import SummaryWriter\n",
    "from torch.utils.data import DataLoader, Dataset, SubsetRandomSampler, SequentialSampler\n",
    "from torchvision import datasets\n",
    "from sklearn.neighbors import KNeighborsClassifier\n",
    "from matplotlib import pyplot as plt\n",
    "import seaborn as sns\n",
    "import numpy as np\n",
    "import pandas as pd\n",
    "from tqdm import tqdm\n",
    "from PIL import Image\n",
    "from torchvision import transforms\n",
    "from sklearn.metrics import accuracy_score\n",
    "import src\n",
    "from src.utils.celeba_helper import CelebADataset, CelebAClassifier, save_file_names\n",
    "from importlib import reload\n",
    "\n",
    "workers = 0 if os.name == 'nt' else 2"
   ]
  },
  {
   "cell_type": "code",
   "execution_count": 92,
   "metadata": {},
   "outputs": [
    {
     "name": "stdout",
     "output_type": "stream",
     "text": [
      "Running on device: cuda:0\n"
     ]
    }
   ],
   "source": [
    "device = torch.device('cuda:0' if torch.cuda.is_available() else 'cpu')\n",
    "# device = torch.device('cpu')\n",
    "print('Running on device: {}'.format(device))\n",
    "nGPU = torch.cuda.device_count()"
   ]
  },
  {
   "cell_type": "markdown",
   "metadata": {
    "id": "w7Ta2e8wa3UM",
    "tags": []
   },
   "source": [
    "# Define CelebA Dataset and Loader"
   ]
  },
  {
   "cell_type": "code",
   "execution_count": 93,
   "metadata": {
    "id": "hkdQB_ZODfmw"
   },
   "outputs": [],
   "source": [
    "## Load the dataset\n",
    "# Path to directory with all the images\n",
    "img_folder = 'data/img_align_celeba'\n",
    "mapping_file = 'data/identity_CelebA.txt'"
   ]
  },
  {
   "cell_type": "code",
   "execution_count": 108,
   "metadata": {
    "id": "hkdQB_ZODfmw"
   },
   "outputs": [],
   "source": [
    "# Spatial size of training images, images are resized to this size.\n",
    "image_size = 160\n",
    "\n",
    "# Batch size during training\n",
    "batch_size = 32\n",
    "\n",
    "# Number of workers for the dataloader\n",
    "num_workers = nGPU * 4\n",
    "\n",
    "# Whether to put fetched data tensors to pinned memory\n",
    "pin_memory = True if device.type == 'cuda' else False"
   ]
  },
  {
   "cell_type": "code",
   "execution_count": 95,
   "metadata": {
    "id": "hkdQB_ZODfmw"
   },
   "outputs": [],
   "source": [
    "transform=transforms.Compose([\n",
    "    transforms.Resize(image_size),\n",
    "    transforms.ToTensor(),\n",
    "    fixed_image_standardization\n",
    "])\n",
    "\n",
    "# Load the dataset from file and apply transformations\n",
    "celeba_dataset = CelebADataset(img_folder, mapping_file, transform)"
   ]
  },
  {
   "cell_type": "code",
   "execution_count": 96,
   "metadata": {
    "id": "dP2V5_HTDaMt"
   },
   "outputs": [],
   "source": [
    "## Create a dataloader\n",
    "celeba_dataloader = DataLoader(celeba_dataset,  # type: ignore\n",
    "                        batch_size=batch_size,\n",
    "                        num_workers=num_workers,\n",
    "                        pin_memory=pin_memory,\n",
    "                        shuffle=False)"
   ]
  },
  {
   "cell_type": "markdown",
   "metadata": {
    "id": "gU46F-JyF2PA",
    "tags": []
   },
   "source": [
    "# Setup FaceNet"
   ]
  },
  {
   "cell_type": "code",
   "execution_count": 97,
   "metadata": {
    "id": "-4xtVzckHtgP"
   },
   "outputs": [],
   "source": [
    "mtcnn = MTCNN(\n",
    "    image_size=image_size, margin=0, min_face_size=20,\n",
    "    thresholds=[0.6, 0.7, 0.7], factor=0.709, post_process=True, keep_all=False,\n",
    "    device=device\n",
    ")\n",
    "\n",
    "model = InceptionResnetV1(pretrained='vggface2').eval().to(device)"
   ]
  },
  {
   "cell_type": "code",
   "execution_count": 98,
   "metadata": {
    "id": "eoM1GqEBs3IG"
   },
   "outputs": [],
   "source": [
    "classifier = CelebAClassifier(celeba_dataloader, detection_model=mtcnn, embedding_model=model)"
   ]
  },
  {
   "cell_type": "markdown",
   "metadata": {
    "id": "888SZ_q2D6um",
    "tags": []
   },
   "source": [
    "# One-Shot Learning\n"
   ]
  },
  {
   "cell_type": "markdown",
   "metadata": {
    "id": "hBJRHcdjEAWa"
   },
   "source": [
    "## Load Dataset"
   ]
  },
  {
   "cell_type": "markdown",
   "metadata": {},
   "source": [
    "## Select Files"
   ]
  },
  {
   "cell_type": "code",
   "execution_count": 99,
   "metadata": {
    "id": "CYXmn3XQtJAm"
   },
   "outputs": [],
   "source": [
    "# Select train files\n",
    "file_label_mapping = celeba_dataset.get_file_label_mapping()\n",
    "first_file_for_each_person_df = file_label_mapping.sort_values(by='person_id').groupby('person_id').agg(['min', 'count'])\n",
    "train_files = np.sort(first_file_for_each_person_df[first_file_for_each_person_df['file_name']['count'] > 1]['file_name']['min'].values)"
   ]
  },
  {
   "cell_type": "code",
   "execution_count": 100,
   "metadata": {
    "id": "v1YUbSyeFiwH"
   },
   "outputs": [],
   "source": [
    "# Select test files\n",
    "second_file_for_each_person_df = file_label_mapping[~file_label_mapping['file_name'].isin(first_file_for_each_person_df['file_name']['min'])].sort_values(by='person_id').groupby('person_id').agg(['min', 'count'])\n",
    "test_files = np.sort(second_file_for_each_person_df[second_file_for_each_person_df['file_name']['count'] >= 1]['file_name']['min'].values)"
   ]
  },
  {
   "cell_type": "markdown",
   "metadata": {},
   "source": [
    "The following cells, each might take longer."
   ]
  },
  {
   "cell_type": "code",
   "execution_count": 65,
   "metadata": {
    "id": "OzGjQxGUO_bt"
   },
   "outputs": [
    {
     "ename": "KeyboardInterrupt",
     "evalue": "",
     "output_type": "error",
     "traceback": [
      "\u001b[1;31m---------------------------------------------------------------------------\u001b[0m",
      "\u001b[1;31mKeyboardInterrupt\u001b[0m                         Traceback (most recent call last)",
      "\u001b[1;32m<ipython-input-65-dcfeee66b71d>\u001b[0m in \u001b[0;36m<module>\u001b[1;34m\u001b[0m\n\u001b[0;32m      1\u001b[0m \u001b[1;32mfor\u001b[0m \u001b[0msimilarity_metric\u001b[0m \u001b[1;32min\u001b[0m \u001b[1;33m[\u001b[0m\u001b[1;34m'norm_2'\u001b[0m\u001b[1;33m,\u001b[0m \u001b[1;34m'norm_2_squared'\u001b[0m\u001b[1;33m,\u001b[0m \u001b[1;34m'cosine_similarity'\u001b[0m\u001b[1;33m]\u001b[0m\u001b[1;33m:\u001b[0m\u001b[1;33m\u001b[0m\u001b[1;33m\u001b[0m\u001b[0m\n\u001b[1;32m----> 2\u001b[1;33m     \u001b[0mtest_predictions\u001b[0m\u001b[1;33m,\u001b[0m \u001b[0mtest_predictions_files\u001b[0m \u001b[1;33m=\u001b[0m \u001b[0mclassifier\u001b[0m\u001b[1;33m.\u001b[0m\u001b[0mpredict\u001b[0m\u001b[1;33m(\u001b[0m\u001b[0mtest_embeddings\u001b[0m\u001b[1;33m,\u001b[0m \u001b[0mtrain_embeddings\u001b[0m\u001b[1;33m,\u001b[0m \u001b[0mtrain_face_file_names\u001b[0m\u001b[1;33m,\u001b[0m \u001b[0msimilarity_metric\u001b[0m\u001b[1;33m)\u001b[0m\u001b[1;33m\u001b[0m\u001b[1;33m\u001b[0m\u001b[0m\n\u001b[0m\u001b[0;32m      3\u001b[0m     \u001b[0maccuracy\u001b[0m \u001b[1;33m=\u001b[0m \u001b[0maccuracy_score\u001b[0m\u001b[1;33m(\u001b[0m\u001b[0mtest_labels\u001b[0m\u001b[1;33m,\u001b[0m \u001b[0mtest_predictions\u001b[0m\u001b[1;33m)\u001b[0m\u001b[1;33m\u001b[0m\u001b[1;33m\u001b[0m\u001b[0m\n\u001b[0;32m      4\u001b[0m     \u001b[0mprint\u001b[0m\u001b[1;33m(\u001b[0m\u001b[1;34mf'Accuracy - {similarity_metric}: {np.round(accuracy, 4)}'\u001b[0m\u001b[1;33m)\u001b[0m\u001b[1;33m\u001b[0m\u001b[1;33m\u001b[0m\u001b[0m\n",
      "\u001b[1;32mc:\\Users\\Jannik\\Documents\\one-shot-face-recognition\\src\\utils\\celeba_helper.py\u001b[0m in \u001b[0;36mpredict\u001b[1;34m(self, test_embeddings, train_embeddings, anchor_file_names, function)\u001b[0m\n\u001b[0;32m    107\u001b[0m         \u001b[0mclosest_image_file_name\u001b[0m \u001b[1;33m=\u001b[0m \u001b[1;34m\"\"\u001b[0m\u001b[1;33m\u001b[0m\u001b[1;33m\u001b[0m\u001b[0m\n\u001b[0;32m    108\u001b[0m \u001b[1;33m\u001b[0m\u001b[0m\n\u001b[1;32m--> 109\u001b[1;33m         \u001b[1;32mfor\u001b[0m \u001b[0mtest_embedding\u001b[0m \u001b[1;32min\u001b[0m \u001b[0mtest_embeddings\u001b[0m\u001b[1;33m:\u001b[0m\u001b[1;33m\u001b[0m\u001b[1;33m\u001b[0m\u001b[0m\n\u001b[0m\u001b[0;32m    110\u001b[0m             \u001b[1;32mif\u001b[0m \u001b[0mfunction\u001b[0m \u001b[1;33m==\u001b[0m \u001b[1;34m\"cosine_similarity\"\u001b[0m\u001b[1;33m:\u001b[0m\u001b[1;33m\u001b[0m\u001b[1;33m\u001b[0m\u001b[0m\n\u001b[0;32m    111\u001b[0m                 closest_image_file_name = anchor_file_names[\n",
      "\u001b[1;32mc:\\Users\\Jannik\\Documents\\one-shot-face-recognition\\src\\utils\\similarity_functions.py\u001b[0m in \u001b[0;36mmin_norm_2\u001b[1;34m(test_value, trained_examples)\u001b[0m\n\u001b[0;32m      3\u001b[0m \u001b[1;33m\u001b[0m\u001b[0m\n\u001b[0;32m      4\u001b[0m \u001b[1;32mdef\u001b[0m \u001b[0mmin_norm_2\u001b[0m\u001b[1;33m(\u001b[0m\u001b[0mtest_value\u001b[0m\u001b[1;33m,\u001b[0m \u001b[0mtrained_examples\u001b[0m\u001b[1;33m)\u001b[0m\u001b[1;33m:\u001b[0m\u001b[1;33m\u001b[0m\u001b[1;33m\u001b[0m\u001b[0m\n\u001b[1;32m----> 5\u001b[1;33m     \u001b[0mdists\u001b[0m \u001b[1;33m=\u001b[0m \u001b[1;33m[\u001b[0m\u001b[1;33m(\u001b[0m\u001b[0mtest_value\u001b[0m \u001b[1;33m-\u001b[0m \u001b[0manchor\u001b[0m\u001b[1;33m)\u001b[0m\u001b[1;33m.\u001b[0m\u001b[0mnorm\u001b[0m\u001b[1;33m(\u001b[0m\u001b[1;33m)\u001b[0m\u001b[1;33m.\u001b[0m\u001b[0mitem\u001b[0m\u001b[1;33m(\u001b[0m\u001b[1;33m)\u001b[0m \u001b[1;32mfor\u001b[0m \u001b[0manchor\u001b[0m \u001b[1;32min\u001b[0m \u001b[0mtrained_examples\u001b[0m\u001b[1;33m]\u001b[0m\u001b[1;33m\u001b[0m\u001b[1;33m\u001b[0m\u001b[0m\n\u001b[0m\u001b[0;32m      6\u001b[0m     \u001b[1;32mreturn\u001b[0m \u001b[0mnp\u001b[0m\u001b[1;33m.\u001b[0m\u001b[0margmin\u001b[0m\u001b[1;33m(\u001b[0m\u001b[0mdists\u001b[0m\u001b[1;33m)\u001b[0m\u001b[1;33m\u001b[0m\u001b[1;33m\u001b[0m\u001b[0m\n\u001b[0;32m      7\u001b[0m \u001b[1;33m\u001b[0m\u001b[0m\n",
      "\u001b[1;32mc:\\Users\\Jannik\\Documents\\one-shot-face-recognition\\src\\utils\\similarity_functions.py\u001b[0m in \u001b[0;36m<listcomp>\u001b[1;34m(.0)\u001b[0m\n\u001b[0;32m      3\u001b[0m \u001b[1;33m\u001b[0m\u001b[0m\n\u001b[0;32m      4\u001b[0m \u001b[1;32mdef\u001b[0m \u001b[0mmin_norm_2\u001b[0m\u001b[1;33m(\u001b[0m\u001b[0mtest_value\u001b[0m\u001b[1;33m,\u001b[0m \u001b[0mtrained_examples\u001b[0m\u001b[1;33m)\u001b[0m\u001b[1;33m:\u001b[0m\u001b[1;33m\u001b[0m\u001b[1;33m\u001b[0m\u001b[0m\n\u001b[1;32m----> 5\u001b[1;33m     \u001b[0mdists\u001b[0m \u001b[1;33m=\u001b[0m \u001b[1;33m[\u001b[0m\u001b[1;33m(\u001b[0m\u001b[0mtest_value\u001b[0m \u001b[1;33m-\u001b[0m \u001b[0manchor\u001b[0m\u001b[1;33m)\u001b[0m\u001b[1;33m.\u001b[0m\u001b[0mnorm\u001b[0m\u001b[1;33m(\u001b[0m\u001b[1;33m)\u001b[0m\u001b[1;33m.\u001b[0m\u001b[0mitem\u001b[0m\u001b[1;33m(\u001b[0m\u001b[1;33m)\u001b[0m \u001b[1;32mfor\u001b[0m \u001b[0manchor\u001b[0m \u001b[1;32min\u001b[0m \u001b[0mtrained_examples\u001b[0m\u001b[1;33m]\u001b[0m\u001b[1;33m\u001b[0m\u001b[1;33m\u001b[0m\u001b[0m\n\u001b[0m\u001b[0;32m      6\u001b[0m     \u001b[1;32mreturn\u001b[0m \u001b[0mnp\u001b[0m\u001b[1;33m.\u001b[0m\u001b[0margmin\u001b[0m\u001b[1;33m(\u001b[0m\u001b[0mdists\u001b[0m\u001b[1;33m)\u001b[0m\u001b[1;33m\u001b[0m\u001b[1;33m\u001b[0m\u001b[0m\n\u001b[0;32m      7\u001b[0m \u001b[1;33m\u001b[0m\u001b[0m\n",
      "\u001b[1;31mKeyboardInterrupt\u001b[0m: "
     ]
    }
   ],
   "source": [
    "for similarity_metric in ['norm_2', 'norm_2_squared', 'cosine_similarity']:\n",
    "    test_predictions, test_predictions_files = classifier.predict(test_embeddings, train_embeddings, train_face_file_names, similarity_metric)\n",
    "    accuracy = accuracy_score(test_labels, test_predictions)\n",
    "    print(f'Accuracy - {similarity_metric}: {np.round(accuracy, 4)}')"
   ]
  },
  {
   "cell_type": "code",
   "execution_count": null,
   "metadata": {
    "id": "yoJ75E_aQ0T2"
   },
   "outputs": [
    {
     "name": "stdout",
     "output_type": "stream",
     "text": [
      "[LibSVM]CPU times: user 5min 57s, sys: 8min 53s, total: 14min 50s\n",
      "Wall time: 14min 52s\n"
     ]
    },
    {
     "data": {
      "text/plain": [
       "SVC(kernel='linear', verbose=True)"
      ]
     },
     "execution_count": 12,
     "metadata": {},
     "output_type": "execute_result"
    }
   ],
   "source": [
    "%%time\n",
    "\n",
    "# fit Support Vector Classifier\n",
    "from sklearn.svm import SVC\n",
    "model = SVC(kernel='linear', verbose=True)\n",
    "model.fit(train_embeddings, train_labels)"
   ]
  },
  {
   "cell_type": "code",
   "execution_count": null,
   "metadata": {},
   "outputs": [
    {
     "name": "stdout",
     "output_type": "stream",
     "text": [
      "Accuracy: test = 69.546%\n",
      "CPU times: user 2h 32min 4s, sys: 11min 53s, total: 2h 43min 57s\n",
      "Wall time: 2h 43min 54s\n"
     ]
    }
   ],
   "source": [
    "%%time\n",
    "# train_predictions = model.predict(train_embeddings)\n",
    "test_predictions = model.predict(test_embeddings)\n",
    "# train_predictions = model.predict(train_embeddings)\n",
    "\n",
    "# score_train = accuracy_score(train_labels, train_predictions)\n",
    "score_test = accuracy_score(test_labels, test_predictions)\n",
    "# score_train = accuracy_score(train_labels, train_predictions)\n",
    "\n",
    "# print(f'Accuracy: train = {np.round(score_train*100, 3)}%')\n",
    "print(f'Accuracy: test = {np.round(score_test*100, 3)}%')"
   ]
  },
  {
   "cell_type": "code",
   "execution_count": null,
   "metadata": {},
   "outputs": [],
   "source": [
    "%%time\n",
    "\n",
    "from sklearn.neighbors import KNeighborsClassifier\n",
    "\n",
    "knn = KNeighborsClassifier(n_neighbors=1)\n",
    "\n",
    "knn.fit(train_embeddings, train_labels)\n",
    "\n",
    "knn.score(test_embeddings, test_labels)"
   ]
  },
  {
   "cell_type": "markdown",
   "metadata": {},
   "source": [
    "# Predicting"
   ]
  },
  {
   "cell_type": "code",
   "execution_count": 101,
   "metadata": {},
   "outputs": [],
   "source": [
    "def get_embeddings(model, dataloader, dataset_size, batch_size):\n",
    "    model.eval()\n",
    "    embeddings = torch.tensor([])\n",
    "    \n",
    "    for idx, batch in tqdm(enumerate(dataloader), total=int(dataset_size/batch_size)):\n",
    "        imgs, batch_labels = batch\n",
    "        batch_embeddings = model(imgs.to(device)).detach().cpu()\n",
    "        \n",
    "        if not embeddings.numel():\n",
    "            embeddings = batch_embeddings\n",
    "            labels = batch_labels\n",
    "        else:\n",
    "            embeddings = torch.cat([embeddings, batch_embeddings])\n",
    "            labels = torch.cat([labels, batch_labels])\n",
    "    \n",
    "    return embeddings, labels"
   ]
  },
  {
   "cell_type": "code",
   "execution_count": 102,
   "metadata": {},
   "outputs": [],
   "source": [
    "train_inds = [int(elem[:6])-1 for elem in train_files] #convert file names to indices that start at \"0\"\n",
    "test_inds = [int(elem[:6])-1 for elem in test_files] #convert file names to indices that start at \"0\"\n",
    "\n",
    "np.random.shuffle(test_inds)\n",
    "val_inds = test_inds[:200] #convert file names to indices that start at \"0\"\n",
    "\n",
    "train_loader = DataLoader(\n",
    "    celeba_dataset,\n",
    "    num_workers=workers,\n",
    "    batch_size=batch_size,\n",
    "    sampler=SubsetRandomSampler(train_inds)\n",
    ")\n",
    "\n",
    "val_loader = DataLoader(\n",
    "    celeba_dataset,\n",
    "    num_workers=workers,\n",
    "    batch_size=batch_size,\n",
    "    sampler=SubsetRandomSampler(val_inds)\n",
    ")\n",
    "\n",
    "test_loader = DataLoader(\n",
    "    celeba_dataset,\n",
    "    num_workers=workers,\n",
    "    batch_size=batch_size,\n",
    "    sampler=SubsetRandomSampler(test_inds)\n",
    ")"
   ]
  },
  {
   "cell_type": "markdown",
   "metadata": {},
   "source": [
    "## Run Pre-trained Model"
   ]
  },
  {
   "cell_type": "code",
   "execution_count": 83,
   "metadata": {},
   "outputs": [],
   "source": [
    "model = InceptionResnetV1(\n",
    "    pretrained='vggface2'\n",
    ").eval().to(device)"
   ]
  },
  {
   "cell_type": "code",
   "execution_count": null,
   "metadata": {},
   "outputs": [],
   "source": [
    "embeddings_path = 'pytorch_objects/train_embeddings_pretrained_all_1img.pickle'\n",
    "labels_path = 'pytorch_objects/train_labels_pretrained_all_1img'\n",
    "\n",
    "if not os.path.exists(embeddings_path) or not os.path.exists(labels_path):\n",
    "    train_embeddings, train_labels = get_embeddings(model, train_loader, len(train_files), batch_size)\n",
    "    torch.save(train_embeddings, embeddings_path)\n",
    "    save_file_names(train_labels, labels_path)\n",
    "else:\n",
    "    train_embeddings = torch.load(embeddings_path)\n",
    "    train_labels = []\n",
    "    with open(labels_path, 'r') as fp:\n",
    "        for line in fp:\n",
    "            x = line[:-1]\n",
    "            # add current item to the list\n",
    "            train_labels.append(x)\n",
    "\n",
    "test_embeddings, test_labels = get_embeddings(model, test_loader, len(test_files), batch_size)"
   ]
  },
  {
   "cell_type": "code",
   "execution_count": 27,
   "metadata": {},
   "outputs": [
    {
     "name": "stdout",
     "output_type": "stream",
     "text": [
      "Pre-trained model: Accuracy = 0.0.\n",
      "CPU times: user 8.85 s, sys: 2.29 s, total: 11.1 s\n",
      "Wall time: 3.35 s\n"
     ]
    },
    {
     "name": "stderr",
     "output_type": "stream",
     "text": [
      "/opt/conda/envs/one-shot-face-recognition/lib/python3.6/site-packages/sklearn/metrics/_classification.py:208: FutureWarning: elementwise comparison failed; returning scalar instead, but in the future will perform elementwise comparison\n",
      "  score = y_true == y_pred\n"
     ]
    }
   ],
   "source": [
    "%%time\n",
    "\n",
    "knn = KNeighborsClassifier(n_neighbors=1)\n",
    "knn.fit(train_embeddings, train_labels)\n",
    "score = knn.score(test_embeddings, test_labels)\n",
    "\n",
    "print(f'Pre-trained model: Accuracy = {score}.')"
   ]
  },
  {
   "cell_type": "markdown",
   "metadata": {},
   "source": [
    "## Fine-tune Model"
   ]
  },
  {
   "cell_type": "code",
   "execution_count": 110,
   "metadata": {},
   "outputs": [],
   "source": [
    "def load_model(model, model_path:str):    \n",
    "    model.load_state_dict(torch.load(model_path))\n",
    "    model.eval()\n",
    "    return model"
   ]
  },
  {
   "cell_type": "code",
   "execution_count": 114,
   "metadata": {},
   "outputs": [],
   "source": [
    "def set_parameter_requires_grad(model, feature_extracting):\n",
    "    if feature_extracting:\n",
    "        for param in model.parameters():\n",
    "            param.requires_grad = False\n",
    "\n",
    "            \n",
    "def finetune_model(model, loss_fn=torch.nn.CrossEntropyLoss(), metrics={}, epochs:int=10, lr:float=0.001):   \n",
    "    # Make use of multiple GPUs if available\n",
    "    CUDA = torch.cuda.is_available()\n",
    "    nGPU = torch.cuda.device_count()\n",
    "\n",
    "    if CUDA:\n",
    "        model = model.cuda()\n",
    "        if nGPU > 1:\n",
    "            model = nn.DataParallel(model)\n",
    "    \n",
    "    # Only fine-tune the logits layer\n",
    "    logits = model.module.logits.parameters() if nGPU > 1 else model.logits.parameters()\n",
    "    optimizer = optim.Adam(logits, lr=lr)\n",
    "    \n",
    "    scheduler = MultiStepLR(optimizer, [5, 10])\n",
    "\n",
    "    writer = SummaryWriter()\n",
    "    writer.iteration, writer.interval = 0, 10\n",
    "    \n",
    "    # set_parameter_requires_grad(model=model, feature_extracting=True)\n",
    "    # model.logits.requires_grad_(True)\n",
    "\n",
    "    for epoch in range(epochs):\n",
    "        print('\\nEpoch {}/{}'.format(epoch + 1, epochs))\n",
    "        print('-' * 10)\n",
    "\n",
    "        model.train()\n",
    "        training.pass_epoch(\n",
    "            model, loss_fn, train_loader, optimizer, scheduler,\n",
    "            batch_metrics=metrics, show_running=True, device=device,\n",
    "            writer=writer\n",
    "        )\n",
    "        \n",
    "        model.eval()\n",
    "        training.pass_epoch(\n",
    "            model, loss_fn, val_loader,\n",
    "            batch_metrics=metrics, show_running=True, device=device,\n",
    "            writer=writer\n",
    "        )\n",
    "\n",
    "    writer.close()\n",
    "    \n",
    "    return model"
   ]
  },
  {
   "cell_type": "code",
   "execution_count": 115,
   "metadata": {},
   "outputs": [],
   "source": [
    "def test(dataloader, model, loss_fn):\n",
    "    size = len(dataloader.dataset)\n",
    "    num_batches = len(dataloader)\n",
    "    predictions = torch.tensor([])\n",
    "    labels = torch.tensor([])\n",
    "    \n",
    "    model.eval()\n",
    "    model.classify = True\n",
    "    test_loss, correct = 0, 0\n",
    "    \n",
    "    with torch.no_grad():\n",
    "        idx = 0\n",
    "        for X, y in tqdm(dataloader, total=num_batches):\n",
    "            idx += 1\n",
    "            X, y = X.to(device), y.to(device)\n",
    "            pred = model(X)\n",
    "            \n",
    "            if not predictions.numel():\n",
    "                predictions = pred\n",
    "                labels = y\n",
    "            else:\n",
    "                predictions = torch.cat([predictions, pred])\n",
    "                labels = torch.cat([labels, y])\n",
    "            test_loss += loss_fn(pred, y).item()\n",
    "            correct += (pred.argmax(1) == y).type(torch.float).sum().item()\n",
    "            \n",
    "    test_loss /= num_batches\n",
    "    correct /= size\n",
    "    print(f\"Test Error: \\n Accuracy: {(100*correct):>0.1f}%, Avg loss: {test_loss:>8f} \\n\")\n",
    "    return predictions, labels"
   ]
  },
  {
   "cell_type": "code",
   "execution_count": 116,
   "metadata": {},
   "outputs": [
    {
     "name": "stdout",
     "output_type": "stream",
     "text": [
      "\n",
      "Epoch 1/20\n",
      "----------\n",
      "Train |   159/159  | loss:    9.3846 | fps:   55.5395 | acc:    0.0000   \n",
      "Valid |     2/2    | loss:    8.9578 | fps:   77.3039 | acc:    0.0078   \n",
      "\n",
      "Epoch 2/20\n",
      "----------\n",
      "Train |   159/159  | loss:    7.9492 | fps:   55.8236 | acc:    0.0183   \n",
      "Valid |     2/2    | loss:    8.5705 | fps:   79.5687 | acc:    0.0139   \n",
      "\n",
      "Epoch 3/20\n",
      "----------\n",
      "Train |    80/159  | loss:    6.3300 | fps:   55.7178 | acc:    0.1385   "
     ]
    },
    {
     "name": "stderr",
     "output_type": "stream",
     "text": [
      "Exception ignored in: <bound method _MultiProcessingDataLoaderIter.__del__ of <torch.utils.data.dataloader._MultiProcessingDataLoaderIter object at 0x7f847b161710>>\n",
      "Traceback (most recent call last):\n",
      "  File \"/opt/conda/envs/one-shot-face-recognition/lib/python3.6/site-packages/torch/utils/data/dataloader.py\", line 1328, in __del__\n",
      "    self._shutdown_workers()\n",
      "  File \"/opt/conda/envs/one-shot-face-recognition/lib/python3.6/site-packages/torch/utils/data/dataloader.py\", line 1320, in _shutdown_workers\n",
      "    if w.is_alive():\n",
      "  File \"/opt/conda/envs/one-shot-face-recognition/lib/python3.6/multiprocessing/process.py\", line 134, in is_alive\n",
      "    assert self._parent_pid == os.getpid(), 'can only test a child process'\n",
      "AssertionError: can only test a child process\n"
     ]
    },
    {
     "name": "stdout",
     "output_type": "stream",
     "text": [
      "Train |    81/159  | loss:    6.3353 | fps:   55.7254 | acc:    0.1372   "
     ]
    },
    {
     "name": "stderr",
     "output_type": "stream",
     "text": [
      "Exception ignored in: <bound method _MultiProcessingDataLoaderIter.__del__ of <torch.utils.data.dataloader._MultiProcessingDataLoaderIter object at 0x7f847b161710>>\n",
      "Traceback (most recent call last):\n",
      "  File \"/opt/conda/envs/one-shot-face-recognition/lib/python3.6/site-packages/torch/utils/data/dataloader.py\", line 1328, in __del__\n",
      "    self._shutdown_workers()\n",
      "  File \"/opt/conda/envs/one-shot-face-recognition/lib/python3.6/site-packages/torch/utils/data/dataloader.py\", line 1320, in _shutdown_workers\n",
      "    if w.is_alive():\n",
      "  File \"/opt/conda/envs/one-shot-face-recognition/lib/python3.6/multiprocessing/process.py\", line 134, in is_alive\n",
      "    assert self._parent_pid == os.getpid(), 'can only test a child process'\n",
      "AssertionError: can only test a child process\n"
     ]
    },
    {
     "name": "stdout",
     "output_type": "stream",
     "text": [
      "Train |   159/159  | loss:    6.5606 | fps:   55.7557 | acc:    0.0780   \n",
      "Valid |     2/2    | loss:    8.4068 | fps:   78.6381 | acc:    0.0278   \n",
      "\n",
      "Epoch 4/20\n",
      "----------\n",
      "Train |   159/159  | loss:    5.3797 | fps:   55.7625 | acc:    0.1953   \n",
      "Valid |     2/2    | loss:    8.3897 | fps:   78.8872 | acc:    0.0295   \n",
      "\n",
      "Epoch 5/20\n",
      "----------\n",
      "Train |   159/159  | loss:    4.4122 | fps:   55.6962 | acc:    0.3488   \n",
      "Valid |     2/2    | loss:    8.4311 | fps:   78.8398 | acc:    0.0356   \n",
      "\n",
      "Epoch 6/20\n",
      "----------\n",
      "Train |   159/159  | loss:    3.1120 | fps:   55.7081 | acc:    0.7476   \n",
      "Valid |     2/2    | loss:    8.3716 | fps:   79.0073 | acc:    0.0295   \n",
      "\n",
      "Epoch 7/20\n",
      "----------\n",
      "Train |   159/159  | loss:    3.0095 | fps:   55.8299 | acc:    0.7679   \n",
      "Valid |     2/2    | loss:    8.4862 | fps:   79.0273 | acc:    0.0295   \n",
      "\n",
      "Epoch 8/20\n",
      "----------\n",
      "Train |   159/159  | loss:    2.9118 | fps:   55.7379 | acc:    0.7937   \n",
      "Valid |     2/2    | loss:    8.4357 | fps:   78.7237 | acc:    0.0356   \n",
      "\n",
      "Epoch 9/20\n",
      "----------\n",
      "Train |   159/159  | loss:    2.8464 | fps:   55.7087 | acc:    0.8082   \n",
      "Valid |     2/2    | loss:    8.4752 | fps:   78.7189 | acc:    0.0295   \n",
      "\n",
      "Epoch 10/20\n",
      "----------\n",
      "Train |   159/159  | loss:    2.7701 | fps:   55.8201 | acc:    0.8204   \n",
      "Valid |     2/2    | loss:    8.3733 | fps:   78.5017 | acc:    0.0295   \n",
      "\n",
      "Epoch 11/20\n",
      "----------\n",
      "Train |   159/159  | loss:    2.6255 | fps:   55.7567 | acc:    0.8506   \n",
      "Valid |     2/2    | loss:    8.4046 | fps:   79.2724 | acc:    0.0234   \n",
      "\n",
      "Epoch 12/20\n",
      "----------\n",
      "Train |   159/159  | loss:    2.6380 | fps:   55.6319 | acc:    0.8461   \n",
      "Valid |     2/2    | loss:    8.3819 | fps:   78.3834 | acc:    0.0295   \n",
      "\n",
      "Epoch 13/20\n",
      "----------\n",
      "Train |   159/159  | loss:    2.6466 | fps:   55.6730 | acc:    0.8424   \n",
      "Valid |     2/2    | loss:    8.2809 | fps:   78.9750 | acc:    0.0234   \n",
      "\n",
      "Epoch 14/20\n",
      "----------\n",
      "Train |   159/159  | loss:    2.6281 | fps:   55.7807 | acc:    0.8453   \n",
      "Valid |     2/2    | loss:    8.4535 | fps:   79.2661 | acc:    0.0295   \n",
      "\n",
      "Epoch 15/20\n",
      "----------\n",
      "Train |   159/159  | loss:    2.5923 | fps:   55.6314 | acc:    0.8536   \n",
      "Valid |     2/2    | loss:    8.3230 | fps:   79.2102 | acc:    0.0295   \n",
      "\n",
      "Epoch 16/20\n",
      "----------\n",
      "Train |   159/159  | loss:    2.6004 | fps:   55.7205 | acc:    0.8440   \n",
      "Valid |     2/2    | loss:    8.3544 | fps:   79.7050 | acc:    0.0234   \n",
      "\n",
      "Epoch 17/20\n",
      "----------\n",
      "Train |   159/159  | loss:    2.5865 | fps:   55.7373 | acc:    0.8540   \n",
      "Valid |     2/2    | loss:    8.4182 | fps:   79.4580 | acc:    0.0234   \n",
      "\n",
      "Epoch 18/20\n",
      "----------\n",
      "Train |   159/159  | loss:    2.5837 | fps:   55.8302 | acc:    0.8483   \n",
      "Valid |     2/2    | loss:    8.4412 | fps:   79.2557 | acc:    0.0295   \n",
      "\n",
      "Epoch 19/20\n",
      "----------\n",
      "Train |   159/159  | loss:    2.5788 | fps:   55.8331 | acc:    0.8448   \n",
      "Valid |     2/2    | loss:    8.3197 | fps:   78.9222 | acc:    0.0356   \n",
      "\n",
      "Epoch 20/20\n",
      "----------\n",
      "Train |   159/159  | loss:    2.5582 | fps:   55.8827 | acc:    0.8598   \n",
      "Valid |     2/2    | loss:    8.4652 | fps:   79.1293 | acc:    0.0234   \n"
     ]
    }
   ],
   "source": [
    "epochs = 20\n",
    "\n",
    "metrics = {\n",
    "    'fps': training.BatchTimer(),\n",
    "    'acc': training.accuracy\n",
    "}\n",
    "\n",
    "model_path = f'pytorch_objects/resnet_finetuned_celeba_{epochs}_epochs.pth'\n",
    "\n",
    "if os.path.exists(model_path):\n",
    "    model = InceptionResnetV1(\n",
    "        classify=True,\n",
    "        num_classes=len(pd.unique(file_label_mapping['person_id']))\n",
    "    ).to(device)\n",
    "    model = load_model(model, model_path)\n",
    "else:\n",
    "    model = InceptionResnetV1(\n",
    "        classify=True,\n",
    "        pretrained='vggface2',\n",
    "        num_classes=len(pd.unique(file_label_mapping['person_id']))\n",
    "    ).to(device)\n",
    "    \n",
    "    model = finetune_model(model, loss_fn=torch.nn.CrossEntropyLoss(), metrics=metrics, epochs=epochs, lr=0.001)\n",
    "    torch.save(model.state_dict(), f'pytorch_objects/resnet_finetuned_celeba_{epochs}_epochs.pth')"
   ]
  },
  {
   "cell_type": "code",
   "execution_count": 118,
   "metadata": {},
   "outputs": [
    {
     "name": "stderr",
     "output_type": "stream",
     "text": [
      " 50%|█████     | 159/316 [01:31<01:30,  1.74it/s]\n",
      " 50%|█████     | 159/316 [01:30<01:29,  1.75it/s]\n"
     ]
    }
   ],
   "source": [
    "model.classify = False\n",
    "train_embeddings, train_labels = get_embeddings(model, train_loader, len(train_files), batch_size)\n",
    "test_embeddings, test_labels = get_embeddings(model, test_loader, len(test_files), batch_size)"
   ]
  },
  {
   "cell_type": "code",
   "execution_count": 119,
   "metadata": {},
   "outputs": [
    {
     "name": "stderr",
     "output_type": "stream",
     "text": [
      "100%|██████████| 159/159 [01:31<00:00,  1.74it/s]"
     ]
    },
    {
     "name": "stdout",
     "output_type": "stream",
     "text": [
      "Test Error: \n",
      " Accuracy: 0.2%, Avg loss: 8.176490 \n",
      "\n"
     ]
    },
    {
     "name": "stderr",
     "output_type": "stream",
     "text": [
      "\n"
     ]
    }
   ],
   "source": [
    "test_predictions, test_labels = test(test_loader, model, loss_fn)"
   ]
  },
  {
   "cell_type": "code",
   "execution_count": 122,
   "metadata": {},
   "outputs": [
    {
     "name": "stdout",
     "output_type": "stream",
     "text": [
      "Fine-tuned model: Accuracy = 9.868745682423764e-05.\n"
     ]
    }
   ],
   "source": [
    "knn = KNeighborsClassifier(n_neighbors=1)\n",
    "\n",
    "\n",
    "test_embeddings = test_embeddings.cpu()\n",
    "test_labels = test_labels.cpu()\n",
    "\n",
    "knn.fit(train_embeddings, train_labels)\n",
    "score = knn.score(test_embeddings, test_labels)\n",
    "\n",
    "print(f'Fine-tuned model: Accuracy = {score}.')"
   ]
  },
  {
   "cell_type": "markdown",
   "metadata": {},
   "source": [
    "# Conclusion\n",
    "Fine-tuning FaceNet on a one-shot dataset does not yield desirable results, even after hyperparameter tuning. The model quickly overfits and performs worse than the default FaceNet which achieves approx. $50\\%$ test accuracy on the One-Shot CelebA dataset."
   ]
  },
  {
   "cell_type": "code",
   "execution_count": 49,
   "metadata": {},
   "outputs": [
    {
     "data": {
      "text/html": [
       "\n",
       "      <iframe id=\"tensorboard-frame-ce4e56c2415cefbe\" width=\"100%\" height=\"800\" frameborder=\"0\">\n",
       "      </iframe>\n",
       "      <script>\n",
       "        (function() {\n",
       "          const frame = document.getElementById(\"tensorboard-frame-ce4e56c2415cefbe\");\n",
       "          const url = new URL(\"/proxy/6006/\", window.location);\n",
       "          const port = 0;\n",
       "          if (port) {\n",
       "            url.port = port;\n",
       "          }\n",
       "          frame.src = url;\n",
       "        })();\n",
       "      </script>\n",
       "    "
      ],
      "text/plain": [
       "<IPython.core.display.HTML object>"
      ]
     },
     "metadata": {},
     "output_type": "display_data"
    }
   ],
   "source": [
    "%reload_ext tensorboard\n",
    "%tensorboard --logdir runs"
   ]
  },
  {
   "cell_type": "code",
   "execution_count": null,
   "metadata": {},
   "outputs": [],
   "source": []
  }
 ],
 "metadata": {
  "accelerator": "GPU",
  "colab": {
   "collapsed_sections": [
    "9TwXdV7BHeoT",
    "k0mnB3l9Ha9D",
    "w7Ta2e8wa3UM",
    "gU46F-JyF2PA",
    "3JLywKFbopy9",
    "aEBA_FaWHpgY",
    "IJAT0dvwHfaa",
    "vqPiqddKE51v"
   ],
   "provenance": []
  },
  "kernelspec": {
   "display_name": "one-shot-face-recognition",
   "language": "python",
   "name": "one-shot-face-recognition"
  },
  "language_info": {
   "codemirror_mode": {
    "name": "ipython",
    "version": 3
   },
   "file_extension": ".py",
   "mimetype": "text/x-python",
   "name": "python",
   "nbconvert_exporter": "python",
   "pygments_lexer": "ipython3",
   "version": "3.6.9"
  },
  "vscode": {
   "interpreter": {
    "hash": "e9597514a15d9b9f9e00f05466d4e27587ef46450885503145645716a45da41a"
   }
  },
  "widgets": {
   "application/vnd.jupyter.widget-state+json": {
    "4f85a6f0f9324ea486123de2cbe30e8c": {
     "model_module": "@jupyter-widgets/controls",
     "model_module_version": "1.5.0",
     "model_name": "FloatProgressModel",
     "state": {
      "_dom_classes": [],
      "_model_module": "@jupyter-widgets/controls",
      "_model_module_version": "1.5.0",
      "_model_name": "FloatProgressModel",
      "_view_count": null,
      "_view_module": "@jupyter-widgets/controls",
      "_view_module_version": "1.5.0",
      "_view_name": "ProgressView",
      "bar_style": "success",
      "description": "",
      "description_tooltip": null,
      "layout": "IPY_MODEL_b34a69a6ae5b4d9cba0c3122347a71a9",
      "max": 111898327,
      "min": 0,
      "orientation": "horizontal",
      "style": "IPY_MODEL_c2ee6bf5a22c4212b8a1561806fd4e3d",
      "value": 111898327
     }
    },
    "59bde1c8a1b64a49ba27815343158bcb": {
     "model_module": "@jupyter-widgets/controls",
     "model_module_version": "1.5.0",
     "model_name": "HBoxModel",
     "state": {
      "_dom_classes": [],
      "_model_module": "@jupyter-widgets/controls",
      "_model_module_version": "1.5.0",
      "_model_name": "HBoxModel",
      "_view_count": null,
      "_view_module": "@jupyter-widgets/controls",
      "_view_module_version": "1.5.0",
      "_view_name": "HBoxView",
      "box_style": "",
      "children": [
       "IPY_MODEL_5c9fca3e08b64557bc1643b702584a3e",
       "IPY_MODEL_4f85a6f0f9324ea486123de2cbe30e8c",
       "IPY_MODEL_ac1c0e176aee4fc8b9aa118fdf969b62"
      ],
      "layout": "IPY_MODEL_82f4c9540ef54adf89c4df3a2498f5b0"
     }
    },
    "5c9fca3e08b64557bc1643b702584a3e": {
     "model_module": "@jupyter-widgets/controls",
     "model_module_version": "1.5.0",
     "model_name": "HTMLModel",
     "state": {
      "_dom_classes": [],
      "_model_module": "@jupyter-widgets/controls",
      "_model_module_version": "1.5.0",
      "_model_name": "HTMLModel",
      "_view_count": null,
      "_view_module": "@jupyter-widgets/controls",
      "_view_module_version": "1.5.0",
      "_view_name": "HTMLView",
      "description": "",
      "description_tooltip": null,
      "layout": "IPY_MODEL_7f03cdbcddb34eb7a802efa105484b73",
      "placeholder": "​",
      "style": "IPY_MODEL_f300fc24f7dc4156a362b9910af4d1fc",
      "value": "100%"
     }
    },
    "6de3e0fc1f76432f9544c2ae5c0766f0": {
     "model_module": "@jupyter-widgets/base",
     "model_module_version": "1.2.0",
     "model_name": "LayoutModel",
     "state": {
      "_model_module": "@jupyter-widgets/base",
      "_model_module_version": "1.2.0",
      "_model_name": "LayoutModel",
      "_view_count": null,
      "_view_module": "@jupyter-widgets/base",
      "_view_module_version": "1.2.0",
      "_view_name": "LayoutView",
      "align_content": null,
      "align_items": null,
      "align_self": null,
      "border": null,
      "bottom": null,
      "display": null,
      "flex": null,
      "flex_flow": null,
      "grid_area": null,
      "grid_auto_columns": null,
      "grid_auto_flow": null,
      "grid_auto_rows": null,
      "grid_column": null,
      "grid_gap": null,
      "grid_row": null,
      "grid_template_areas": null,
      "grid_template_columns": null,
      "grid_template_rows": null,
      "height": null,
      "justify_content": null,
      "justify_items": null,
      "left": null,
      "margin": null,
      "max_height": null,
      "max_width": null,
      "min_height": null,
      "min_width": null,
      "object_fit": null,
      "object_position": null,
      "order": null,
      "overflow": null,
      "overflow_x": null,
      "overflow_y": null,
      "padding": null,
      "right": null,
      "top": null,
      "visibility": null,
      "width": null
     }
    },
    "7f03cdbcddb34eb7a802efa105484b73": {
     "model_module": "@jupyter-widgets/base",
     "model_module_version": "1.2.0",
     "model_name": "LayoutModel",
     "state": {
      "_model_module": "@jupyter-widgets/base",
      "_model_module_version": "1.2.0",
      "_model_name": "LayoutModel",
      "_view_count": null,
      "_view_module": "@jupyter-widgets/base",
      "_view_module_version": "1.2.0",
      "_view_name": "LayoutView",
      "align_content": null,
      "align_items": null,
      "align_self": null,
      "border": null,
      "bottom": null,
      "display": null,
      "flex": null,
      "flex_flow": null,
      "grid_area": null,
      "grid_auto_columns": null,
      "grid_auto_flow": null,
      "grid_auto_rows": null,
      "grid_column": null,
      "grid_gap": null,
      "grid_row": null,
      "grid_template_areas": null,
      "grid_template_columns": null,
      "grid_template_rows": null,
      "height": null,
      "justify_content": null,
      "justify_items": null,
      "left": null,
      "margin": null,
      "max_height": null,
      "max_width": null,
      "min_height": null,
      "min_width": null,
      "object_fit": null,
      "object_position": null,
      "order": null,
      "overflow": null,
      "overflow_x": null,
      "overflow_y": null,
      "padding": null,
      "right": null,
      "top": null,
      "visibility": null,
      "width": null
     }
    },
    "82f4c9540ef54adf89c4df3a2498f5b0": {
     "model_module": "@jupyter-widgets/base",
     "model_module_version": "1.2.0",
     "model_name": "LayoutModel",
     "state": {
      "_model_module": "@jupyter-widgets/base",
      "_model_module_version": "1.2.0",
      "_model_name": "LayoutModel",
      "_view_count": null,
      "_view_module": "@jupyter-widgets/base",
      "_view_module_version": "1.2.0",
      "_view_name": "LayoutView",
      "align_content": null,
      "align_items": null,
      "align_self": null,
      "border": null,
      "bottom": null,
      "display": null,
      "flex": null,
      "flex_flow": null,
      "grid_area": null,
      "grid_auto_columns": null,
      "grid_auto_flow": null,
      "grid_auto_rows": null,
      "grid_column": null,
      "grid_gap": null,
      "grid_row": null,
      "grid_template_areas": null,
      "grid_template_columns": null,
      "grid_template_rows": null,
      "height": null,
      "justify_content": null,
      "justify_items": null,
      "left": null,
      "margin": null,
      "max_height": null,
      "max_width": null,
      "min_height": null,
      "min_width": null,
      "object_fit": null,
      "object_position": null,
      "order": null,
      "overflow": null,
      "overflow_x": null,
      "overflow_y": null,
      "padding": null,
      "right": null,
      "top": null,
      "visibility": null,
      "width": null
     }
    },
    "ac1c0e176aee4fc8b9aa118fdf969b62": {
     "model_module": "@jupyter-widgets/controls",
     "model_module_version": "1.5.0",
     "model_name": "HTMLModel",
     "state": {
      "_dom_classes": [],
      "_model_module": "@jupyter-widgets/controls",
      "_model_module_version": "1.5.0",
      "_model_name": "HTMLModel",
      "_view_count": null,
      "_view_module": "@jupyter-widgets/controls",
      "_view_module_version": "1.5.0",
      "_view_name": "HTMLView",
      "description": "",
      "description_tooltip": null,
      "layout": "IPY_MODEL_6de3e0fc1f76432f9544c2ae5c0766f0",
      "placeholder": "​",
      "style": "IPY_MODEL_d3f21c1443ba4ec1ad64a5d143598a19",
      "value": " 107M/107M [00:00&lt;00:00, 130MB/s]"
     }
    },
    "b34a69a6ae5b4d9cba0c3122347a71a9": {
     "model_module": "@jupyter-widgets/base",
     "model_module_version": "1.2.0",
     "model_name": "LayoutModel",
     "state": {
      "_model_module": "@jupyter-widgets/base",
      "_model_module_version": "1.2.0",
      "_model_name": "LayoutModel",
      "_view_count": null,
      "_view_module": "@jupyter-widgets/base",
      "_view_module_version": "1.2.0",
      "_view_name": "LayoutView",
      "align_content": null,
      "align_items": null,
      "align_self": null,
      "border": null,
      "bottom": null,
      "display": null,
      "flex": null,
      "flex_flow": null,
      "grid_area": null,
      "grid_auto_columns": null,
      "grid_auto_flow": null,
      "grid_auto_rows": null,
      "grid_column": null,
      "grid_gap": null,
      "grid_row": null,
      "grid_template_areas": null,
      "grid_template_columns": null,
      "grid_template_rows": null,
      "height": null,
      "justify_content": null,
      "justify_items": null,
      "left": null,
      "margin": null,
      "max_height": null,
      "max_width": null,
      "min_height": null,
      "min_width": null,
      "object_fit": null,
      "object_position": null,
      "order": null,
      "overflow": null,
      "overflow_x": null,
      "overflow_y": null,
      "padding": null,
      "right": null,
      "top": null,
      "visibility": null,
      "width": null
     }
    },
    "c2ee6bf5a22c4212b8a1561806fd4e3d": {
     "model_module": "@jupyter-widgets/controls",
     "model_module_version": "1.5.0",
     "model_name": "ProgressStyleModel",
     "state": {
      "_model_module": "@jupyter-widgets/controls",
      "_model_module_version": "1.5.0",
      "_model_name": "ProgressStyleModel",
      "_view_count": null,
      "_view_module": "@jupyter-widgets/base",
      "_view_module_version": "1.2.0",
      "_view_name": "StyleView",
      "bar_color": null,
      "description_width": ""
     }
    },
    "d3f21c1443ba4ec1ad64a5d143598a19": {
     "model_module": "@jupyter-widgets/controls",
     "model_module_version": "1.5.0",
     "model_name": "DescriptionStyleModel",
     "state": {
      "_model_module": "@jupyter-widgets/controls",
      "_model_module_version": "1.5.0",
      "_model_name": "DescriptionStyleModel",
      "_view_count": null,
      "_view_module": "@jupyter-widgets/base",
      "_view_module_version": "1.2.0",
      "_view_name": "StyleView",
      "description_width": ""
     }
    },
    "f300fc24f7dc4156a362b9910af4d1fc": {
     "model_module": "@jupyter-widgets/controls",
     "model_module_version": "1.5.0",
     "model_name": "DescriptionStyleModel",
     "state": {
      "_model_module": "@jupyter-widgets/controls",
      "_model_module_version": "1.5.0",
      "_model_name": "DescriptionStyleModel",
      "_view_count": null,
      "_view_module": "@jupyter-widgets/base",
      "_view_module_version": "1.2.0",
      "_view_name": "StyleView",
      "description_width": ""
     }
    }
   }
  }
 },
 "nbformat": 4,
 "nbformat_minor": 4
}
