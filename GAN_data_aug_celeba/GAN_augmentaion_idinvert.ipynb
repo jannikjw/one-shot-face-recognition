{
  "nbformat": 4,
  "nbformat_minor": 0,
  "metadata": {
    "colab": {
      "provenance": [],
      "collapsed_sections": [
        "K0dEBljfJF3m"
      ],
      "toc_visible": true
    },
    "kernelspec": {
      "name": "python3",
      "display_name": "Python 3"
    },
    "language_info": {
      "name": "python"
    }
  },
  "cells": [
    {
      "cell_type": "code",
      "execution_count": null,
      "metadata": {
        "colab": {
          "base_uri": "https://localhost:8080/"
        },
        "id": "FM1pR-X5mf59",
        "outputId": "7e8a9c0e-1c27-4d20-f5ad-cd987d1b7800"
      },
      "outputs": [
        {
          "output_type": "stream",
          "name": "stdout",
          "text": [
            "Thu Nov 17 01:10:56 2022       \n",
            "+-----------------------------------------------------------------------------+\n",
            "| NVIDIA-SMI 460.32.03    Driver Version: 460.32.03    CUDA Version: 11.2     |\n",
            "|-------------------------------+----------------------+----------------------+\n",
            "| GPU  Name        Persistence-M| Bus-Id        Disp.A | Volatile Uncorr. ECC |\n",
            "| Fan  Temp  Perf  Pwr:Usage/Cap|         Memory-Usage | GPU-Util  Compute M. |\n",
            "|                               |                      |               MIG M. |\n",
            "|===============================+======================+======================|\n",
            "|   0  Tesla T4            Off  | 00000000:00:04.0 Off |                    0 |\n",
            "| N/A   78C    P0    69W /  70W |  10970MiB / 15109MiB |     94%      Default |\n",
            "|                               |                      |                  N/A |\n",
            "+-------------------------------+----------------------+----------------------+\n",
            "                                                                               \n",
            "+-----------------------------------------------------------------------------+\n",
            "| Processes:                                                                  |\n",
            "|  GPU   GI   CI        PID   Type   Process name                  GPU Memory |\n",
            "|        ID   ID                                                   Usage      |\n",
            "|=============================================================================|\n",
            "+-----------------------------------------------------------------------------+\n"
          ]
        }
      ],
      "source": [
        "import os\n",
        "import zipfile\n",
        "from google.colab import files\n",
        "\n",
        "os.chdir('/content')\n",
        "CODE_DIR = 'idinvert'\n",
        "\n",
        "os.chdir(f'./{CODE_DIR}')\n",
        "MODEL_DIR = os.path.join('models', 'pretrain')\n",
        "!nvidia-smi\n"
      ]
    },
    {
      "cell_type": "markdown",
      "source": [
        "# functions"
      ],
      "metadata": {
        "id": "K0dEBljfJF3m"
      }
    },
    {
      "cell_type": "code",
      "source": [
        "# python 3.6\n",
        "\"\"\"Demo.\"\"\"\n",
        "import os\n",
        "import sys\n",
        "import io\n",
        "import bz2\n",
        "import requests\n",
        "import dlib\n",
        "import numpy as np\n",
        "from PIL import Image\n",
        "import IPython.display\n",
        "import scipy.ndimage\n",
        "from google.colab import files\n",
        "from google.colab import output\n",
        "from utils.editor import manipulate\n",
        "from utils.inverter import StyleGANInverter\n",
        "from models.helper import build_generator\n",
        "\n",
        "\n",
        "LANDMARK_MODEL_NAME = 'shape_predictor_68_face_landmarks.dat'\n",
        "LANDMARK_MODEL_PATH = os.path.join(MODEL_DIR, LANDMARK_MODEL_NAME)\n",
        "LANDMARK_MODEL_URL = f'http://dlib.net/files/{LANDMARK_MODEL_NAME}.bz2'\n",
        "model_name = 'styleganinv_ffhq256'\n",
        "pre = 'examples'\n",
        "inverted_code_dir = 'inverted_codes'\n",
        "os.makedirs(inverted_code_dir, exist_ok=True)\n",
        "\n",
        "class FaceLandmarkDetector(object):\n",
        "  \"\"\"Class of face landmark detector.\"\"\"\n",
        "\n",
        "  def __init__(self, align_size=256, enable_padding=True):\n",
        "    \"\"\"Initializes face detector and landmark detector.\n",
        "\n",
        "  Args:\n",
        "    align_size: Size of the aligned face if performing face alignment.\n",
        "    (default: 1024)\n",
        "    enable_padding: Whether to enable padding for face alignment (default:\n",
        "    True)\n",
        "  \"\"\"\n",
        "    # Download models if needed.\n",
        "    if not os.path.exists(LANDMARK_MODEL_PATH):\n",
        "      data = requests.get(LANDMARK_MODEL_URL)\n",
        "      data_decompressed = bz2.decompress(data.content)\n",
        "      with open(LANDMARK_MODEL_PATH, 'wb') as f:\n",
        "        f.write(data_decompressed)\n",
        "\n",
        "    self.face_detector = dlib.get_frontal_face_detector()\n",
        "    self.landmark_detector = dlib.shape_predictor(LANDMARK_MODEL_PATH)\n",
        "    self.align_size = align_size\n",
        "    self.enable_padding = enable_padding\n",
        "\n",
        "  def detect(self, image_path):\n",
        "    \"\"\"Detects landmarks from the given image.\n",
        "\n",
        "  This function will first perform face detection on the input image. All\n",
        "  detected results will be grouped into a list. If no face is detected, an\n",
        "  empty list will be returned.\n",
        "\n",
        "  For each element in the list, it is a dictionary consisting of `image_path`,\n",
        "  `bbox` and `landmarks`. `image_path` is the path to the input image. `bbox`\n",
        "  is the 4-element bounding box with order (left, top, right, bottom), and\n",
        "  `landmarks` is a list of 68 (x, y) points.\n",
        "\n",
        "  Args:\n",
        "    image_path: Path to the image to detect landmarks from.\n",
        "\n",
        "  Returns:\n",
        "    A list of dictionaries, each of which is the detection results of a\n",
        "    particular face.\n",
        "  \"\"\"\n",
        "    results = []\n",
        "\n",
        "    # image_ = np.array(image)\n",
        "    images = dlib.load_rgb_image(image_path)\n",
        "    # Face detection (1 means to upsample the image for 1 time.)\n",
        "    bboxes = self.face_detector(images, 1)\n",
        "    # Landmark detection\n",
        "    for bbox in bboxes:\n",
        "      landmarks = []\n",
        "      for point in self.landmark_detector(images, bbox).parts():\n",
        "        landmarks.append((point.x, point.y))\n",
        "      results.append({\n",
        "          'image_path': image_path,\n",
        "          'bbox': (bbox.left(), bbox.top(), bbox.right(), bbox.bottom()),\n",
        "          'landmarks': landmarks,\n",
        "      })\n",
        "    return results\n",
        "\n",
        "  def align(self, face_info):\n",
        "    \"\"\"Aligns face based on landmark detection.\n",
        "\n",
        "  The face alignment process is borrowed from\n",
        "  https://github.com/NVlabs/ffhq-dataset/blob/master/download_ffhq.py,\n",
        "  which only supports aligning faces to square size.\n",
        "\n",
        "  Args:\n",
        "    face_info: Face information, which is the element of the list returned by\n",
        "    `self.detect()`.\n",
        "\n",
        "  Returns:\n",
        "    A `np.ndarray`, containing the aligned result. It is with `RGB` channel\n",
        "    order.\n",
        "  \"\"\"\n",
        "    img = Image.open(face_info['image_path'])\n",
        "\n",
        "    landmarks = np.array(face_info['landmarks'])\n",
        "    eye_left = np.mean(landmarks[36: 42], axis=0)\n",
        "    eye_right = np.mean(landmarks[42: 48], axis=0)\n",
        "    eye_middle = (eye_left + eye_right) / 2\n",
        "    eye_to_eye = eye_right - eye_left\n",
        "    mouth_middle = (landmarks[48] + landmarks[54]) / 2\n",
        "    eye_to_mouth = mouth_middle - eye_middle\n",
        "\n",
        "    # Choose oriented crop rectangle.\n",
        "    x = eye_to_eye - np.flipud(eye_to_mouth) * [-1, 1]\n",
        "    x /= np.hypot(*x)\n",
        "    x *= max(np.hypot(*eye_to_eye) * 2.0, np.hypot(*eye_to_mouth) * 1.8)\n",
        "    y = np.flipud(x) * [-1, 1]\n",
        "    c = eye_middle + eye_to_mouth * 0.1\n",
        "    quad = np.stack([c - x - y, c - x + y, c + x + y, c + x - y])\n",
        "    qsize = np.hypot(*x) * 2\n",
        "\n",
        "    # Shrink.\n",
        "    shrink = int(np.floor(qsize / self.align_size * 0.5))\n",
        "    if shrink > 1:\n",
        "      rsize = (int(np.rint(float(img.size[0]) / shrink)),\n",
        "               int(np.rint(float(img.size[1]) / shrink)))\n",
        "      img = img.resize(rsize, Image.ANTIALIAS)\n",
        "      quad /= shrink\n",
        "      qsize /= shrink\n",
        "\n",
        "    # Crop.\n",
        "    border = max(int(np.rint(qsize * 0.1)), 3)\n",
        "    crop = (int(np.floor(min(quad[:, 0]))), int(np.floor(min(quad[:, 1]))),\n",
        "            int(np.ceil(max(quad[:, 0]))), int(np.ceil(max(quad[:, 1]))))\n",
        "    crop = (max(crop[0] - border, 0),\n",
        "            max(crop[1] - border, 0),\n",
        "            min(crop[2] + border, img.size[0]),\n",
        "            min(crop[3] + border, img.size[1]))\n",
        "    if crop[2] - crop[0] < img.size[0] or crop[3] - crop[1] < img.size[1]:\n",
        "      img = img.crop(crop)\n",
        "      quad -= crop[0:2]\n",
        "\n",
        "    # Pad.\n",
        "    pad = (int(np.floor(min(quad[:, 0]))), int(np.floor(min(quad[:, 1]))),\n",
        "           int(np.ceil(max(quad[:, 0]))), int(np.ceil(max(quad[:, 1]))))\n",
        "    pad = (max(-pad[0] + border, 0),\n",
        "           max(-pad[1] + border, 0),\n",
        "           max(pad[2] - img.size[0] + border, 0),\n",
        "           max(pad[3] - img.size[1] + border, 0))\n",
        "    if self.enable_padding and max(pad) > border - 4:\n",
        "      pad = np.maximum(pad, int(np.rint(qsize * 0.3)))\n",
        "      img = np.pad(np.float32(img),\n",
        "                   ((pad[1], pad[3]), (pad[0], pad[2]), (0, 0)),\n",
        "                   'reflect')\n",
        "      h, w, _ = img.shape\n",
        "      y, x, _ = np.ogrid[:h, :w, :1]\n",
        "      mask = np.maximum(1.0 - np.minimum(np.float32(x) / pad[0],\n",
        "                                         np.float32(w - 1 - x) / pad[2]),\n",
        "                        1.0 - np.minimum(np.float32(y) / pad[1],\n",
        "                                         np.float32(h - 1 - y) / pad[3]))\n",
        "      blur = qsize * 0.02\n",
        "      blurred_image = scipy.ndimage.gaussian_filter(img, [blur, blur, 0]) - img\n",
        "      img += blurred_image * np.clip(mask * 3.0 + 1.0, 0.0, 1.0)\n",
        "      img += (np.median(img, axis=(0, 1)) - img) * np.clip(mask, 0.0, 1.0)\n",
        "      img = Image.fromarray(np.uint8(np.clip(np.rint(img), 0, 255)), 'RGB')\n",
        "      quad += pad[:2]\n",
        "\n",
        "    # Transform.\n",
        "    img = img.transform((self.align_size * 4, self.align_size * 4), Image.QUAD,\n",
        "                        (quad + 0.5).flatten(), Image.BILINEAR)\n",
        "    img = img.resize((self.align_size, self.align_size), Image.ANTIALIAS)\n",
        "\n",
        "    return np.array(img)\n",
        "\n",
        "\n",
        "def align_face(image_path, align_size=256):\n",
        "  \"\"\"Aligns a given face.\"\"\"\n",
        "  model = FaceLandmarkDetector(align_size)\n",
        "  face_infos = model.detect(image_path)\n",
        "  if len(face_infos) == 0:\n",
        "    return None\n",
        "  else:\n",
        "    face_infos = face_infos[0]\n",
        "    img = model.align(face_infos)\n",
        "    return img\n",
        "\n",
        "\n",
        "def build_inverter(model_name, iteration=100, regularization_loss_weight=2):\n",
        "  \"\"\"Builds inverter\"\"\"\n",
        "  inverter = StyleGANInverter(\n",
        "      model_name,\n",
        "      learning_rate=0.01,\n",
        "      iteration=iteration,\n",
        "      reconstruction_loss_weight=1.0,\n",
        "      perceptual_loss_weight=5e-5,\n",
        "      regularization_loss_weight=regularization_loss_weight)\n",
        "  return inverter\n",
        "\n",
        "\n",
        "def get_generator(model_name):\n",
        "  \"\"\"Gets model by name\"\"\"\n",
        "  return build_generator(model_name)\n",
        "\n",
        "\n",
        "def align(inverter, image_path):\n",
        "  \"\"\"Aligns an unloaded image.\"\"\"\n",
        "  aligned_image = align_face(image_path,\n",
        "                             align_size=inverter.G.resolution)\n",
        "  return aligned_image\n",
        "\n",
        "\n",
        "def invert(inverter, image):\n",
        "  \"\"\"Inverts an image.\"\"\"\n",
        "  latent_code, reconstruction = inverter.easy_invert(image, num_viz=1)\n",
        "  return latent_code, reconstruction\n",
        "\n",
        "\n",
        "def diffuse(inverter, target, context, left, top, width, height):\n",
        "  \"\"\"Diffuses a target image to a context image.\"\"\"\n",
        "  center_x = left + width // 2\n",
        "  center_y = top + height // 2\n",
        "  _, diffusion = inverter.easy_diffuse(target=target,\n",
        "                                       context=context,\n",
        "                                       center_x=center_x,\n",
        "                                       center_y=center_y,\n",
        "                                       crop_x=width,\n",
        "                                       crop_y=height,\n",
        "                                       num_viz=1)\n",
        "  return diffusion\n",
        "\n",
        "\n",
        "def load_image(path):\n",
        "  \"\"\"Loads an image from disk.\n",
        "\n",
        "  NOTE: This function will always return an image with `RGB` channel order for\n",
        "  color image and pixel range [0, 255].\n",
        "\n",
        "  Args:\n",
        "    path: Path to load the image from.\n",
        "\n",
        "  Returns:\n",
        "    An image with dtype `np.ndarray` or `None` if input `path` does not exist.\n",
        "  \"\"\"\n",
        "  if not os.path.isfile(path):\n",
        "    return None\n",
        "\n",
        "  image = Image.open(path)\n",
        "  return image\n",
        "\n",
        "def imshow(images, col, viz_size=256):\n",
        "  \"\"\"Shows images in one figure.\"\"\"\n",
        "  num, height, width, channels = images.shape\n",
        "  assert num % col == 0\n",
        "  row = num // col\n",
        "\n",
        "  fused_image = np.zeros((viz_size * row, viz_size * col, channels), dtype=np.uint8)\n",
        "\n",
        "  for idx, image in enumerate(images):\n",
        "    i, j = divmod(idx, col)\n",
        "    y = i * viz_size\n",
        "    x = j * viz_size\n",
        "    if height != viz_size or width != viz_size:\n",
        "      image = cv2.resize(image, (viz_size, viz_size))\n",
        "    fused_image[y:y + viz_size, x:x + viz_size] = image\n",
        "\n",
        "  fused_image = np.asarray(fused_image, dtype=np.uint8)\n",
        "  data = io.BytesIO()\n",
        "  if channels == 4:\n",
        "    Image.fromarray(fused_image).save(data, 'png')\n",
        "  elif channels == 3:\n",
        "    Image.fromarray(fused_image).save(data, 'jpeg')\n",
        "  else:\n",
        "    raise ValueError('Image channel error')\n",
        "  im_data = data.getvalue()\n",
        "  disp = IPython.display.display(IPython.display.Image(im_data))\n",
        "  return disp\n"
      ],
      "metadata": {
        "id": "778zw096mxqU"
      },
      "execution_count": null,
      "outputs": []
    },
    {
      "cell_type": "markdown",
      "source": [
        "# GAN inversion"
      ],
      "metadata": {
        "id": "vbYskIGHJMD8"
      }
    },
    {
      "cell_type": "code",
      "source": [
        "if not os.path.exists('./data'):\n",
        "  os.mkdir('./data')\n",
        "\n",
        "zip_path = './data/3000.zip'\n",
        "data_folder = './data'\n",
        "\n",
        "with zipfile.ZipFile(zip_path, 'r') as ziphandler:\n",
        "  ziphandler.extractall(data_folder)\n",
        "\n",
        "print('Dataset fully extracted.')"
      ],
      "metadata": {
        "id": "vdtEf0aumxs4",
        "colab": {
          "base_uri": "https://localhost:8080/"
        },
        "outputId": "97139c33-75d3-44c8-8f0f-471c0ea5c86c"
      },
      "execution_count": null,
      "outputs": [
        {
          "output_type": "stream",
          "name": "stdout",
          "text": [
            "Dataset fully extracted.\n"
          ]
        }
      ]
    },
    {
      "cell_type": "markdown",
      "source": [],
      "metadata": {
        "id": "AsKG2sMHJK48"
      }
    },
    {
      "cell_type": "code",
      "source": [
        "data_folder = os.path.join(data_folder, '3000')\n",
        "\n",
        "image_names = [i for i in os.listdir(data_folder) if i.lower().endswith('jpg')]\n",
        "print('number of images: %s'%len(image_names))\n"
      ],
      "metadata": {
        "id": "3itfr924mxv3",
        "colab": {
          "base_uri": "https://localhost:8080/"
        },
        "outputId": "fa24d518-8cee-4406-bde8-869c11156d71"
      },
      "execution_count": null,
      "outputs": [
        {
          "output_type": "stream",
          "name": "stdout",
          "text": [
            "number of images: 1000\n"
          ]
        }
      ]
    },
    {
      "cell_type": "code",
      "source": [
        "def get_invert(image_name, inverted_code_dir):\n",
        "\n",
        "  latent_code_path = os.path.join(inverted_code_dir, \n",
        "                                  image_name.split('.')[0] + '.npy')\n",
        "  if os.path.exists(latent_code_path):\n",
        "    latent_code = np.load(latent_code_path)\n",
        "    return latent_code\n",
        "\n",
        "  inverter = build_inverter(model_name=model_name)\n",
        "  generator = get_generator(model_name)\n",
        "  output.clear()\n",
        "\n",
        "  mani_image = align(inverter, os.path.join(data_folder,image_name))\n",
        "  if mani_image is None:\n",
        "    print(image_name, 'no face detected!')\n",
        "    return None\n",
        "  if mani_image.shape[2] == 4:\n",
        "    mani_image = mani_image[:, :, :3]\n",
        "\n",
        "  sys.stdout.flush()\n",
        "\n",
        "  latent_code, _ = invert(inverter, mani_image)\n",
        "  np.save(latent_code_path, latent_code)\n",
        "\n",
        "  return latent_code\n",
        "\n"
      ],
      "metadata": {
        "id": "oypgdZW2mx1N"
      },
      "execution_count": null,
      "outputs": []
    },
    {
      "cell_type": "code",
      "source": [
        "inverted_code_dir = 'inverted_codes3000'\n",
        "os.makedirs(inverted_code_dir, exist_ok=True)\n",
        "\n",
        "i = 0\n",
        "latent_code = get_invert(image_names[i], inverted_code_dir)"
      ],
      "metadata": {
        "id": "9RxR8cBGmx4F"
      },
      "execution_count": null,
      "outputs": []
    },
    {
      "cell_type": "code",
      "source": [
        "def back_up(folder):\n",
        "  t = folder+'.zip'\n",
        "  !zip -r $t $folder\n",
        "  files.download(t)"
      ],
      "metadata": {
        "id": "ZkSyWOZTLuhX"
      },
      "execution_count": null,
      "outputs": []
    },
    {
      "cell_type": "code",
      "source": [
        "No_face = []\n",
        "\n",
        "total = len(image_names)\n",
        "c = 0\n",
        "for image_name in image_names:\n",
        "  c += 1\n",
        "  #if c%100==0:\n",
        "   # back_up(inverted_code_dir)\n",
        "    #time.sleep(10)\n",
        "  print('--------------%s / %s -------------'%(c, total))\n",
        "  results = get_invert(image_name, inverted_code_dir)\n",
        "  if results is None:\n",
        "    No_face.append(image_name)\n",
        "  else:\n",
        "    latent_code = results\n",
        "\n",
        "back_up(inverted_code_dir)"
      ],
      "metadata": {
        "id": "ZyOROD8ALtD2"
      },
      "execution_count": null,
      "outputs": []
    },
    {
      "cell_type": "code",
      "source": [
        "!zip -r inverted_codes0.zip inverted_codes0\n",
        "files.download(\"inverted_codes0.zip\")"
      ],
      "metadata": {
        "id": "S_crOTWRt7tQ"
      },
      "execution_count": null,
      "outputs": []
    },
    {
      "cell_type": "code",
      "source": [],
      "metadata": {
        "id": "yiUmsIdat7qZ"
      },
      "execution_count": null,
      "outputs": []
    },
    {
      "cell_type": "markdown",
      "source": [
        "# Edit latent"
      ],
      "metadata": {
        "id": "o9ti8S3NoZS6"
      }
    },
    {
      "cell_type": "code",
      "source": [
        "zip_path = './inverted_codes2000.zip'\n",
        "latent_folder = './inverted_codes2000_unzip'\n",
        "\n",
        "with zipfile.ZipFile(zip_path, 'r') as ziphandler:\n",
        "  ziphandler.extractall(latent_folder)\n",
        "\n",
        "print('Dataset fully extracted.')"
      ],
      "metadata": {
        "colab": {
          "base_uri": "https://localhost:8080/"
        },
        "id": "z7RXRQJ7obRd",
        "outputId": "52c94189-7d02-4981-8c43-ff7e26dd3bfa"
      },
      "execution_count": null,
      "outputs": [
        {
          "output_type": "stream",
          "name": "stdout",
          "text": [
            "Dataset fully extracted.\n"
          ]
        }
      ]
    },
    {
      "cell_type": "code",
      "source": [
        "latent_folder = os.path.join(latent_folder, 'inverted_codes2000')\n",
        "latent_code_names = [i for i in os.listdir(latent_folder) if i.endswith('npy')]\n",
        "print(len(latent_code_names))"
      ],
      "metadata": {
        "colab": {
          "base_uri": "https://localhost:8080/"
        },
        "id": "DsVBqQX8obHT",
        "outputId": "8e303b17-3845-4081-d80f-80ecc0b659e7"
      },
      "execution_count": null,
      "outputs": [
        {
          "output_type": "stream",
          "name": "stdout",
          "text": [
            "968\n"
          ]
        }
      ]
    },
    {
      "cell_type": "code",
      "source": [
        "data_folder = './data/images0/0'\n"
      ],
      "metadata": {
        "id": "8IfbDdCgmx68",
        "colab": {
          "base_uri": "https://localhost:8080/"
        },
        "outputId": "fe401a60-870b-4567-85bf-1398fbe50702"
      },
      "execution_count": null,
      "outputs": [
        {
          "output_type": "stream",
          "name": "stdout",
          "text": [
            "316\n"
          ]
        }
      ]
    },
    {
      "cell_type": "code",
      "source": [
        "generator = get_generator(model_name)\n",
        "inverter = build_inverter(model_name=model_name)\n",
        "ATTRS = ['age', 'eyeglasses', 'gender', 'pose', 'expression']\n",
        "boundaries = {}\n",
        "for attr in ATTRS:\n",
        "  boundary_path = os.path.join('./boundaries', \n",
        "                               'stylegan_ffhq256', attr + '.npy')\n",
        "  boundary_file = np.load(boundary_path, allow_pickle=True)[()]\n",
        "  boundary = boundary_file['boundary']\n",
        "  manipulate_layers = boundary_file['meta_data']['manipulate_layers']\n",
        "  boundaries[attr] = []\n",
        "  boundaries[attr].append(boundary)\n",
        "  boundaries[attr].append(manipulate_layers)\n",
        "\n",
        "def edit(latent_code, boundaries, params):\n",
        "  age, eyeglasses, gender, pose, expression = params \n",
        "  new_codes = latent_code.copy()\n",
        "  for i, attr_name in enumerate(ATTRS):\n",
        "    manipulate_layers = boundaries[attr_name][1]\n",
        "    new_codes[:, manipulate_layers, :] += boundaries[attr_name][0][:, manipulate_layers, :] * eval(attr_name)\n",
        "\n",
        "  new_images = generator.easy_synthesize(new_codes, **{'latent_space_type': 'wp'})['image']\n",
        "  return new_images"
      ],
      "metadata": {
        "id": "PfJ8TmUomyAr",
        "colab": {
          "base_uri": "https://localhost:8080/"
        },
        "outputId": "654ca620-538a-4152-d304-277c81f2300b"
      },
      "execution_count": null,
      "outputs": [
        {
          "output_type": "stream",
          "name": "stdout",
          "text": [
            "[2022-11-17 20:28:06,461][INFO] Build network for module `generator` in model `styleganinv_ffhq256`.\n",
            "[2022-11-17 20:28:06,844][INFO] Loading pytorch weights from `models/pretrain/styleganinv_ffhq256_generator.pth`.\n",
            "[2022-11-17 20:28:07,257][INFO] Successfully loaded!\n",
            "[2022-11-17 20:28:07,475][INFO] Current `lod` is 0.0.\n",
            "[2022-11-17 20:28:07,478][INFO] Build network for module `generator` in model `styleganinv_ffhq256`.\n",
            "[2022-11-17 20:28:07,879][INFO] Loading pytorch weights from `models/pretrain/styleganinv_ffhq256_generator.pth`.\n",
            "[2022-11-17 20:28:08,230][INFO] Successfully loaded!\n",
            "[2022-11-17 20:28:08,416][INFO] Current `lod` is 0.0.\n",
            "[2022-11-17 20:28:08,426][INFO] Build network for module `encoder` in model `styleganinv_ffhq256`.\n",
            "[2022-11-17 20:28:10,792][INFO] Loading pytorch weights from `models/pretrain/styleganinv_ffhq256_encoder.pth`.\n",
            "[2022-11-17 20:28:13,236][INFO] Successfully loaded!\n"
          ]
        }
      ]
    },
    {
      "cell_type": "code",
      "source": [
        "def random_aug(latent_codes, boundaries, num=1):\n",
        "  results = []\n",
        "  rs = []\n",
        "  def small_diff(r, rs):\n",
        "    for r_old in rs:\n",
        "      if abs(r-r_old).sum() < 2.5:\n",
        "        return True\n",
        "    return False\n",
        "  for i in range(num):\n",
        "    r = np.random.uniform(low=-1.5, high=2, size=(3,))\n",
        "    while abs(r).sum() < 2 or abs(r).sum() > 5 or small_diff(r,rs):\n",
        "      r = np.random.uniform(low=-1.5, high=2, size=(3,))\n",
        "    rs.append(r)\n",
        "    params = [0, r[0], 0, r[1], r[2]]\n",
        "    new_images = edit(latent_code, boundaries, params)\n",
        "    results.append(new_images)\n",
        "  return results"
      ],
      "metadata": {
        "id": "arXO9mlEawOK"
      },
      "execution_count": null,
      "outputs": []
    },
    {
      "cell_type": "code",
      "source": [
        "i = 200\n",
        "latent_code = np.load(os.path.join(latent_folder, latent_code_names[i]))\n",
        "images_aug = random_aug(latent_code, boundaries, 5)\n",
        "\n",
        "\n",
        "image_name = latent_code_names[i].split('.')[0] + '.jpg'\n",
        "#mani_image = align(inverter, os.path.join(data_folder,image_name))\n",
        "#images_aug.append(mani_image[np.newaxis])\n",
        "\n",
        "\n",
        "showed_images = np.concatenate(images_aug, axis=0)\n",
        "imshow(showed_images, col=showed_images.shape[0])"
      ],
      "metadata": {
        "colab": {
          "base_uri": "https://localhost:8080/",
          "height": 273
        },
        "id": "iQfvO2MGbRFO",
        "outputId": "5dfc9f71-cb14-4062-a2ef-71ec547ef3da"
      },
      "execution_count": null,
      "outputs": [
        {
          "output_type": "display_data",
          "data": {
            "image/jpeg": "[encoded data removed]",
            "text/plain": [
              "<IPython.core.display.Image object>"
            ]
          },
          "metadata": {}
        }
      ]
    },
    {
      "cell_type": "code",
      "source": [
        "aug_folder = 'augment_images2000'\n",
        "if not os.path.exists(aug_folder):\n",
        "  os.makedirs(aug_folder)\n",
        "\n",
        "#im0.save(os.path.join(aug_folder, '003012_1.jpg'))"
      ],
      "metadata": {
        "id": "t7v2oXeQTIBA"
      },
      "execution_count": null,
      "outputs": []
    },
    {
      "cell_type": "code",
      "source": [
        "for i in range(len(latent_code_names)):\n",
        "  latent_code = np.load(os.path.join(latent_folder, latent_code_names[i]))\n",
        "  images_aug = random_aug(latent_code, boundaries, 5)\n",
        "  image_name = latent_code_names[i].split('.')[0]\n",
        "  for j in range(len(images_aug)):\n",
        "    img_array = images_aug[j][0]\n",
        "    img_obj = Image.fromarray(img_array)\n",
        "    aug_name = image_name + '_' + str(j) + '.jpg'\n",
        "    image_path = os.path.join(aug_folder, aug_name)\n",
        "    img_obj.save(image_path)\n"
      ],
      "metadata": {
        "id": "yMkZ4hjiTH-r"
      },
      "execution_count": null,
      "outputs": []
    },
    {
      "cell_type": "code",
      "source": [
        "!rm -r augment_images2"
      ],
      "metadata": {
        "id": "VOLwFvuiTH48"
      },
      "execution_count": null,
      "outputs": []
    },
    {
      "cell_type": "code",
      "source": [
        "!zip -r augment_images2000.zip augment_images2000"
      ],
      "metadata": {
        "id": "bHDKOn8_TH2E"
      },
      "execution_count": null,
      "outputs": []
    },
    {
      "cell_type": "code",
      "source": [
        "def back_up(folder):\n",
        "  t = folder+'.zip'\n",
        "  !zip -r $t $folder\n",
        "  files.download(t)"
      ],
      "metadata": {
        "id": "GbDYsDvATHuB"
      },
      "execution_count": null,
      "outputs": []
    },
    {
      "cell_type": "code",
      "source": [
        "!zip -r inverted_codes0.zip inverted_codes0"
      ],
      "metadata": {
        "id": "V1nLB-5LTieF"
      },
      "execution_count": null,
      "outputs": []
    },
    {
      "cell_type": "markdown",
      "source": [
        "# Combine all latent codes and Download"
      ],
      "metadata": {
        "id": "QMYaxgU_SMDt"
      }
    },
    {
      "cell_type": "code",
      "source": [
        "subs = [str(i*1000) for i in range(11)]\n",
        "subs"
      ],
      "metadata": {
        "colab": {
          "base_uri": "https://localhost:8080/"
        },
        "id": "bKvBAkzwmydF",
        "outputId": "a42888c7-60f9-4ac6-bc28-db07cd77eaf1"
      },
      "execution_count": null,
      "outputs": [
        {
          "output_type": "execute_result",
          "data": {
            "text/plain": [
              "['0',\n",
              " '1000',\n",
              " '2000',\n",
              " '3000',\n",
              " '4000',\n",
              " '5000',\n",
              " '6000',\n",
              " '7000',\n",
              " '8000',\n",
              " '9000',\n",
              " '10000']"
            ]
          },
          "metadata": {},
          "execution_count": 374
        }
      ]
    },
    {
      "cell_type": "code",
      "source": [
        "for sub in subs:\n",
        "  zip_path = 'inverted_codes'+ sub + '.zip'\n",
        "  print(zip_path)\n",
        "  if not os.path.exists(zip_path):\n",
        "    print('not exists')\n",
        "    break\n",
        "  latent_folder = os.path.join('./inverted_unzip_folders', sub)\n",
        "  os.makedirs(latent_folder, exist_ok=True)\n",
        "  with zipfile.ZipFile(zip_path, 'r') as ziphandler:\n",
        "    ziphandler.extractall(latent_folder)"
      ],
      "metadata": {
        "colab": {
          "base_uri": "https://localhost:8080/"
        },
        "id": "C0XTHo3pBjQf",
        "outputId": "b72eb139-6963-4d14-9fcd-f6c9c3410e5b"
      },
      "execution_count": null,
      "outputs": [
        {
          "output_type": "stream",
          "name": "stdout",
          "text": [
            "inverted_codes0.zip\n",
            "inverted_codes1000.zip\n",
            "inverted_codes2000.zip\n",
            "inverted_codes3000.zip\n",
            "inverted_codes4000.zip\n",
            "inverted_codes5000.zip\n",
            "inverted_codes6000.zip\n",
            "inverted_codes7000.zip\n",
            "inverted_codes8000.zip\n",
            "inverted_codes9000.zip\n",
            "inverted_codes10000.zip\n"
          ]
        }
      ]
    },
    {
      "cell_type": "code",
      "source": [
        "all_latent_folder = './all_latent_codes'\n",
        "os.makedirs(all_latent_folder, exist_ok=True)\n",
        "\n",
        "for sub in subs:\n",
        "  print(sub)\n",
        "  latent_codes_path = os.path.join('./inverted_unzip_folders', sub, 'inverted_codes'+sub)\n",
        "  if not os.path.exists(latent_codes_path):\n",
        "    break\n",
        "  latent_names = [i for i in os.listdir(latent_codes_path) if i.endswith('npy')]\n",
        "  print('find %s codes'%len(latent_names) )\n",
        "  for latent_name in latent_names:\n",
        "    shutil.copy(os.path.join(latent_codes_path, latent_name), all_latent_folder)\n",
        "  "
      ],
      "metadata": {
        "colab": {
          "base_uri": "https://localhost:8080/"
        },
        "id": "gc3EGATjBjNQ",
        "outputId": "89c9a7db-10a6-4b00-a8a0-594743c02761"
      },
      "execution_count": null,
      "outputs": [
        {
          "output_type": "stream",
          "name": "stdout",
          "text": [
            "0\n",
            "find 964 codes\n",
            "1000\n",
            "find 967 codes\n",
            "2000\n",
            "find 968 codes\n",
            "3000\n",
            "find 959 codes\n",
            "4000\n",
            "find 969 codes\n",
            "5000\n",
            "find 961 codes\n",
            "6000\n",
            "find 969 codes\n",
            "7000\n",
            "find 958 codes\n",
            "8000\n",
            "find 971 codes\n",
            "9000\n",
            "find 974 codes\n",
            "10000\n",
            "find 174 codes\n"
          ]
        }
      ]
    },
    {
      "cell_type": "code",
      "source": [
        "all_latent_codes = [i for i in os.listdir(all_latent_folder) if i.endswith('npy')]\n",
        "print(len(all_latent_codes))"
      ],
      "metadata": {
        "colab": {
          "base_uri": "https://localhost:8080/"
        },
        "id": "1X6U5BQnBjLc",
        "outputId": "7b0dbec9-b611-4b1b-b9a9-729f25f58a01"
      },
      "execution_count": null,
      "outputs": [
        {
          "output_type": "stream",
          "name": "stdout",
          "text": [
            "9834\n"
          ]
        }
      ]
    },
    {
      "cell_type": "code",
      "source": [
        "import shutil"
      ],
      "metadata": {
        "id": "kq04Dr4yBjHf"
      },
      "execution_count": null,
      "outputs": []
    },
    {
      "cell_type": "code",
      "source": [
        "!zip -r all_latent_codes.zip all_latent_codes\n"
      ],
      "metadata": {
        "id": "gl-TSboqBjEm"
      },
      "execution_count": null,
      "outputs": []
    },
    {
      "cell_type": "code",
      "source": [
        "all_aug_images_folder = './all_aug_images'\n",
        "os.makedirs(all_aug_images_folder, exist_ok=True)\n",
        "\n",
        "\n",
        "for i in range(len(all_latent_codes)):\n",
        "  latent_code = np.load(os.path.join(all_latent_folder, all_latent_codes[i]))\n",
        "  images_aug = random_aug(latent_code, boundaries, 5)\n",
        "  image_name = all_latent_codes[i].split('.')[0]\n",
        "  for j in range(len(images_aug)):\n",
        "    img_array = images_aug[j][0]\n",
        "    img_obj = Image.fromarray(img_array)\n",
        "    aug_name = image_name + '_' + str(j) + '.jpg'\n",
        "    image_path = os.path.join(all_aug_images_folder, aug_name)\n",
        "    img_obj.save(image_path)\n"
      ],
      "metadata": {
        "id": "fFV9k_X8BjBu"
      },
      "execution_count": null,
      "outputs": []
    },
    {
      "cell_type": "code",
      "source": [
        "all_latent_codes"
      ],
      "metadata": {
        "id": "HvvqlYTeBi_R"
      },
      "execution_count": null,
      "outputs": []
    },
    {
      "cell_type": "code",
      "source": [
        "!zip -r all_aug_images.zip all_aug_images\n",
        "files.download('all_aug_images.zip')"
      ],
      "metadata": {
        "id": "1mK8Fd2GHQdn"
      },
      "execution_count": null,
      "outputs": []
    }
  ]
}