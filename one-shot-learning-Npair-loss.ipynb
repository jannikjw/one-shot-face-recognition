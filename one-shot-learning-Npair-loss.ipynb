{
 "cells": [
  {
   "cell_type": "code",
   "execution_count": 2,
   "metadata": {
    "ExecuteTime": {
     "end_time": "2022-11-04T04:42:59.487152Z",
     "start_time": "2022-11-04T04:42:59.481436Z"
    }
   },
   "outputs": [],
   "source": [
    "from facenet_pytorch import MTCNN, InceptionResnetV1, training\n",
    "import torch\n",
    "from torch import optim,nn\n",
    "from torch.optim.lr_scheduler import MultiStepLR\n",
    "from torch.utils.tensorboard import SummaryWriter\n",
    "from torch.utils.data import DataLoader, Dataset, SubsetRandomSampler\n",
    "from torchvision import datasets\n",
    "from sklearn.neighbors import KNeighborsClassifier\n",
    "from matplotlib import pyplot as plt\n",
    "import seaborn as sns\n",
    "import numpy as np\n",
    "import pandas as pd\n",
    "import os\n",
    "import zipfile \n",
    "import torch\n",
    "from tqdm import tqdm\n",
    "from PIL import Image\n",
    "from torchvision import transforms\n",
    "from sklearn.metrics import accuracy_score\n",
    "import src\n",
    "from src.utils.celeba_helper import CelebADataset, CelebAClassifier, save_file_names\n",
    "from imp import reload\n",
    "import random\n",
    "from src.utils.loss_functions import NPairLoss\n",
    "from torch.optim import lr_scheduler\n",
    "\n",
    "workers = 0 if os.name == 'nt' else 2"
   ]
  },
  {
   "cell_type": "code",
   "execution_count": 3,
   "metadata": {
    "ExecuteTime": {
     "end_time": "2022-11-04T04:43:01.072513Z",
     "start_time": "2022-11-04T04:43:01.068790Z"
    }
   },
   "outputs": [
    {
     "name": "stdout",
     "output_type": "stream",
     "text": [
      "Running on device: cpu\n"
     ]
    }
   ],
   "source": [
    "device = torch.device('cuda:0' if torch.cuda.is_available() else 'cpu')\n",
    "print('Running on device: {}'.format(device))"
   ]
  },
  {
   "cell_type": "code",
   "execution_count": 4,
   "metadata": {
    "ExecuteTime": {
     "end_time": "2022-11-04T04:43:11.859978Z",
     "start_time": "2022-11-04T04:43:10.128131Z"
    }
   },
   "outputs": [],
   "source": [
    "## Load the dataset\n",
    "# Path to directory with all the images\n",
    "img_folder = 'data/img_align_celeba'\n",
    "mapping_file = 'data/identity_CelebA.txt'\n",
    "\n",
    "# Spatial size of training images, images are resized to this size.\n",
    "image_size = 160\n",
    "transform=transforms.Compose([\n",
    "    transforms.Resize(image_size),\n",
    "    transforms.CenterCrop(image_size), # TODO: Experiment with fixed_image_standardization\n",
    "    transforms.ToTensor()\n",
    "])\n",
    "\n",
    "# Load the dataset from file and apply transformations\n",
    "celeba_dataset = CelebADataset(img_folder, mapping_file, transform)"
   ]
  },
  {
   "cell_type": "code",
   "execution_count": 5,
   "metadata": {
    "ExecuteTime": {
     "end_time": "2022-11-04T04:43:12.472355Z",
     "start_time": "2022-11-04T04:43:12.468507Z"
    }
   },
   "outputs": [],
   "source": [
    "## Create a dataloader\n",
    "# Batch size during training\n",
    "batch_size = 128\n",
    "# Number of workers for the dataloader\n",
    "num_workers = 0 if device.type == 'cuda' else 2\n",
    "# Whether to put fetched data tensors to pinned memory\n",
    "pin_memory = True if device.type == 'cuda' else False\n",
    "\n",
    "celeba_dataloader = DataLoader(celeba_dataset,  # type: ignore\n",
    "                        batch_size=batch_size,\n",
    "                        num_workers=num_workers,\n",
    "                        pin_memory=pin_memory,\n",
    "                        shuffle=False)"
   ]
  },
  {
   "cell_type": "markdown",
   "metadata": {},
   "source": [
    "# data"
   ]
  },
  {
   "cell_type": "code",
   "execution_count": 6,
   "metadata": {
    "ExecuteTime": {
     "end_time": "2022-11-04T04:43:14.579006Z",
     "start_time": "2022-11-04T04:43:14.386288Z"
    }
   },
   "outputs": [
    {
     "data": {
      "text/plain": [
       "<BarContainer object of 34 artists>"
      ]
     },
     "execution_count": 6,
     "metadata": {},
     "output_type": "execute_result"
    },
    {
     "data": {
      "image/png": "[encoded data removed]",
      "text/plain": [
       "<Figure size 640x480 with 1 Axes>"
      ]
     },
     "metadata": {},
     "output_type": "display_data"
    }
   ],
   "source": [
    "results = pd.value_counts(celeba_dataset.file_label_mapping.person_id)\n",
    "#plt.hist(results.values)\n",
    "r = pd.value_counts(results.values)\n",
    "plt.bar(r.index, r.values)"
   ]
  },
  {
   "cell_type": "code",
   "execution_count": 7,
   "metadata": {
    "ExecuteTime": {
     "end_time": "2022-11-04T04:43:15.759814Z",
     "start_time": "2022-11-04T04:43:14.936542Z"
    }
   },
   "outputs": [],
   "source": [
    "file_label_mapping = celeba_dataset.get_file_label_mapping()\n",
    "first_file_for_each_person_df = file_label_mapping.sort_values(by='person_id').groupby('person_id').agg(['min', 'count'])\n",
    "ids_morethan5 = list(first_file_for_each_person_df[first_file_for_each_person_df['file_name']['count'] > 5].index)\n"
   ]
  },
  {
   "cell_type": "code",
   "execution_count": 8,
   "metadata": {
    "ExecuteTime": {
     "end_time": "2022-11-04T04:43:22.715360Z",
     "start_time": "2022-11-04T04:43:15.866802Z"
    }
   },
   "outputs": [],
   "source": [
    "def get_files_from_id(dataset, i):\n",
    "    return list(dataset.file_label_mapping[dataset.file_label_mapping['person_id']==i]['file_name'].values)\n",
    "\n",
    "\n",
    "def dict_file2id(mapping):\n",
    "    file2id = {}\n",
    "    for index, row in mapping.iterrows():\n",
    "        file2id[row['file_name']] = row['person_id']\n",
    "    return file2id\n",
    "\n",
    "file2id = dict_file2id(celeba_dataset.file_label_mapping)\n",
    "\n",
    "def dict_id2files(train_files):\n",
    "    id2files = {}\n",
    "    for f in train_files:\n",
    "        l = file2id[f]\n",
    "        if id2files.get(l) is None:\n",
    "            id2files[l] = []\n",
    "        id2files[l].append(f)\n",
    "    return id2files"
   ]
  },
  {
   "cell_type": "code",
   "execution_count": 9,
   "metadata": {
    "ExecuteTime": {
     "end_time": "2022-11-04T04:43:23.091249Z",
     "start_time": "2022-11-04T04:43:23.087779Z"
    }
   },
   "outputs": [],
   "source": [
    "def get_img_from_file(dataset, file_name):\n",
    "    img_path = os.path.join(dataset.root_dir, file_name)\n",
    "    img = Image.open(img_path).convert(\"RGB\")\n",
    "    if dataset.transform:\n",
    "        img = dataset.transform(img)\n",
    "    return img"
   ]
  },
  {
   "cell_type": "code",
   "execution_count": 10,
   "metadata": {
    "ExecuteTime": {
     "end_time": "2022-11-04T04:43:24.007891Z",
     "start_time": "2022-11-04T04:43:23.461137Z"
    }
   },
   "outputs": [],
   "source": [
    "ids_train = random.sample(ids_morethan5, 1000)\n",
    "#ids_all = list(first_file_for_each_person_df.index)\n",
    "ids_test = [i for i in ids_morethan5 if i not in ids_train]\n",
    "train_files = []\n",
    "for i in ids_train:\n",
    "    train_files += get_files_from_id(celeba_dataset, i)\n",
    "id2files = dict_id2files(train_files)"
   ]
  },
  {
   "cell_type": "code",
   "execution_count": 11,
   "metadata": {
    "ExecuteTime": {
     "end_time": "2022-11-04T04:43:26.629665Z",
     "start_time": "2022-11-04T04:43:24.468646Z"
    }
   },
   "outputs": [],
   "source": [
    "batch_size = 128\n",
    "ids_valid = random.sample(ids_test, 500)\n",
    "valid_files = []\n",
    "for i in ids_valid:\n",
    "    valid_files += get_files_from_id(celeba_dataset, i)\n",
    "id2files_valid = dict_id2files(valid_files)\n",
    "valid_batches = []\n",
    "for cursor in range(0, len(ids_valid), batch_size//2):\n",
    "    batch_ids = ids_valid[cursor:cursor+batch_size//2]\n",
    "    batch_img = []\n",
    "    batch_labels = []\n",
    "\n",
    "    for i in batch_ids:\n",
    "        batch_labels += [i,i]\n",
    "        img2 = random.sample(id2files_valid[i], 2)\n",
    "        batch_img += [get_img_from_file(celeba_dataset,f) for f in img2]\n",
    "    \n",
    "    batch_img = torch.stack(batch_img)\n",
    "    batch_labels = torch.tensor(batch_labels)\n",
    "    \n",
    "    valid_batches.append((batch_img, batch_labels))\n"
   ]
  },
  {
   "cell_type": "code",
   "execution_count": 12,
   "metadata": {
    "ExecuteTime": {
     "end_time": "2022-11-04T04:43:27.496260Z",
     "start_time": "2022-11-04T04:43:27.493300Z"
    }
   },
   "outputs": [],
   "source": [
    "def loss_valid(model, valid_batches):\n",
    "    model.eval()\n",
    "    result = []\n",
    "    for batch_img, batch_labels in valid_batches:\n",
    "        embeddings = model(batch_img)\n",
    "        loss = criterion(embeddings, batch_labels)\n",
    "        result.append(loss.cpu().detach().numpy())\n",
    "    return np.mean(result)"
   ]
  },
  {
   "cell_type": "code",
   "execution_count": 16,
   "metadata": {
    "ExecuteTime": {
     "end_time": "2022-11-04T04:44:49.906738Z",
     "start_time": "2022-11-04T04:44:49.479464Z"
    }
   },
   "outputs": [],
   "source": [
    "model = InceptionResnetV1(pretrained='vggface2').to(device)\n",
    "optimizer = optim.SGD(model.parameters(), lr=1e-2, momentum=0.9)\n",
    "# Decay LR by a factor of *gamma* every *step_size* epochs\n",
    "exp_lr_scheduler = lr_scheduler.StepLR(optimizer, step_size=7, gamma=0.1)\n",
    "criterion = NPairLoss()"
   ]
  },
  {
   "cell_type": "code",
   "execution_count": 17,
   "metadata": {
    "ExecuteTime": {
     "end_time": "2022-11-04T05:09:31.756504Z",
     "start_time": "2022-11-04T04:44:50.797413Z"
    }
   },
   "outputs": [
    {
     "name": "stderr",
     "output_type": "stream",
     "text": [
      "                                                                                \r"
     ]
    },
    {
     "name": "stdout",
     "output_type": "stream",
     "text": [
      "Epoch: 0/10 - Loss: 3.6124       Valid loss: 3.5644214153289795\n"
     ]
    },
    {
     "name": "stderr",
     "output_type": "stream",
     "text": [
      "                                                                                \r"
     ]
    },
    {
     "name": "stdout",
     "output_type": "stream",
     "text": [
      "Epoch: 1/10 - Loss: 3.5451       Valid loss: 3.506249189376831\n"
     ]
    },
    {
     "name": "stderr",
     "output_type": "stream",
     "text": [
      "                                                                                \r"
     ]
    },
    {
     "name": "stdout",
     "output_type": "stream",
     "text": [
      "Epoch: 2/10 - Loss: 3.4930       Valid loss: 3.4737277030944824\n"
     ]
    },
    {
     "name": "stderr",
     "output_type": "stream",
     "text": [
      "                                                                                \r"
     ]
    },
    {
     "name": "stdout",
     "output_type": "stream",
     "text": [
      "Epoch: 3/10 - Loss: 3.4638       Valid loss: 3.4544105529785156\n"
     ]
    },
    {
     "name": "stderr",
     "output_type": "stream",
     "text": [
      "                                                                                \r"
     ]
    },
    {
     "name": "stdout",
     "output_type": "stream",
     "text": [
      "Epoch: 4/10 - Loss: 3.4484       Valid loss: 3.442798614501953\n"
     ]
    },
    {
     "name": "stderr",
     "output_type": "stream",
     "text": [
      "                                                                                \r"
     ]
    },
    {
     "name": "stdout",
     "output_type": "stream",
     "text": [
      "Epoch: 5/10 - Loss: 3.4353       Valid loss: 3.435616970062256\n"
     ]
    },
    {
     "name": "stderr",
     "output_type": "stream",
     "text": [
      "                                                                                \r"
     ]
    },
    {
     "name": "stdout",
     "output_type": "stream",
     "text": [
      "Epoch: 6/10 - Loss: 3.4300       Valid loss: 3.4319567680358887\n"
     ]
    },
    {
     "name": "stderr",
     "output_type": "stream",
     "text": [
      "                                                                                \r"
     ]
    },
    {
     "name": "stdout",
     "output_type": "stream",
     "text": [
      "Epoch: 7/10 - Loss: 3.4213       Valid loss: 3.437354803085327\n"
     ]
    },
    {
     "name": "stderr",
     "output_type": "stream",
     "text": [
      "                                                                                \r"
     ]
    },
    {
     "name": "stdout",
     "output_type": "stream",
     "text": [
      "Epoch: 8/10 - Loss: 3.4225       Valid loss: 3.4325528144836426\n"
     ]
    },
    {
     "name": "stderr",
     "output_type": "stream",
     "text": [
      "                                                                                \r"
     ]
    },
    {
     "name": "stdout",
     "output_type": "stream",
     "text": [
      "Epoch: 9/10 - Loss: 3.4110       Valid loss: 3.4337430000305176\n"
     ]
    }
   ],
   "source": [
    "batch_size = 128\n",
    "epochs = 10\n",
    "loss_total = []\n",
    "loss_validation = []\n",
    "for epoch in range(epochs):\n",
    "    running_loss = []\n",
    "    model.train()\n",
    "    for cursor in tqdm(range(0, len(ids_train), batch_size//2),leave=False, desc='bacth'):\n",
    "    #while cursor + batch_size//2 <= len(ids_train):\n",
    "        batch_ids = ids_train[cursor:cursor+batch_size//2]\n",
    "        #cursor += batch_size//2\n",
    "        #batch_ids\n",
    "        # 每个id再随机选择两张图片\n",
    "        batch_img = []\n",
    "        batch_labels = []\n",
    "\n",
    "        for i in batch_ids:\n",
    "            batch_labels += [i,i]\n",
    "            img2 = random.sample(id2files[i], 2)\n",
    "            batch_img += [get_img_from_file(celeba_dataset,f) for f in img2]\n",
    "\n",
    "        batch_img = torch.stack(batch_img)\n",
    "        batch_labels = torch.tensor(batch_labels)\n",
    "\n",
    "        optimizer.zero_grad()\n",
    "        embeddings = model(batch_img)\n",
    "        loss = criterion(embeddings, batch_labels)\n",
    "        loss.backward()\n",
    "        optimizer.step()\n",
    "        \n",
    "        running_loss.append(loss.cpu().detach().numpy())\n",
    "        \n",
    "    loss_total.append(np.mean(running_loss))\n",
    "    loss_v = loss_valid(model, valid_batches)\n",
    "    loss_validation.append(loss_v)\n",
    "    print(\"Epoch: {}/{} - Loss: {:.4f}       Valid loss: {}\".format(epoch, epochs, np.mean(running_loss), loss_v))"
   ]
  },
  {
   "cell_type": "code",
   "execution_count": 31,
   "metadata": {
    "ExecuteTime": {
     "end_time": "2022-11-04T14:25:43.561036Z",
     "start_time": "2022-11-04T14:25:43.427966Z"
    }
   },
   "outputs": [
    {
     "data": {
      "image/png": "[encoded data removed]",
      "text/plain": [
       "<Figure size 600x400 with 1 Axes>"
      ]
     },
     "metadata": {},
     "output_type": "display_data"
    }
   ],
   "source": [
    "x = list(range(10))\n",
    "fig = plt.figure(figsize=(6,4))\n",
    "plt.plot(x, loss_total)\n",
    "plt.plot(x, loss_validation)\n",
    "\n",
    "fig.legend(labels=['training loss','validation loss'])\n",
    "sns.move_legend(obj=fig, loc=\"upper right\", bbox_to_anchor=(.85, .85), title='')"
   ]
  },
  {
   "cell_type": "code",
   "execution_count": null,
   "metadata": {},
   "outputs": [],
   "source": []
  }
 ],
 "metadata": {
  "kernelspec": {
   "display_name": "Python [conda env:tf]",
   "language": "python",
   "name": "conda-env-tf-py"
  },
  "language_info": {
   "codemirror_mode": {
    "name": "ipython",
    "version": 3
   },
   "file_extension": ".py",
   "mimetype": "text/x-python",
   "name": "python",
   "nbconvert_exporter": "python",
   "pygments_lexer": "ipython3",
   "version": "3.9.13"
  },
  "latex_envs": {
   "LaTeX_envs_menu_present": true,
   "autoclose": true,
   "autocomplete": true,
   "bibliofile": "biblio.bib",
   "cite_by": "apalike",
   "current_citInitial": 1,
   "eqLabelWithNumbers": true,
   "eqNumInitial": 1,
   "hotkeys": {
    "equation": "Ctrl-E",
    "itemize": "Ctrl-I"
   },
   "labels_anchors": false,
   "latex_user_defs": false,
   "report_style_numbering": true,
   "user_envs_cfg": false
  },
  "toc": {
   "base_numbering": 1,
   "nav_menu": {},
   "number_sections": true,
   "sideBar": true,
   "skip_h1_title": false,
   "title_cell": "Table of Contents",
   "title_sidebar": "Contents",
   "toc_cell": false,
   "toc_position": {},
   "toc_section_display": true,
   "toc_window_display": false
  },
  "varInspector": {
   "cols": {
    "lenName": 16,
    "lenType": 16,
    "lenVar": 40
   },
   "kernels_config": {
    "python": {
     "delete_cmd_postfix": "",
     "delete_cmd_prefix": "del ",
     "library": "var_list.py",
     "varRefreshCmd": "print(var_dic_list())"
    },
    "r": {
     "delete_cmd_postfix": ") ",
     "delete_cmd_prefix": "rm(",
     "library": "var_list.r",
     "varRefreshCmd": "cat(var_dic_list()) "
    }
   },
   "types_to_exclude": [
    "module",
    "function",
    "builtin_function_or_method",
    "instance",
    "_Feature"
   ],
   "window_display": false
  }
 },
 "nbformat": 4,
 "nbformat_minor": 4
}
